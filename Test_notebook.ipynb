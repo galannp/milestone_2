{
 "cells": [
  {
   "cell_type": "code",
   "execution_count": 3,
   "metadata": {},
   "outputs": [],
   "source": [
    "import pandas as pd\n",
    "\n",
    "DATA_FOLDER = 'generated_data/'\n",
    "\n",
    "QUOTEBANK= DATA_FOLDER+ \"quotes-2019-nytimes.json\""
   ]
  },
  {
   "cell_type": "code",
   "execution_count": 4,
   "metadata": {},
   "outputs": [
    {
     "data": {
      "text/html": [
       "<div>\n",
       "<style scoped>\n",
       "    .dataframe tbody tr th:only-of-type {\n",
       "        vertical-align: middle;\n",
       "    }\n",
       "\n",
       "    .dataframe tbody tr th {\n",
       "        vertical-align: top;\n",
       "    }\n",
       "\n",
       "    .dataframe thead th {\n",
       "        text-align: right;\n",
       "    }\n",
       "</style>\n",
       "<table border=\"1\" class=\"dataframe\">\n",
       "  <thead>\n",
       "    <tr style=\"text-align: right;\">\n",
       "      <th></th>\n",
       "      <th>quoteID</th>\n",
       "      <th>quotation</th>\n",
       "      <th>speaker</th>\n",
       "      <th>qids</th>\n",
       "      <th>date</th>\n",
       "      <th>numOccurrences</th>\n",
       "      <th>probas</th>\n",
       "      <th>urls</th>\n",
       "      <th>phase</th>\n",
       "    </tr>\n",
       "  </thead>\n",
       "  <tbody>\n",
       "    <tr>\n",
       "      <th>0</th>\n",
       "      <td>2019-04-17-024782</td>\n",
       "      <td>It is not a low-income immigration,</td>\n",
       "      <td>James Fisher</td>\n",
       "      <td>[Q16213953, Q20707104, Q43143598, Q58886302, Q...</td>\n",
       "      <td>2019-04-17 13:31:18</td>\n",
       "      <td>1</td>\n",
       "      <td>[[James Fisher, 0.7475], [None, 0.2525]]</td>\n",
       "      <td>[https://www.nytimes.com/2019/04/17/realestate...</td>\n",
       "      <td>E</td>\n",
       "    </tr>\n",
       "    <tr>\n",
       "      <th>1</th>\n",
       "      <td>2019-04-02-001128</td>\n",
       "      <td>a champion figure skater switching to roller s...</td>\n",
       "      <td>John Updike</td>\n",
       "      <td>[Q105756]</td>\n",
       "      <td>2019-04-02 14:58:33</td>\n",
       "      <td>2</td>\n",
       "      <td>[[John Updike, 0.5856], [None, 0.4144]]</td>\n",
       "      <td>[https://www.nytimes.com/2019/04/02/opinion/vl...</td>\n",
       "      <td>E</td>\n",
       "    </tr>\n",
       "    <tr>\n",
       "      <th>2</th>\n",
       "      <td>2019-05-09-055187</td>\n",
       "      <td>It makes it much more difficult for him to mak...</td>\n",
       "      <td>None</td>\n",
       "      <td>[]</td>\n",
       "      <td>2019-05-09 18:11:29</td>\n",
       "      <td>1</td>\n",
       "      <td>[[None, 0.6493], [President Bill Clinton, 0.27...</td>\n",
       "      <td>[http://mobile.nytimes.com/2019/05/09/world/as...</td>\n",
       "      <td>E</td>\n",
       "    </tr>\n",
       "    <tr>\n",
       "      <th>3</th>\n",
       "      <td>2019-10-31-056366</td>\n",
       "      <td>It puts me in a predicament,</td>\n",
       "      <td>Xavier Becerra</td>\n",
       "      <td>[Q1855840]</td>\n",
       "      <td>2019-10-31 16:45:15</td>\n",
       "      <td>3</td>\n",
       "      <td>[[Xavier Becerra, 0.9065], [None, 0.0909], [St...</td>\n",
       "      <td>[http://www.nytimes.com/2019/10/31/technology/...</td>\n",
       "      <td>E</td>\n",
       "    </tr>\n",
       "    <tr>\n",
       "      <th>4</th>\n",
       "      <td>2019-01-04-001792</td>\n",
       "      <td>A Pile of Leaves.</td>\n",
       "      <td>None</td>\n",
       "      <td>[]</td>\n",
       "      <td>2019-01-04 10:00:07</td>\n",
       "      <td>1</td>\n",
       "      <td>[[None, 0.8737], [Jason Fulford, 0.1263]]</td>\n",
       "      <td>[https://www.nytimes.com/2019/01/04/books/revi...</td>\n",
       "      <td>E</td>\n",
       "    </tr>\n",
       "  </tbody>\n",
       "</table>\n",
       "</div>"
      ],
      "text/plain": [
       "             quoteID                                          quotation  \\\n",
       "0  2019-04-17-024782                It is not a low-income immigration,   \n",
       "1  2019-04-02-001128  a champion figure skater switching to roller s...   \n",
       "2  2019-05-09-055187  It makes it much more difficult for him to mak...   \n",
       "3  2019-10-31-056366                       It puts me in a predicament,   \n",
       "4  2019-01-04-001792                                  A Pile of Leaves.   \n",
       "\n",
       "          speaker                                               qids  \\\n",
       "0    James Fisher  [Q16213953, Q20707104, Q43143598, Q58886302, Q...   \n",
       "1     John Updike                                          [Q105756]   \n",
       "2            None                                                 []   \n",
       "3  Xavier Becerra                                         [Q1855840]   \n",
       "4            None                                                 []   \n",
       "\n",
       "                 date  numOccurrences  \\\n",
       "0 2019-04-17 13:31:18               1   \n",
       "1 2019-04-02 14:58:33               2   \n",
       "2 2019-05-09 18:11:29               1   \n",
       "3 2019-10-31 16:45:15               3   \n",
       "4 2019-01-04 10:00:07               1   \n",
       "\n",
       "                                              probas  \\\n",
       "0           [[James Fisher, 0.7475], [None, 0.2525]]   \n",
       "1            [[John Updike, 0.5856], [None, 0.4144]]   \n",
       "2  [[None, 0.6493], [President Bill Clinton, 0.27...   \n",
       "3  [[Xavier Becerra, 0.9065], [None, 0.0909], [St...   \n",
       "4          [[None, 0.8737], [Jason Fulford, 0.1263]]   \n",
       "\n",
       "                                                urls phase  \n",
       "0  [https://www.nytimes.com/2019/04/17/realestate...     E  \n",
       "1  [https://www.nytimes.com/2019/04/02/opinion/vl...     E  \n",
       "2  [http://mobile.nytimes.com/2019/05/09/world/as...     E  \n",
       "3  [http://www.nytimes.com/2019/10/31/technology/...     E  \n",
       "4  [https://www.nytimes.com/2019/01/04/books/revi...     E  "
      ]
     },
     "execution_count": 4,
     "metadata": {},
     "output_type": "execute_result"
    }
   ],
   "source": [
    "quotebank = pd.read_json(QUOTEBANK, lines=True)\n",
    "quotebank.head()"
   ]
  },
  {
   "cell_type": "code",
   "execution_count": 5,
   "metadata": {},
   "outputs": [
    {
     "data": {
      "text/plain": [
       "quoteID                                           2019-04-02-001128\n",
       "quotation         a champion figure skater switching to roller s...\n",
       "speaker                                                 John Updike\n",
       "qids                                                      [Q105756]\n",
       "date                                            2019-04-02 14:58:33\n",
       "numOccurrences                                                    2\n",
       "probas                      [[John Updike, 0.5856], [None, 0.4144]]\n",
       "urls              [https://www.nytimes.com/2019/04/02/opinion/vl...\n",
       "phase                                                             E\n",
       "Name: 1, dtype: object"
      ]
     },
     "execution_count": 5,
     "metadata": {},
     "output_type": "execute_result"
    }
   ],
   "source": [
    "quotebank.loc[1]"
   ]
  },
  {
   "cell_type": "code",
   "execution_count": 6,
   "metadata": {},
   "outputs": [
    {
     "data": {
      "text/plain": [
       "1    a champion figure skater switching to roller s...\n",
       "2    It makes it much more difficult for him to mak...\n",
       "Name: quotation, dtype: object"
      ]
     },
     "execution_count": 6,
     "metadata": {},
     "output_type": "execute_result"
    }
   ],
   "source": [
    "quotebank.loc[1:2]['quotation']"
   ]
  },
  {
   "cell_type": "code",
   "execution_count": 7,
   "metadata": {},
   "outputs": [
    {
     "data": {
      "text/plain": [
       "['https://www.nytimes.com/2019/04/02/opinion/vladimir-nabokov-literary-refugee.html?partner=rss&emc=rss',\n",
       " 'https://nationalpost.com/opinion/robert-fulford-vladimir-nabokovs-remarkable-works-remain-as-powerful-as-ever']"
      ]
     },
     "execution_count": 7,
     "metadata": {},
     "output_type": "execute_result"
    }
   ],
   "source": [
    "quotebank.loc[1]['urls']"
   ]
  },
  {
   "cell_type": "code",
   "execution_count": 8,
   "metadata": {},
   "outputs": [
    {
     "data": {
      "text/plain": [
       "286       Other women's basketball programs, including G...\n",
       "355       I find myself more concerned about the terribl...\n",
       "430       slow ascension to leadership and elevated attr...\n",
       "806       Because in the beginning, there were more male...\n",
       "827       No more women refs, no women announcers, no wo...\n",
       "                                ...                        \n",
       "207309    It was a night about women and L.G.B.T.Q. peop...\n",
       "207342             That's what women are craving right now,\n",
       "207377    As a trailblazer for women and minorities such...\n",
       "207389    focused on raising the profiles of prominent w...\n",
       "207475             We are shifting more resources to women,\n",
       "Name: quotation, Length: 2125, dtype: object"
      ]
     },
     "execution_count": 8,
     "metadata": {},
     "output_type": "execute_result"
    }
   ],
   "source": [
    "quotebank[quotebank['quotation'].str.contains('women')]['quotation']"
   ]
  },
  {
   "cell_type": "code",
   "execution_count": 9,
   "metadata": {},
   "outputs": [
    {
     "data": {
      "text/html": [
       "<div>\n",
       "<style scoped>\n",
       "    .dataframe tbody tr th:only-of-type {\n",
       "        vertical-align: middle;\n",
       "    }\n",
       "\n",
       "    .dataframe tbody tr th {\n",
       "        vertical-align: top;\n",
       "    }\n",
       "\n",
       "    .dataframe thead th {\n",
       "        text-align: right;\n",
       "    }\n",
       "</style>\n",
       "<table border=\"1\" class=\"dataframe\">\n",
       "  <thead>\n",
       "    <tr style=\"text-align: right;\">\n",
       "      <th></th>\n",
       "      <th>quoteID</th>\n",
       "      <th>quotation</th>\n",
       "      <th>speaker</th>\n",
       "      <th>qids</th>\n",
       "      <th>date</th>\n",
       "      <th>numOccurrences</th>\n",
       "      <th>probas</th>\n",
       "      <th>urls</th>\n",
       "      <th>phase</th>\n",
       "    </tr>\n",
       "  </thead>\n",
       "  <tbody>\n",
       "    <tr>\n",
       "      <th>414</th>\n",
       "      <td>2019-04-26-044510</td>\n",
       "      <td>opportunist, not a victim.</td>\n",
       "      <td>None</td>\n",
       "      <td>[]</td>\n",
       "      <td>2019-04-26 11:54:00</td>\n",
       "      <td>2</td>\n",
       "      <td>[[None, 0.5642], [Luke Walton, 0.4306], [Bill ...</td>\n",
       "      <td>[https://www.sacbee.com/sports/nba/sacramento-...</td>\n",
       "      <td>E</td>\n",
       "    </tr>\n",
       "    <tr>\n",
       "      <th>629</th>\n",
       "      <td>2019-11-11-020966</td>\n",
       "      <td>has deployed vast resources from criminal proc...</td>\n",
       "      <td>None</td>\n",
       "      <td>[]</td>\n",
       "      <td>2019-11-11 19:56:10</td>\n",
       "      <td>6</td>\n",
       "      <td>[[None, 0.6823], [Vladimir Putin, 0.2756], [To...</td>\n",
       "      <td>[http://uspolitics.einnews.com/article/5018939...</td>\n",
       "      <td>E</td>\n",
       "    </tr>\n",
       "    <tr>\n",
       "      <th>710</th>\n",
       "      <td>2019-03-12-108197</td>\n",
       "      <td>Yeah I'm a lady, I make my dough/Won' t play t...</td>\n",
       "      <td>None</td>\n",
       "      <td>[]</td>\n",
       "      <td>2019-03-12 17:57:20</td>\n",
       "      <td>4</td>\n",
       "      <td>[[None, 0.623], [Maren Morris, 0.377]]</td>\n",
       "      <td>[https://www.nytimes.com/2019/03/12/arts/music...</td>\n",
       "      <td>E</td>\n",
       "    </tr>\n",
       "    <tr>\n",
       "      <th>1077</th>\n",
       "      <td>2019-08-29-049744</td>\n",
       "      <td>It is through their hard work that we can begi...</td>\n",
       "      <td>None</td>\n",
       "      <td>[]</td>\n",
       "      <td>2019-08-29 19:14:59</td>\n",
       "      <td>250</td>\n",
       "      <td>[[None, 0.9075], [Simone Biles, 0.0588], [Mich...</td>\n",
       "      <td>[https://www.cleveland.com/metro/2019/08/olymp...</td>\n",
       "      <td>E</td>\n",
       "    </tr>\n",
       "    <tr>\n",
       "      <th>1233</th>\n",
       "      <td>2019-05-16-069859</td>\n",
       "      <td>Never before have the visual arts been the sub...</td>\n",
       "      <td>Robert Hughes</td>\n",
       "      <td>[Q11891025, Q14950313, Q1811222, Q2157629, Q28...</td>\n",
       "      <td>2019-05-16 15:53:59</td>\n",
       "      <td>2</td>\n",
       "      <td>[[Robert Hughes, 0.9106], [None, 0.0456], [Mic...</td>\n",
       "      <td>[https://www.nytimes.com/2019/05/16/books/revi...</td>\n",
       "      <td>E</td>\n",
       "    </tr>\n",
       "    <tr>\n",
       "      <th>...</th>\n",
       "      <td>...</td>\n",
       "      <td>...</td>\n",
       "      <td>...</td>\n",
       "      <td>...</td>\n",
       "      <td>...</td>\n",
       "      <td>...</td>\n",
       "      <td>...</td>\n",
       "      <td>...</td>\n",
       "      <td>...</td>\n",
       "    </tr>\n",
       "    <tr>\n",
       "      <th>205176</th>\n",
       "      <td>2019-02-19-047704</td>\n",
       "      <td>Indian police investigations into mob attacks ...</td>\n",
       "      <td>None</td>\n",
       "      <td>[]</td>\n",
       "      <td>2019-02-19 03:24:34</td>\n",
       "      <td>16</td>\n",
       "      <td>[[None, 0.8332], [Mohammed Qasim, 0.095], [Moh...</td>\n",
       "      <td>[http://www.nytimes.com/2019/02/18/world/asia/...</td>\n",
       "      <td>E</td>\n",
       "    </tr>\n",
       "    <tr>\n",
       "      <th>205378</th>\n",
       "      <td>2019-01-25-069108</td>\n",
       "      <td>not a voice for victims,</td>\n",
       "      <td>None</td>\n",
       "      <td>[]</td>\n",
       "      <td>2019-01-25 22:31:00</td>\n",
       "      <td>1</td>\n",
       "      <td>[[None, 0.9331], [Michael Jackson, 0.0669]]</td>\n",
       "      <td>[http://nytimes.com/2019/01/25/movies/michael-...</td>\n",
       "      <td>E</td>\n",
       "    </tr>\n",
       "    <tr>\n",
       "      <th>206376</th>\n",
       "      <td>2019-04-19-004562</td>\n",
       "      <td>being treated as a victim and a witness in thi...</td>\n",
       "      <td>None</td>\n",
       "      <td>[]</td>\n",
       "      <td>2019-04-19 17:07:42</td>\n",
       "      <td>1</td>\n",
       "      <td>[[None, 0.6775], [Steve Soboroff, 0.2886], [Ni...</td>\n",
       "      <td>[https://www.nytimes.com/2019/04/19/us/nipsey-...</td>\n",
       "      <td>E</td>\n",
       "    </tr>\n",
       "    <tr>\n",
       "      <th>206629</th>\n",
       "      <td>2019-11-30-040734</td>\n",
       "      <td>The Utah family was tormented with hundreds of...</td>\n",
       "      <td>None</td>\n",
       "      <td>[]</td>\n",
       "      <td>2019-11-30 22:23:40</td>\n",
       "      <td>28</td>\n",
       "      <td>[[None, 0.9258], [John W. Huber, 0.0399], [Dav...</td>\n",
       "      <td>[http://nytimes.com/2019/11/30/us/loren-okamur...</td>\n",
       "      <td>E</td>\n",
       "    </tr>\n",
       "    <tr>\n",
       "      <th>207345</th>\n",
       "      <td>2019-04-01-088752</td>\n",
       "      <td>The N.Y.P.D. takes sexual assault and rape cas...</td>\n",
       "      <td>None</td>\n",
       "      <td>[]</td>\n",
       "      <td>2019-04-01 00:00:00</td>\n",
       "      <td>30</td>\n",
       "      <td>[[None, 0.8715], [David Blaine, 0.1127], [Sopa...</td>\n",
       "      <td>[https://abcnews.go.com/US/magician-david-blai...</td>\n",
       "      <td>E</td>\n",
       "    </tr>\n",
       "  </tbody>\n",
       "</table>\n",
       "<p>521 rows × 9 columns</p>\n",
       "</div>"
      ],
      "text/plain": [
       "                  quoteID                                          quotation  \\\n",
       "414     2019-04-26-044510                         opportunist, not a victim.   \n",
       "629     2019-11-11-020966  has deployed vast resources from criminal proc...   \n",
       "710     2019-03-12-108197  Yeah I'm a lady, I make my dough/Won' t play t...   \n",
       "1077    2019-08-29-049744  It is through their hard work that we can begi...   \n",
       "1233    2019-05-16-069859  Never before have the visual arts been the sub...   \n",
       "...                   ...                                                ...   \n",
       "205176  2019-02-19-047704  Indian police investigations into mob attacks ...   \n",
       "205378  2019-01-25-069108                           not a voice for victims,   \n",
       "206376  2019-04-19-004562  being treated as a victim and a witness in thi...   \n",
       "206629  2019-11-30-040734  The Utah family was tormented with hundreds of...   \n",
       "207345  2019-04-01-088752  The N.Y.P.D. takes sexual assault and rape cas...   \n",
       "\n",
       "              speaker                                               qids  \\\n",
       "414              None                                                 []   \n",
       "629              None                                                 []   \n",
       "710              None                                                 []   \n",
       "1077             None                                                 []   \n",
       "1233    Robert Hughes  [Q11891025, Q14950313, Q1811222, Q2157629, Q28...   \n",
       "...               ...                                                ...   \n",
       "205176           None                                                 []   \n",
       "205378           None                                                 []   \n",
       "206376           None                                                 []   \n",
       "206629           None                                                 []   \n",
       "207345           None                                                 []   \n",
       "\n",
       "                      date  numOccurrences  \\\n",
       "414    2019-04-26 11:54:00               2   \n",
       "629    2019-11-11 19:56:10               6   \n",
       "710    2019-03-12 17:57:20               4   \n",
       "1077   2019-08-29 19:14:59             250   \n",
       "1233   2019-05-16 15:53:59               2   \n",
       "...                    ...             ...   \n",
       "205176 2019-02-19 03:24:34              16   \n",
       "205378 2019-01-25 22:31:00               1   \n",
       "206376 2019-04-19 17:07:42               1   \n",
       "206629 2019-11-30 22:23:40              28   \n",
       "207345 2019-04-01 00:00:00              30   \n",
       "\n",
       "                                                   probas  \\\n",
       "414     [[None, 0.5642], [Luke Walton, 0.4306], [Bill ...   \n",
       "629     [[None, 0.6823], [Vladimir Putin, 0.2756], [To...   \n",
       "710                [[None, 0.623], [Maren Morris, 0.377]]   \n",
       "1077    [[None, 0.9075], [Simone Biles, 0.0588], [Mich...   \n",
       "1233    [[Robert Hughes, 0.9106], [None, 0.0456], [Mic...   \n",
       "...                                                   ...   \n",
       "205176  [[None, 0.8332], [Mohammed Qasim, 0.095], [Moh...   \n",
       "205378        [[None, 0.9331], [Michael Jackson, 0.0669]]   \n",
       "206376  [[None, 0.6775], [Steve Soboroff, 0.2886], [Ni...   \n",
       "206629  [[None, 0.9258], [John W. Huber, 0.0399], [Dav...   \n",
       "207345  [[None, 0.8715], [David Blaine, 0.1127], [Sopa...   \n",
       "\n",
       "                                                     urls phase  \n",
       "414     [https://www.sacbee.com/sports/nba/sacramento-...     E  \n",
       "629     [http://uspolitics.einnews.com/article/5018939...     E  \n",
       "710     [https://www.nytimes.com/2019/03/12/arts/music...     E  \n",
       "1077    [https://www.cleveland.com/metro/2019/08/olymp...     E  \n",
       "1233    [https://www.nytimes.com/2019/05/16/books/revi...     E  \n",
       "...                                                   ...   ...  \n",
       "205176  [http://www.nytimes.com/2019/02/18/world/asia/...     E  \n",
       "205378  [http://nytimes.com/2019/01/25/movies/michael-...     E  \n",
       "206376  [https://www.nytimes.com/2019/04/19/us/nipsey-...     E  \n",
       "206629  [http://nytimes.com/2019/11/30/us/loren-okamur...     E  \n",
       "207345  [https://abcnews.go.com/US/magician-david-blai...     E  \n",
       "\n",
       "[521 rows x 9 columns]"
      ]
     },
     "execution_count": 9,
     "metadata": {},
     "output_type": "execute_result"
    }
   ],
   "source": [
    "quotebank[quotebank['quotation'].str.contains('victim')]"
   ]
  },
  {
   "cell_type": "code",
   "execution_count": 10,
   "metadata": {},
   "outputs": [
    {
     "data": {
      "text/plain": [
       "414                              opportunist, not a victim.\n",
       "629       has deployed vast resources from criminal proc...\n",
       "710       Yeah I'm a lady, I make my dough/Won' t play t...\n",
       "1077      It is through their hard work that we can begi...\n",
       "1233      Never before have the visual arts been the sub...\n",
       "                                ...                        \n",
       "205176    Indian police investigations into mob attacks ...\n",
       "205378                             not a voice for victims,\n",
       "206376    being treated as a victim and a witness in thi...\n",
       "206629    The Utah family was tormented with hundreds of...\n",
       "207345    The N.Y.P.D. takes sexual assault and rape cas...\n",
       "Name: quotation, Length: 521, dtype: object"
      ]
     },
     "execution_count": 10,
     "metadata": {},
     "output_type": "execute_result"
    }
   ],
   "source": [
    "quotebank[quotebank['quotation'].str.contains('victim')]['quotation']"
   ]
  },
  {
   "cell_type": "code",
   "execution_count": 11,
   "metadata": {},
   "outputs": [
    {
     "data": {
      "text/plain": [
       "521"
      ]
     },
     "execution_count": 11,
     "metadata": {},
     "output_type": "execute_result"
    }
   ],
   "source": [
    "import numpy as np\n",
    "np.sum(quotebank['quotation'].str.contains('victim'))"
   ]
  },
  {
   "cell_type": "code",
   "execution_count": 12,
   "metadata": {},
   "outputs": [],
   "source": [
    "vocabulary= ('Muslim','Islam ','Veil ','Burqa','sharia','ideology',\n",
    "             'Western','migrant','Immigration','Victims ','Protect',\n",
    "             'Save','Violence','Men','Dangerous','extremist','attacks',\n",
    "             'terrorism','misogyny','sexism','Equal wages','Gender equality',\n",
    "             'equity','gender gap','femonationalism')"
   ]
  },
  {
   "cell_type": "code",
   "execution_count": 14,
   "metadata": {},
   "outputs": [
    {
     "name": "stdout",
     "output_type": "stream",
     "text": [
      "211 occurences of the word Muslim\n",
      "34 occurences of the word Islam \n",
      "3 occurences of the word Veil \n",
      "0 occurences of the word Burqa\n",
      "0 occurences of the word sharia\n",
      "96 occurences of the word ideology\n",
      "167 occurences of the word Western\n",
      "367 occurences of the word migrant\n",
      "21 occurences of the word Immigration\n",
      "5 occurences of the word Victims \n",
      "45 occurences of the word Protect\n",
      "29 occurences of the word Save\n",
      "24 occurences of the word Violence\n",
      "157 occurences of the word Men\n",
      "20 occurences of the word Dangerous\n",
      "67 occurences of the word extremist\n",
      "244 occurences of the word attacks\n",
      "166 occurences of the word terrorism\n",
      "20 occurences of the word misogyny\n",
      "33 occurences of the word sexism\n",
      "0 occurences of the word Equal wages\n",
      "0 occurences of the word Gender equality\n",
      "82 occurences of the word equity\n",
      "1 occurences of the word gender gap\n",
      "0 occurences of the word femonationalism\n"
     ]
    }
   ],
   "source": [
    "for index, word in enumerate(vocabulary):\n",
    "    occurences = np.sum(quotebank['quotation'].str.contains(word))\n",
    "    print(occurences, 'occurences of the word' , word)\n",
    "    #print(index)"
   ]
  },
  {
   "cell_type": "code",
   "execution_count": 15,
   "metadata": {},
   "outputs": [],
   "source": [
    "vocabulary2 = ('Tesla','Electric vehicle','EV', 'electric vehicle')"
   ]
  },
  {
   "cell_type": "code",
   "execution_count": 16,
   "metadata": {},
   "outputs": [
    {
     "name": "stdout",
     "output_type": "stream",
     "text": [
      "20 occurences of the word Tesla\n",
      "0 occurences of the word Electric vehicle\n",
      "25 occurences of the word EV\n",
      "12 occurences of the word electric vehicle\n"
     ]
    }
   ],
   "source": [
    "for index, word in enumerate(vocabulary2):\n",
    "    occurences = np.sum(quotebank['quotation'].str.contains(word))\n",
    "    print(occurences, 'occurences of the word' , word)\n",
    "    #print(index)"
   ]
  },
  {
   "cell_type": "code",
   "execution_count": 21,
   "metadata": {},
   "outputs": [
    {
     "data": {
      "text/plain": [
       "981       were as big a symbol of American achievement i...\n",
       "27543           The electric vehicle sound is its identity,\n",
       "31940     This shift has been occurring for some time an...\n",
       "39222     Removing vehicles like the Chevy Bolt and proh...\n",
       "53755     It's still early days, but we think people wil...\n",
       "64615     My OFF Fossil Fuels Act (H.R. 3671) would take...\n",
       "70194     We want to dispel the idea of range anxiety, a...\n",
       "141862    I have long been an advocate of aggressive cli...\n",
       "147121    We have a lot of car enthusiasts who love thei...\n",
       "157960    We can build the electric vehicles right here ...\n",
       "176690    We'll know the Republicans are sincere when th...\n",
       "205851    Lithium-ion batteries have revolutionized our ...\n",
       "Name: quotation, dtype: object"
      ]
     },
     "execution_count": 21,
     "metadata": {},
     "output_type": "execute_result"
    }
   ],
   "source": [
    "quotebank[quotebank['quotation'].str.contains('electric vehicle')]['quotation']"
   ]
  },
  {
   "cell_type": "code",
   "execution_count": 67,
   "metadata": {},
   "outputs": [
    {
     "data": {
      "text/plain": [
       "'Lithium-ion batteries have revolutionized our lives and are used in everything from mobile phones to laptops and electric vehicles,'"
      ]
     },
     "execution_count": 67,
     "metadata": {},
     "output_type": "execute_result"
    }
   ],
   "source": [
    "quotebank[quotebank['quotation'].str.contains('electric vehicle')]['quotation'].iloc[-1]"
   ]
  },
  {
   "cell_type": "markdown",
   "metadata": {},
   "source": [
    "# Testing loading Json functions"
   ]
  },
  {
   "cell_type": "code",
   "execution_count": 62,
   "metadata": {},
   "outputs": [],
   "source": [
    "def process_chunk(chunk, vocabulary):\n",
    "    print(f'Processing chunk with {len(chunk)} rows')\n",
    "    print(chunk.columns)\n",
    "    occurences = np.zeros(len(vocabulary))\n",
    "    for index, word in enumerate(vocabulary):\n",
    "        occurences[index] = np.sum(chunk['quotation'].str.contains(word)) \n",
    "    return occurences\n",
    "        \n",
    "def colab_count_occurences_word(path_to_file, vocabulary, chunksize = 10 ** 4):\n",
    "    occurences = np.zeros(len(vocabulary))\n",
    "    for chunk in pd.read_json(path_to_file, lines=True, compression='bz2', chunksize=chunksize):\n",
    "            occurences = occurences + process_chunk(chunk, vocabulary)\n",
    "    return occurences\n",
    "\n",
    "def count_occurences_word(path_to_file, vocabulary, chunksize = 10 ** 4):\n",
    "    occurences = np.zeros(len(vocabulary))\n",
    "    with pd.read_json(path_to_file, lines=True, compression='bz2', chunksize=chunksize) as df_reader:\n",
    "        for chunk in df_reader:\n",
    "            occurences = occurences + process_chunk(chunk, vocabulary)\n",
    "    return occurences\n",
    "\n",
    "def count_occurences_total(Quotebank_tuple, vocabulary, chunksize = 10 ** 6):\n",
    "    years = ('2020','2019','2018','2017','2016','2015')\n",
    "    occ = np.zeros(len(vocabulary))\n",
    "    for i in range(len(Quotebank_tuple)):\n",
    "        print('||||||||||||||||||||||||||year : ', years[i],'||||||||||||||||||||||||||')\n",
    "        occurences = count_occurences_word(Quotebank_tuple[i], vocabulary, chunksize = chunksize)\n",
    "        occ += occurences\n",
    "        for index, word in enumerate(vocabulary):\n",
    "            print(occ[index], 'occurences of the word' , word)\n",
    "    return occ"
   ]
  },
  {
   "cell_type": "code",
   "execution_count": 63,
   "metadata": {},
   "outputs": [
    {
     "data": {
      "text/plain": [
       "'generated_data/quotes-2019-nytimes.json.bz2'"
      ]
     },
     "execution_count": 63,
     "metadata": {},
     "output_type": "execute_result"
    }
   ],
   "source": [
    "DATA_FOLDER = 'generated_data/'\n",
    "\n",
    "QUOTEBANK_bz2= DATA_FOLDER+ \"quotes-2019-nytimes.json.bz2\"\n",
    "Quotebank_tuple = (QUOTEBANK_bz2, QUOTEBANK_bz2, QUOTEBANK_bz2, QUOTEBANK_bz2, QUOTEBANK_bz2, QUOTEBANK_bz2)\n",
    "Quotebank_tuple[1]\n"
   ]
  },
  {
   "cell_type": "code",
   "execution_count": 50,
   "metadata": {},
   "outputs": [
    {
     "name": "stdout",
     "output_type": "stream",
     "text": [
      "Processing chunk with 207527 rows\n",
      "Index(['quoteID', 'quotation', 'speaker', 'qids', 'date', 'numOccurrences',\n",
      "       'probas', 'urls', 'phase'],\n",
      "      dtype='object')\n",
      "211.0 occurences of the word Muslim\n",
      "34.0 occurences of the word Islam \n",
      "3.0 occurences of the word Veil \n",
      "0.0 occurences of the word Burqa\n",
      "0.0 occurences of the word sharia\n",
      "96.0 occurences of the word ideology\n",
      "167.0 occurences of the word Western\n",
      "367.0 occurences of the word migrant\n",
      "21.0 occurences of the word Immigration\n",
      "5.0 occurences of the word Victims \n",
      "45.0 occurences of the word Protect\n",
      "29.0 occurences of the word Save\n",
      "24.0 occurences of the word Violence\n",
      "157.0 occurences of the word Men\n",
      "20.0 occurences of the word Dangerous\n",
      "67.0 occurences of the word extremist\n",
      "244.0 occurences of the word attacks\n",
      "166.0 occurences of the word terrorism\n",
      "20.0 occurences of the word misogyny\n",
      "33.0 occurences of the word sexism\n",
      "0.0 occurences of the word Equal wages\n",
      "0.0 occurences of the word Gender equality\n",
      "82.0 occurences of the word equity\n",
      "1.0 occurences of the word gender gap\n",
      "0.0 occurences of the word femonationalism\n"
     ]
    },
    {
     "data": {
      "text/plain": [
       "array([211.,  34.,   3.,   0.,   0.,  96., 167., 367.,  21.,   5.,  45.,\n",
       "        29.,  24., 157.,  20.,  67., 244., 166.,  20.,  33.,   0.,   0.,\n",
       "        82.,   1.,   0.])"
      ]
     },
     "execution_count": 50,
     "metadata": {},
     "output_type": "execute_result"
    }
   ],
   "source": [
    "count_occurences_word(Quotebank_tuple[1], vocabulary, chunksize = 10 ** 6)"
   ]
  },
  {
   "cell_type": "code",
   "execution_count": 64,
   "metadata": {},
   "outputs": [
    {
     "name": "stdout",
     "output_type": "stream",
     "text": [
      "||||||||||||||||||||||||||year :  2020 ||||||||||||||||||||||||||\n",
      "Processing chunk with 207527 rows\n",
      "Index(['quoteID', 'quotation', 'speaker', 'qids', 'date', 'numOccurrences',\n",
      "       'probas', 'urls', 'phase'],\n",
      "      dtype='object')\n",
      "211.0 occurences of the word Muslim\n",
      "34.0 occurences of the word Islam \n",
      "3.0 occurences of the word Veil \n",
      "0.0 occurences of the word Burqa\n",
      "0.0 occurences of the word sharia\n",
      "96.0 occurences of the word ideology\n",
      "167.0 occurences of the word Western\n",
      "367.0 occurences of the word migrant\n",
      "21.0 occurences of the word Immigration\n",
      "5.0 occurences of the word Victims \n",
      "45.0 occurences of the word Protect\n",
      "29.0 occurences of the word Save\n",
      "24.0 occurences of the word Violence\n",
      "157.0 occurences of the word Men\n",
      "20.0 occurences of the word Dangerous\n",
      "67.0 occurences of the word extremist\n",
      "244.0 occurences of the word attacks\n",
      "166.0 occurences of the word terrorism\n",
      "20.0 occurences of the word misogyny\n",
      "33.0 occurences of the word sexism\n",
      "0.0 occurences of the word Equal wages\n",
      "0.0 occurences of the word Gender equality\n",
      "82.0 occurences of the word equity\n",
      "1.0 occurences of the word gender gap\n",
      "0.0 occurences of the word femonationalism\n",
      "||||||||||||||||||||||||||year :  2019 ||||||||||||||||||||||||||\n",
      "Processing chunk with 207527 rows\n",
      "Index(['quoteID', 'quotation', 'speaker', 'qids', 'date', 'numOccurrences',\n",
      "       'probas', 'urls', 'phase'],\n",
      "      dtype='object')\n",
      "422.0 occurences of the word Muslim\n",
      "68.0 occurences of the word Islam \n",
      "6.0 occurences of the word Veil \n",
      "0.0 occurences of the word Burqa\n",
      "0.0 occurences of the word sharia\n",
      "192.0 occurences of the word ideology\n",
      "334.0 occurences of the word Western\n",
      "734.0 occurences of the word migrant\n",
      "42.0 occurences of the word Immigration\n",
      "10.0 occurences of the word Victims \n",
      "90.0 occurences of the word Protect\n",
      "58.0 occurences of the word Save\n",
      "48.0 occurences of the word Violence\n",
      "314.0 occurences of the word Men\n",
      "40.0 occurences of the word Dangerous\n",
      "134.0 occurences of the word extremist\n",
      "488.0 occurences of the word attacks\n",
      "332.0 occurences of the word terrorism\n",
      "40.0 occurences of the word misogyny\n",
      "66.0 occurences of the word sexism\n",
      "0.0 occurences of the word Equal wages\n",
      "0.0 occurences of the word Gender equality\n",
      "164.0 occurences of the word equity\n",
      "2.0 occurences of the word gender gap\n",
      "0.0 occurences of the word femonationalism\n",
      "||||||||||||||||||||||||||year :  2018 ||||||||||||||||||||||||||\n"
     ]
    },
    {
     "ename": "KeyboardInterrupt",
     "evalue": "",
     "output_type": "error",
     "traceback": [
      "\u001b[0;31m---------------------------------------------------------------------------\u001b[0m",
      "\u001b[0;31mKeyboardInterrupt\u001b[0m                         Traceback (most recent call last)",
      "\u001b[0;32m/var/folders/rm/c9d3nd417cd22ftxybcm9yw80000gn/T/ipykernel_7035/2239336491.py\u001b[0m in \u001b[0;36m<module>\u001b[0;34m\u001b[0m\n\u001b[0;32m----> 1\u001b[0;31m \u001b[0mcount_occurences_total\u001b[0m\u001b[0;34m(\u001b[0m\u001b[0mQuotebank_tuple\u001b[0m\u001b[0;34m,\u001b[0m \u001b[0mvocabulary\u001b[0m\u001b[0;34m,\u001b[0m \u001b[0mchunksize\u001b[0m \u001b[0;34m=\u001b[0m \u001b[0;36m10\u001b[0m \u001b[0;34m**\u001b[0m \u001b[0;36m6\u001b[0m\u001b[0;34m)\u001b[0m\u001b[0;34m\u001b[0m\u001b[0;34m\u001b[0m\u001b[0m\n\u001b[0m",
      "\u001b[0;32m/var/folders/rm/c9d3nd417cd22ftxybcm9yw80000gn/T/ipykernel_7035/3757467086.py\u001b[0m in \u001b[0;36mcount_occurences_total\u001b[0;34m(Quotebank_tuple, vocabulary, chunksize)\u001b[0m\n\u001b[1;32m     25\u001b[0m     \u001b[0;32mfor\u001b[0m \u001b[0mi\u001b[0m \u001b[0;32min\u001b[0m \u001b[0mrange\u001b[0m\u001b[0;34m(\u001b[0m\u001b[0mlen\u001b[0m\u001b[0;34m(\u001b[0m\u001b[0mQuotebank_tuple\u001b[0m\u001b[0;34m)\u001b[0m\u001b[0;34m)\u001b[0m\u001b[0;34m:\u001b[0m\u001b[0;34m\u001b[0m\u001b[0;34m\u001b[0m\u001b[0m\n\u001b[1;32m     26\u001b[0m         \u001b[0mprint\u001b[0m\u001b[0;34m(\u001b[0m\u001b[0;34m'||||||||||||||||||||||||||year : '\u001b[0m\u001b[0;34m,\u001b[0m \u001b[0myears\u001b[0m\u001b[0;34m[\u001b[0m\u001b[0mi\u001b[0m\u001b[0;34m]\u001b[0m\u001b[0;34m,\u001b[0m\u001b[0;34m'||||||||||||||||||||||||||'\u001b[0m\u001b[0;34m)\u001b[0m\u001b[0;34m\u001b[0m\u001b[0;34m\u001b[0m\u001b[0m\n\u001b[0;32m---> 27\u001b[0;31m         \u001b[0moccurences\u001b[0m \u001b[0;34m=\u001b[0m \u001b[0mcount_occurences_word\u001b[0m\u001b[0;34m(\u001b[0m\u001b[0mQuotebank_tuple\u001b[0m\u001b[0;34m[\u001b[0m\u001b[0mi\u001b[0m\u001b[0;34m]\u001b[0m\u001b[0;34m,\u001b[0m \u001b[0mvocabulary\u001b[0m\u001b[0;34m,\u001b[0m \u001b[0mchunksize\u001b[0m \u001b[0;34m=\u001b[0m \u001b[0mchunksize\u001b[0m\u001b[0;34m)\u001b[0m\u001b[0;34m\u001b[0m\u001b[0;34m\u001b[0m\u001b[0m\n\u001b[0m\u001b[1;32m     28\u001b[0m         \u001b[0mocc\u001b[0m \u001b[0;34m+=\u001b[0m \u001b[0moccurences\u001b[0m\u001b[0;34m\u001b[0m\u001b[0;34m\u001b[0m\u001b[0m\n\u001b[1;32m     29\u001b[0m         \u001b[0;32mfor\u001b[0m \u001b[0mindex\u001b[0m\u001b[0;34m,\u001b[0m \u001b[0mword\u001b[0m \u001b[0;32min\u001b[0m \u001b[0menumerate\u001b[0m\u001b[0;34m(\u001b[0m\u001b[0mvocabulary\u001b[0m\u001b[0;34m)\u001b[0m\u001b[0;34m:\u001b[0m\u001b[0;34m\u001b[0m\u001b[0;34m\u001b[0m\u001b[0m\n",
      "\u001b[0;32m/var/folders/rm/c9d3nd417cd22ftxybcm9yw80000gn/T/ipykernel_7035/3757467086.py\u001b[0m in \u001b[0;36mcount_occurences_word\u001b[0;34m(path_to_file, vocabulary, chunksize)\u001b[0m\n\u001b[1;32m     16\u001b[0m     \u001b[0moccurences\u001b[0m \u001b[0;34m=\u001b[0m \u001b[0mnp\u001b[0m\u001b[0;34m.\u001b[0m\u001b[0mzeros\u001b[0m\u001b[0;34m(\u001b[0m\u001b[0mlen\u001b[0m\u001b[0;34m(\u001b[0m\u001b[0mvocabulary\u001b[0m\u001b[0;34m)\u001b[0m\u001b[0;34m)\u001b[0m\u001b[0;34m\u001b[0m\u001b[0;34m\u001b[0m\u001b[0m\n\u001b[1;32m     17\u001b[0m     \u001b[0;32mwith\u001b[0m \u001b[0mpd\u001b[0m\u001b[0;34m.\u001b[0m\u001b[0mread_json\u001b[0m\u001b[0;34m(\u001b[0m\u001b[0mpath_to_file\u001b[0m\u001b[0;34m,\u001b[0m \u001b[0mlines\u001b[0m\u001b[0;34m=\u001b[0m\u001b[0;32mTrue\u001b[0m\u001b[0;34m,\u001b[0m \u001b[0mcompression\u001b[0m\u001b[0;34m=\u001b[0m\u001b[0;34m'bz2'\u001b[0m\u001b[0;34m,\u001b[0m \u001b[0mchunksize\u001b[0m\u001b[0;34m=\u001b[0m\u001b[0mchunksize\u001b[0m\u001b[0;34m)\u001b[0m \u001b[0;32mas\u001b[0m \u001b[0mdf_reader\u001b[0m\u001b[0;34m:\u001b[0m\u001b[0;34m\u001b[0m\u001b[0;34m\u001b[0m\u001b[0m\n\u001b[0;32m---> 18\u001b[0;31m         \u001b[0;32mfor\u001b[0m \u001b[0mchunk\u001b[0m \u001b[0;32min\u001b[0m \u001b[0mdf_reader\u001b[0m\u001b[0;34m:\u001b[0m\u001b[0;34m\u001b[0m\u001b[0;34m\u001b[0m\u001b[0m\n\u001b[0m\u001b[1;32m     19\u001b[0m             \u001b[0moccurences\u001b[0m \u001b[0;34m=\u001b[0m \u001b[0moccurences\u001b[0m \u001b[0;34m+\u001b[0m \u001b[0mprocess_chunk\u001b[0m\u001b[0;34m(\u001b[0m\u001b[0mchunk\u001b[0m\u001b[0;34m,\u001b[0m \u001b[0mvocabulary\u001b[0m\u001b[0;34m)\u001b[0m\u001b[0;34m\u001b[0m\u001b[0;34m\u001b[0m\u001b[0m\n\u001b[1;32m     20\u001b[0m     \u001b[0;32mreturn\u001b[0m \u001b[0moccurences\u001b[0m\u001b[0;34m\u001b[0m\u001b[0;34m\u001b[0m\u001b[0m\n",
      "\u001b[0;32m/Users/Younes/opt/anaconda3/envs/ada/lib/python3.8/site-packages/pandas/io/json/_json.py\u001b[0m in \u001b[0;36m__next__\u001b[0;34m(self)\u001b[0m\n\u001b[1;32m    793\u001b[0m                 \u001b[0;32mraise\u001b[0m \u001b[0mStopIteration\u001b[0m\u001b[0;34m\u001b[0m\u001b[0;34m\u001b[0m\u001b[0m\n\u001b[1;32m    794\u001b[0m \u001b[0;34m\u001b[0m\u001b[0m\n\u001b[0;32m--> 795\u001b[0;31m         \u001b[0mlines\u001b[0m \u001b[0;34m=\u001b[0m \u001b[0mlist\u001b[0m\u001b[0;34m(\u001b[0m\u001b[0mislice\u001b[0m\u001b[0;34m(\u001b[0m\u001b[0mself\u001b[0m\u001b[0;34m.\u001b[0m\u001b[0mdata\u001b[0m\u001b[0;34m,\u001b[0m \u001b[0mself\u001b[0m\u001b[0;34m.\u001b[0m\u001b[0mchunksize\u001b[0m\u001b[0;34m)\u001b[0m\u001b[0;34m)\u001b[0m\u001b[0;34m\u001b[0m\u001b[0;34m\u001b[0m\u001b[0m\n\u001b[0m\u001b[1;32m    796\u001b[0m         \u001b[0;32mif\u001b[0m \u001b[0mlines\u001b[0m\u001b[0;34m:\u001b[0m\u001b[0;34m\u001b[0m\u001b[0;34m\u001b[0m\u001b[0m\n\u001b[1;32m    797\u001b[0m             \u001b[0mlines_json\u001b[0m \u001b[0;34m=\u001b[0m \u001b[0mself\u001b[0m\u001b[0;34m.\u001b[0m\u001b[0m_combine_lines\u001b[0m\u001b[0;34m(\u001b[0m\u001b[0mlines\u001b[0m\u001b[0;34m)\u001b[0m\u001b[0;34m\u001b[0m\u001b[0;34m\u001b[0m\u001b[0m\n",
      "\u001b[0;32m/Users/Younes/opt/anaconda3/envs/ada/lib/python3.8/bz2.py\u001b[0m in \u001b[0;36mread1\u001b[0;34m(self, size)\u001b[0m\n\u001b[1;32m    193\u001b[0m             \u001b[0;32mif\u001b[0m \u001b[0msize\u001b[0m \u001b[0;34m<\u001b[0m \u001b[0;36m0\u001b[0m\u001b[0;34m:\u001b[0m\u001b[0;34m\u001b[0m\u001b[0;34m\u001b[0m\u001b[0m\n\u001b[1;32m    194\u001b[0m                 \u001b[0msize\u001b[0m \u001b[0;34m=\u001b[0m \u001b[0mio\u001b[0m\u001b[0;34m.\u001b[0m\u001b[0mDEFAULT_BUFFER_SIZE\u001b[0m\u001b[0;34m\u001b[0m\u001b[0;34m\u001b[0m\u001b[0m\n\u001b[0;32m--> 195\u001b[0;31m             \u001b[0;32mreturn\u001b[0m \u001b[0mself\u001b[0m\u001b[0;34m.\u001b[0m\u001b[0m_buffer\u001b[0m\u001b[0;34m.\u001b[0m\u001b[0mread1\u001b[0m\u001b[0;34m(\u001b[0m\u001b[0msize\u001b[0m\u001b[0;34m)\u001b[0m\u001b[0;34m\u001b[0m\u001b[0;34m\u001b[0m\u001b[0m\n\u001b[0m\u001b[1;32m    196\u001b[0m \u001b[0;34m\u001b[0m\u001b[0m\n\u001b[1;32m    197\u001b[0m     \u001b[0;32mdef\u001b[0m \u001b[0mreadinto\u001b[0m\u001b[0;34m(\u001b[0m\u001b[0mself\u001b[0m\u001b[0;34m,\u001b[0m \u001b[0mb\u001b[0m\u001b[0;34m)\u001b[0m\u001b[0;34m:\u001b[0m\u001b[0;34m\u001b[0m\u001b[0;34m\u001b[0m\u001b[0m\n",
      "\u001b[0;32m/Users/Younes/opt/anaconda3/envs/ada/lib/python3.8/_compression.py\u001b[0m in \u001b[0;36mreadinto\u001b[0;34m(self, b)\u001b[0m\n\u001b[1;32m     66\u001b[0m     \u001b[0;32mdef\u001b[0m \u001b[0mreadinto\u001b[0m\u001b[0;34m(\u001b[0m\u001b[0mself\u001b[0m\u001b[0;34m,\u001b[0m \u001b[0mb\u001b[0m\u001b[0;34m)\u001b[0m\u001b[0;34m:\u001b[0m\u001b[0;34m\u001b[0m\u001b[0;34m\u001b[0m\u001b[0m\n\u001b[1;32m     67\u001b[0m         \u001b[0;32mwith\u001b[0m \u001b[0mmemoryview\u001b[0m\u001b[0;34m(\u001b[0m\u001b[0mb\u001b[0m\u001b[0;34m)\u001b[0m \u001b[0;32mas\u001b[0m \u001b[0mview\u001b[0m\u001b[0;34m,\u001b[0m \u001b[0mview\u001b[0m\u001b[0;34m.\u001b[0m\u001b[0mcast\u001b[0m\u001b[0;34m(\u001b[0m\u001b[0;34m\"B\"\u001b[0m\u001b[0;34m)\u001b[0m \u001b[0;32mas\u001b[0m \u001b[0mbyte_view\u001b[0m\u001b[0;34m:\u001b[0m\u001b[0;34m\u001b[0m\u001b[0;34m\u001b[0m\u001b[0m\n\u001b[0;32m---> 68\u001b[0;31m             \u001b[0mdata\u001b[0m \u001b[0;34m=\u001b[0m \u001b[0mself\u001b[0m\u001b[0;34m.\u001b[0m\u001b[0mread\u001b[0m\u001b[0;34m(\u001b[0m\u001b[0mlen\u001b[0m\u001b[0;34m(\u001b[0m\u001b[0mbyte_view\u001b[0m\u001b[0;34m)\u001b[0m\u001b[0;34m)\u001b[0m\u001b[0;34m\u001b[0m\u001b[0;34m\u001b[0m\u001b[0m\n\u001b[0m\u001b[1;32m     69\u001b[0m             \u001b[0mbyte_view\u001b[0m\u001b[0;34m[\u001b[0m\u001b[0;34m:\u001b[0m\u001b[0mlen\u001b[0m\u001b[0;34m(\u001b[0m\u001b[0mdata\u001b[0m\u001b[0;34m)\u001b[0m\u001b[0;34m]\u001b[0m \u001b[0;34m=\u001b[0m \u001b[0mdata\u001b[0m\u001b[0;34m\u001b[0m\u001b[0;34m\u001b[0m\u001b[0m\n\u001b[1;32m     70\u001b[0m         \u001b[0;32mreturn\u001b[0m \u001b[0mlen\u001b[0m\u001b[0;34m(\u001b[0m\u001b[0mdata\u001b[0m\u001b[0;34m)\u001b[0m\u001b[0;34m\u001b[0m\u001b[0;34m\u001b[0m\u001b[0m\n",
      "\u001b[0;32m/Users/Younes/opt/anaconda3/envs/ada/lib/python3.8/_compression.py\u001b[0m in \u001b[0;36mread\u001b[0;34m(self, size)\u001b[0m\n\u001b[1;32m    101\u001b[0m                 \u001b[0;32melse\u001b[0m\u001b[0;34m:\u001b[0m\u001b[0;34m\u001b[0m\u001b[0;34m\u001b[0m\u001b[0m\n\u001b[1;32m    102\u001b[0m                     \u001b[0mrawblock\u001b[0m \u001b[0;34m=\u001b[0m \u001b[0;34mb\"\"\u001b[0m\u001b[0;34m\u001b[0m\u001b[0;34m\u001b[0m\u001b[0m\n\u001b[0;32m--> 103\u001b[0;31m                 \u001b[0mdata\u001b[0m \u001b[0;34m=\u001b[0m \u001b[0mself\u001b[0m\u001b[0;34m.\u001b[0m\u001b[0m_decompressor\u001b[0m\u001b[0;34m.\u001b[0m\u001b[0mdecompress\u001b[0m\u001b[0;34m(\u001b[0m\u001b[0mrawblock\u001b[0m\u001b[0;34m,\u001b[0m \u001b[0msize\u001b[0m\u001b[0;34m)\u001b[0m\u001b[0;34m\u001b[0m\u001b[0;34m\u001b[0m\u001b[0m\n\u001b[0m\u001b[1;32m    104\u001b[0m             \u001b[0;32mif\u001b[0m \u001b[0mdata\u001b[0m\u001b[0;34m:\u001b[0m\u001b[0;34m\u001b[0m\u001b[0;34m\u001b[0m\u001b[0m\n\u001b[1;32m    105\u001b[0m                 \u001b[0;32mbreak\u001b[0m\u001b[0;34m\u001b[0m\u001b[0;34m\u001b[0m\u001b[0m\n",
      "\u001b[0;31mKeyboardInterrupt\u001b[0m: "
     ]
    }
   ],
   "source": [
    "count_occurences_total(Quotebank_tuple, vocabulary, chunksize = 10 ** 6)"
   ]
  },
  {
   "cell_type": "code",
   "execution_count": null,
   "metadata": {},
   "outputs": [],
   "source": []
  }
 ],
 "metadata": {
  "kernelspec": {
   "display_name": "Python 3 (ipykernel)",
   "language": "python",
   "name": "python3"
  },
  "language_info": {
   "codemirror_mode": {
    "name": "ipython",
    "version": 3
   },
   "file_extension": ".py",
   "mimetype": "text/x-python",
   "name": "python",
   "nbconvert_exporter": "python",
   "pygments_lexer": "ipython3",
   "version": "3.8.12"
  },
  "varInspector": {
   "cols": {
    "lenName": 16,
    "lenType": 16,
    "lenVar": 40
   },
   "kernels_config": {
    "python": {
     "delete_cmd_postfix": "",
     "delete_cmd_prefix": "del ",
     "library": "var_list.py",
     "varRefreshCmd": "print(var_dic_list())"
    },
    "r": {
     "delete_cmd_postfix": ") ",
     "delete_cmd_prefix": "rm(",
     "library": "var_list.r",
     "varRefreshCmd": "cat(var_dic_list()) "
    }
   },
   "types_to_exclude": [
    "module",
    "function",
    "builtin_function_or_method",
    "instance",
    "_Feature"
   ],
   "window_display": false
  }
 },
 "nbformat": 4,
 "nbformat_minor": 4
}
