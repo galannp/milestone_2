{
 "cells": [
  {
   "cell_type": "markdown",
   "id": "7eaaa1fc-6a2e-4739-ae3e-be90ffe237c9",
   "metadata": {},
   "source": [
    "# Project Milestone2 - Group Concatsanddogs"
   ]
  },
  {
   "cell_type": "markdown",
   "id": "690106c9-c202-4b13-a41c-335544c35ecd",
   "metadata": {},
   "source": [
    "# The use of women's rights and gender equality rhetoric in the US"
   ]
  },
  {
   "cell_type": "markdown",
   "id": "a6858764-e568-45ca-a871-5c5fa855b5b5",
   "metadata": {},
   "source": [
    "## Header"
   ]
  },
  {
   "cell_type": "markdown",
   "id": "8987c2ee-6b5d-496c-9450-163f1ab569a1",
   "metadata": {},
   "source": [
    "This notebook is organized followings the different steps used in our pipeline. We first create a list of keywords using [web scraping](#Webscraping) and a personal list of keywords. \n",
    "With this list of keywords we [select](#Dataset-selection-from-Quotebank-database) a subset of the Quotebank database. This subset will be our starting dataset for our project. "
   ]
  },
  {
   "cell_type": "markdown",
   "id": "569a8fe1-2f1f-45ed-b256-75a7ddd90a72",
   "metadata": {},
   "source": [
    "## General librairies"
   ]
  },
  {
   "cell_type": "code",
   "execution_count": 7,
   "id": "ef090096-3676-405b-a169-7efe712c5b81",
   "metadata": {},
   "outputs": [],
   "source": [
    "import pandas as pd\n",
    "import numpy as np"
   ]
  },
  {
   "cell_type": "markdown",
   "id": "f294bf29-de89-4787-805b-0f98233329f1",
   "metadata": {},
   "source": [
    "## Webscraping"
   ]
  },
  {
   "cell_type": "markdown",
   "id": "cef16436-c959-41b4-a35b-aacc530377ab",
   "metadata": {},
   "source": [
    "AMINA TO ADD"
   ]
  },
  {
   "cell_type": "markdown",
   "id": "20430e1b-9f9c-445d-9e25-7b447c2395df",
   "metadata": {},
   "source": [
    "### Libraries"
   ]
  },
  {
   "cell_type": "markdown",
   "id": "393d0fde-ee26-4582-abc4-445db2682a22",
   "metadata": {},
   "source": [
    "### Functions"
   ]
  },
  {
   "cell_type": "markdown",
   "id": "d551a663-d2c4-4844-94db-6a8f4c2a3ed6",
   "metadata": {},
   "source": [
    "## Dataset selection from Quotebank database"
   ]
  },
  {
   "cell_type": "markdown",
   "id": "8ea3d42c-938d-4915-b6f5-4426b078eed0",
   "metadata": {},
   "source": [
    "### Librairies"
   ]
  },
  {
   "cell_type": "code",
   "execution_count": null,
   "id": "a7f9b793-f2e2-481f-8080-068996db859b",
   "metadata": {},
   "outputs": [],
   "source": [
    "import os \n"
   ]
  },
  {
   "cell_type": "markdown",
   "id": "3d1d7808-e93a-4d3f-b9c1-42ca2756c8a8",
   "metadata": {
    "jp-MarkdownHeadingCollapsed": true,
    "tags": []
   },
   "source": [
    "### Functions"
   ]
  },
  {
   "cell_type": "code",
   "execution_count": 8,
   "id": "161934f4-7a89-4a52-a21d-9c2b9dc186ce",
   "metadata": {},
   "outputs": [],
   "source": [
    "#Processing on chunk\n",
    "#Input\n",
    "#Output\n",
    "def process_chunk(chunk, vocabulary):\n",
    "    print(f'Processing chunk with {len(chunk)} rows')\n",
    "    #print(chunk.columns)\n",
    "    occurences = np.zeros(len(vocabulary))\n",
    "    for index, word in enumerate(vocabulary):\n",
    "        occurences[index] = np.sum(chunk['quotation'].str.contains(word)) \n",
    "    return occurences\n",
    "\n",
    "#Select quotes containing keywords\n",
    "def select_quotes_chunk(chunk, keywords):\n",
    "    print(f'Processing chunk with {len(chunk)} rows')\n",
    "    return chunk[chunk['quotation'].str.contains('|'.join(keywords))]\n",
    "\n",
    "#Use the selection function on each chunk of the full dataset \n",
    "def select_quotes_one_year(path_to_file, vocabulary, chunksize = 10 ** 4):\n",
    "    with pd.read_json(path_to_file, lines=True, compression='bz2', chunksize=chunksize) as df_reader:\n",
    "        for index, chunk in enumerate(df_reader):\n",
    "            if not index==0:\n",
    "                selected_df = pd.concat([selected_df, select_quotes_chunk(chunk, vocabulary)])\n",
    "            else: \n",
    "                selected_df = select_quotes_chunk(chunk, vocabulary)\n",
    "    return selected_df\n",
    "\n",
    "#Use the selection function on each chunk of the full dataset \n",
    "#Dumps the selected quotes into a new json file\n",
    "def select_and_dump(path_to_file, vocabulary, chunksize = 10 ** 4):\n",
    "    with pd.read_json(path_to_file, lines=True, compression='bz2', chunksize=chunksize) as df_reader:\n",
    "        for index, chunk in enumerate(df_reader):\n",
    "            #Dump selected quotes\n",
    "            selected_df = select_quotes_chunk(chunk, vocabulary)\n",
    "            pickle_file_name =randomword(10) +'.pkl'\n",
    "            selected_df.to_pickle('files/'+pickle_file_name)\n",
    "            #if not index==0:\n",
    "                #selected_df = pd.concat([selected_df, select_quotes_chunk(chunk, vocabulary)])\n",
    "            #else: \n",
    "               # selected_df = select_quotes_chunk(chunk, vocabulary)\n",
    "    return selected_df\n",
    "\n",
    "\n",
    "import random, string\n",
    "\n",
    "def randomword(length):\n",
    "    letters = string.ascii_lowercase\n",
    "    return ''.join(random.choice(letters) for i in range(length))"
   ]
  },
  {
   "cell_type": "markdown",
   "id": "a6485950-baf8-4991-8f23-352efaddb36b",
   "metadata": {},
   "source": [
    "### Constants "
   ]
  },
  {
   "cell_type": "code",
   "execution_count": null,
   "id": "27db09ff-680c-4ffd-b303-c36b6c012026",
   "metadata": {},
   "outputs": [],
   "source": [
    "DATA_FOLDER = '../data/'\n",
    "QUOTEBANK_2020 = DATA_FOLDER+ \"quotes-2020.json.bz2\"\n",
    "QUOTEBANK_2019 = DATA_FOLDER+ \"quotes-2019.json.bz2\"\n",
    "QUOTEBANK_2017 = DATA_FOLDER+ \"quotes-2017.json.bz2\"\n",
    "QUOTEBANK_2015 = DATA_FOLDER+ \"quotes-2015.json.bz2\"\n",
    "QUOTEBANK_2018 = DATA_FOLDER+ \"quotes-2018.json.bz2\"\n",
    "QUOTEBANK_2016 = DATA_FOLDER+ \"quotes-2016.json.bz2\"\n",
    "\n",
    "KEYWORDS_LIST = ('women\\'s right','Equal opportunities','Equal rights','Equal status','equal pay',\n",
    "              'gender gap','Gender discrimination','Gender equality','Sexual harrassment',\n",
    "              'Women empowerment','women victim','women immigration','Women emancipation',\n",
    "              'women\\'s participation','Western women','non-western woman','Muslim women',\n",
    "              'Equal wages','Gender equality','gender equity','Men and women','women and men',\n",
    "              'women oppression','niqab ban','struggle of girls','struggle of women','war against women',\n",
    "              'oppression of girls','oppression of women','women oppression','women\\'s opression','liberate women',\n",
    "              'religious oppresion','abuse of women','Male oppression','Female oppression','Exploitation of women',\n",
    "              'Indigenous women','Patriarchal culture','gender equality','child care','men pay','percentage men',\n",
    "              'pay percentage','sexual harassment','women girls','girls women','first time',\n",
    "              'rates women','women according','female mayors','share women','women movement',\n",
    "              'see women','gender stereotypes','gender gap',\n",
    "              'women representation','sex discrimination','states women','lose weight',\n",
    "              'women rights','woman time',\n",
    "            'based gender',\n",
    "              'proportional electoral','female candidates','gender-based violence','entirely female','cities female',)"
   ]
  },
  {
   "cell_type": "markdown",
   "id": "d18335ed-86e8-4b6a-8088-8c6806ffa113",
   "metadata": {},
   "source": [
    "### Select and pickle of quotes of interest"
   ]
  },
  {
   "cell_type": "markdown",
   "id": "c6fbcb35-0447-4748-abc8-6b0877a96da9",
   "metadata": {},
   "source": [
    "Note: This code has to be run once to create the pickle files containing the quotes of interest. For futher use, the dataframe is direcly loaded from the pickle files."
   ]
  },
  {
   "cell_type": "code",
   "execution_count": 11,
   "id": "f328a9d1-0af5-4346-b2cd-d9c08247f6ae",
   "metadata": {},
   "outputs": [],
   "source": [
    "##The two first have been directly dumped into multiples pickle files\n",
    "#%time QOI_2020_DF_Dumped = select_and_dump(QUOTEBANK_2020,KEYWORDS_LIST,10 ** 4)\n",
    "#%time QOI_2019_DF_Dumped = select_and_dump(QUOTEBANK_2019,KEYWORDS_LIST,10 ** 4)\n",
    "#The pickles files have been catenated into a single file \n",
    "\n",
    "#%time QOI_2017_DF = select_quotes_one_year(QUOTEBANK_2017,KEYWORDS_LIST,10 ** 4)\n",
    "# QOI_2017_DF.to_pickle('files/'+'2017.pkl')\n",
    "# %time QOI_2015_DF = select_quotes_one_year(QUOTEBANK_2015,KEYWORDS_LIST,10 ** 4)\n",
    "# QOI_2015_DF.to_pickle('files/'+'2015.pkl')\n",
    "# QOI_2018_DF.to_pickle('files/'+'2018.pkl')\n",
    "# %time QOI_2016_DF = select_quotes_one_year(QUOTEBANK_2016,KEYWORDS_LIST,10 ** 4)\n",
    "# QOI_2016_DF.to_pickle('files/'+'2016.pkl')"
   ]
  },
  {
   "cell_type": "markdown",
   "id": "d37178ef-3230-4ebf-9f66-5e88bf2ff4c0",
   "metadata": {},
   "source": [
    "### Load dataframe of selected quotes"
   ]
  },
  {
   "cell_type": "code",
   "execution_count": 13,
   "id": "3d2474a4-0ab1-46e3-8aa5-8c6445b5e59f",
   "metadata": {},
   "outputs": [],
   "source": [
    "#Concatenate the dataframes obtained from each of the pickle file. \n",
    "files = ('2015.pkl','2016.pkl','2017.pkl','2018.pkl','2019-2020.pkl')\n",
    "df = pd.concat([pd.read_pickle('files/'+fp) for fp in files], ignore_index=True)"
   ]
  },
  {
   "cell_type": "code",
   "execution_count": 18,
   "id": "14ea9e5f-fcf3-4d6a-b111-fe2cff46806b",
   "metadata": {},
   "outputs": [
    {
     "data": {
      "text/html": [
       "<div>\n",
       "<style scoped>\n",
       "    .dataframe tbody tr th:only-of-type {\n",
       "        vertical-align: middle;\n",
       "    }\n",
       "\n",
       "    .dataframe tbody tr th {\n",
       "        vertical-align: top;\n",
       "    }\n",
       "\n",
       "    .dataframe thead th {\n",
       "        text-align: right;\n",
       "    }\n",
       "</style>\n",
       "<table border=\"1\" class=\"dataframe\">\n",
       "  <thead>\n",
       "    <tr style=\"text-align: right;\">\n",
       "      <th></th>\n",
       "      <th>quoteID</th>\n",
       "      <th>quotation</th>\n",
       "      <th>speaker</th>\n",
       "      <th>qids</th>\n",
       "      <th>date</th>\n",
       "      <th>numOccurrences</th>\n",
       "      <th>probas</th>\n",
       "      <th>urls</th>\n",
       "      <th>phase</th>\n",
       "    </tr>\n",
       "  </thead>\n",
       "  <tbody>\n",
       "    <tr>\n",
       "      <th>0</th>\n",
       "      <td>2015-10-23-031166</td>\n",
       "      <td>However, I was worried when I saw the name bec...</td>\n",
       "      <td>None</td>\n",
       "      <td>[]</td>\n",
       "      <td>2015-10-23 23:18:07</td>\n",
       "      <td>2</td>\n",
       "      <td>[[None, 0.9483], [Attahiru Jega, 0.0517]]</td>\n",
       "      <td>[http://www.punchng.com/politics/bayelsa-kogi-...</td>\n",
       "      <td>E</td>\n",
       "    </tr>\n",
       "    <tr>\n",
       "      <th>1</th>\n",
       "      <td>2015-07-24-002627</td>\n",
       "      <td>a new title from the main Dragon Quest series ...</td>\n",
       "      <td>Takashi Mochizuki</td>\n",
       "      <td>[Q23899784]</td>\n",
       "      <td>2015-07-24 06:51:44</td>\n",
       "      <td>1</td>\n",
       "      <td>[[Takashi Mochizuki, 0.7948], [None, 0.2052]]</td>\n",
       "      <td>[http://www.siliconera.com/2015/07/24/rumor-dr...</td>\n",
       "      <td>E</td>\n",
       "    </tr>\n",
       "    <tr>\n",
       "      <th>2</th>\n",
       "      <td>2015-03-09-004706</td>\n",
       "      <td>Anything less than women winning 50 per cent o...</td>\n",
       "      <td>Katy Gallagher</td>\n",
       "      <td>[Q463507]</td>\n",
       "      <td>2015-03-09 12:30:00</td>\n",
       "      <td>1</td>\n",
       "      <td>[[Katy Gallagher, 0.5872], [None, 0.4128]]</td>\n",
       "      <td>[http://www.smh.com.au/act-news/women-need-to-...</td>\n",
       "      <td>E</td>\n",
       "    </tr>\n",
       "    <tr>\n",
       "      <th>3</th>\n",
       "      <td>2015-03-18-032613</td>\n",
       "      <td>I met Joe Dooling last year during Indiana Mid...</td>\n",
       "      <td>Jonathan Byrd</td>\n",
       "      <td>[Q2483715, Q6272690]</td>\n",
       "      <td>2015-03-18 22:20:56</td>\n",
       "      <td>1</td>\n",
       "      <td>[[Jonathan Byrd, 0.937], [None, 0.063]]</td>\n",
       "      <td>[http://paddocktalk.com/news/html/modules.php?...</td>\n",
       "      <td>E</td>\n",
       "    </tr>\n",
       "    <tr>\n",
       "      <th>4</th>\n",
       "      <td>2015-07-19-007292</td>\n",
       "      <td>but the first time I saw the rows of rusty lit...</td>\n",
       "      <td>None</td>\n",
       "      <td>[]</td>\n",
       "      <td>2015-07-19 17:04:44</td>\n",
       "      <td>2</td>\n",
       "      <td>[[None, 0.7744], [Janos Honkonen, 0.2256]]</td>\n",
       "      <td>[http://www.vice.com/read/chernobyl-a-vacation...</td>\n",
       "      <td>E</td>\n",
       "    </tr>\n",
       "  </tbody>\n",
       "</table>\n",
       "</div>"
      ],
      "text/plain": [
       "             quoteID                                          quotation  \\\n",
       "0  2015-10-23-031166  However, I was worried when I saw the name bec...   \n",
       "1  2015-07-24-002627  a new title from the main Dragon Quest series ...   \n",
       "2  2015-03-09-004706  Anything less than women winning 50 per cent o...   \n",
       "3  2015-03-18-032613  I met Joe Dooling last year during Indiana Mid...   \n",
       "4  2015-07-19-007292  but the first time I saw the rows of rusty lit...   \n",
       "\n",
       "             speaker                  qids                date  \\\n",
       "0               None                    [] 2015-10-23 23:18:07   \n",
       "1  Takashi Mochizuki           [Q23899784] 2015-07-24 06:51:44   \n",
       "2     Katy Gallagher             [Q463507] 2015-03-09 12:30:00   \n",
       "3      Jonathan Byrd  [Q2483715, Q6272690] 2015-03-18 22:20:56   \n",
       "4               None                    [] 2015-07-19 17:04:44   \n",
       "\n",
       "   numOccurrences                                         probas  \\\n",
       "0               2      [[None, 0.9483], [Attahiru Jega, 0.0517]]   \n",
       "1               1  [[Takashi Mochizuki, 0.7948], [None, 0.2052]]   \n",
       "2               1     [[Katy Gallagher, 0.5872], [None, 0.4128]]   \n",
       "3               1        [[Jonathan Byrd, 0.937], [None, 0.063]]   \n",
       "4               2     [[None, 0.7744], [Janos Honkonen, 0.2256]]   \n",
       "\n",
       "                                                urls phase  \n",
       "0  [http://www.punchng.com/politics/bayelsa-kogi-...     E  \n",
       "1  [http://www.siliconera.com/2015/07/24/rumor-dr...     E  \n",
       "2  [http://www.smh.com.au/act-news/women-need-to-...     E  \n",
       "3  [http://paddocktalk.com/news/html/modules.php?...     E  \n",
       "4  [http://www.vice.com/read/chernobyl-a-vacation...     E  "
      ]
     },
     "execution_count": 18,
     "metadata": {},
     "output_type": "execute_result"
    }
   ],
   "source": [
    "df.head()"
   ]
  },
  {
   "cell_type": "code",
   "execution_count": 19,
   "id": "0bcc2c3b-9b79-4519-b6aa-7f3d9aa4a476",
   "metadata": {},
   "outputs": [
    {
     "name": "stdout",
     "output_type": "stream",
     "text": [
      "The dataframe has 446157 entries\n"
     ]
    }
   ],
   "source": [
    "print(f'The dataframe has {len(df)} entries')"
   ]
  },
  {
   "cell_type": "code",
   "execution_count": 23,
   "id": "eab691c9-49dd-4ec3-a9ca-8b428c448731",
   "metadata": {},
   "outputs": [
    {
     "data": {
      "text/plain": [
       "0    However, I was worried when I saw the name because I think that someone from the South-West shou...\n",
       "1                       a new title from the main Dragon Quest series for the first time in three years.\n",
       "2    Anything less than women winning 50 per cent of new seats will be a loss not only for a progress...\n",
       "3    I met Joe Dooling last year during Indiana Midget Week, and I quickly learned that Joe shares th...\n",
       "4    but the first time I saw the rows of rusty little beds in a kindergarten dorm room, I was on the...\n",
       "Name: quotation, dtype: object"
      ]
     },
     "execution_count": 23,
     "metadata": {},
     "output_type": "execute_result"
    }
   ],
   "source": [
    "pd.options.display.max_colwidth = 100\n",
    "df.head()['quotation']"
   ]
  },
  {
   "cell_type": "code",
   "execution_count": null,
   "id": "4554f1f0-d9d9-442e-a06e-a0c511a0d504",
   "metadata": {},
   "outputs": [],
   "source": []
  }
 ],
 "metadata": {
  "kernelspec": {
   "display_name": "Python 3 (ipykernel)",
   "language": "python",
   "name": "python3"
  },
  "language_info": {
   "codemirror_mode": {
    "name": "ipython",
    "version": 3
   },
   "file_extension": ".py",
   "mimetype": "text/x-python",
   "name": "python",
   "nbconvert_exporter": "python",
   "pygments_lexer": "ipython3",
   "version": "3.8.11"
  }
 },
 "nbformat": 4,
 "nbformat_minor": 5
}
