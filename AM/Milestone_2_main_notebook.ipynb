{
 "cells": [
  {
   "cell_type": "markdown",
   "id": "7eaaa1fc-6a2e-4739-ae3e-be90ffe237c9",
   "metadata": {},
   "source": [
    "# Project Milestone2 - Group Concatsanddogs"
   ]
  },
  {
   "cell_type": "markdown",
   "id": "690106c9-c202-4b13-a41c-335544c35ecd",
   "metadata": {},
   "source": [
    "# The use of women's rights and gender equality rhetoric in the US"
   ]
  },
  {
   "cell_type": "markdown",
   "id": "a6858764-e568-45ca-a871-5c5fa855b5b5",
   "metadata": {},
   "source": [
    "## Header"
   ]
  },
  {
   "cell_type": "markdown",
   "id": "8987c2ee-6b5d-496c-9450-163f1ab569a1",
   "metadata": {},
   "source": [
    "This notebook is organized followings the different steps used in our pipeline. We first create a list of keywords using [web scraping](#Webscraping) and a personal list of keywords. \n",
    "With this list of keywords we [select](#Dataset-selection-from-Quotebank-database) a subset of the Quotebank database. This subset will be our starting dataset for our project. "
   ]
  },
  {
   "cell_type": "markdown",
   "id": "f294bf29-de89-4787-805b-0f98233329f1",
   "metadata": {},
   "source": [
    "## Webscraping"
   ]
  },
  {
   "cell_type": "markdown",
   "id": "20430e1b-9f9c-445d-9e25-7b447c2395df",
   "metadata": {},
   "source": [
    "### Libraries"
   ]
  },
  {
   "cell_type": "markdown",
   "id": "393d0fde-ee26-4582-abc4-445db2682a22",
   "metadata": {},
   "source": [
    "### Functions"
   ]
  },
  {
   "cell_type": "markdown",
   "id": "cef16436-c959-41b4-a35b-aacc530377ab",
   "metadata": {},
   "source": [
    "AMINA TO ADD"
   ]
  },
  {
   "cell_type": "markdown",
   "id": "d551a663-d2c4-4844-94db-6a8f4c2a3ed6",
   "metadata": {},
   "source": [
    "## Dataset selection from Quotebank database"
   ]
  },
  {
   "cell_type": "markdown",
   "id": "8ea3d42c-938d-4915-b6f5-4426b078eed0",
   "metadata": {},
   "source": [
    "### Librairies"
   ]
  },
  {
   "cell_type": "markdown",
   "id": "3d1d7808-e93a-4d3f-b9c1-42ca2756c8a8",
   "metadata": {},
   "source": [
    "### Functions"
   ]
  },
  {
   "cell_type": "code",
   "execution_count": null,
   "id": "161934f4-7a89-4a52-a21d-9c2b9dc186ce",
   "metadata": {},
   "outputs": [],
   "source": []
  }
 ],
 "metadata": {
  "kernelspec": {
   "display_name": "Python 3 (ipykernel)",
   "language": "python",
   "name": "python3"
  },
  "language_info": {
   "codemirror_mode": {
    "name": "ipython",
    "version": 3
   },
   "file_extension": ".py",
   "mimetype": "text/x-python",
   "name": "python",
   "nbconvert_exporter": "python",
   "pygments_lexer": "ipython3",
   "version": "3.8.11"
  }
 },
 "nbformat": 4,
 "nbformat_minor": 5
}
