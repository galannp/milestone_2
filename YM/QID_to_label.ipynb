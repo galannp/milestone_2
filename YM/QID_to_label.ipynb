{
 "cells": [
  {
   "cell_type": "code",
   "execution_count": 2,
   "id": "99d976cf",
   "metadata": {},
   "outputs": [],
   "source": [
    "import pandas as pd\n",
    "import numpy as np"
   ]
  },
  {
   "cell_type": "markdown",
   "id": "18629e08",
   "metadata": {},
   "source": [
    "Paths"
   ]
  },
  {
   "cell_type": "code",
   "execution_count": 3,
   "id": "6ad24465",
   "metadata": {},
   "outputs": [],
   "source": [
    "generated_data = 'generated_data/'\n",
    "quotebank_2019_path = generated_data + \"quotes-2019-nytimes.json.bz2\"\n",
    "qids_onlyquotebank_path = generated_data + \"wikidata_labels_descriptions_quotebank.csv.bz2\"\n",
    "qids_wikidata_path  = generated_data + \"wikidata_labels_descriptions.csv.bz2\""
   ]
  },
  {
   "cell_type": "markdown",
   "id": "5229f6f5",
   "metadata": {},
   "source": [
    "## Load the quotebank sample"
   ]
  },
  {
   "cell_type": "code",
   "execution_count": 4,
   "id": "94288ef9",
   "metadata": {},
   "outputs": [
    {
     "data": {
      "text/html": [
       "<div>\n",
       "<style scoped>\n",
       "    .dataframe tbody tr th:only-of-type {\n",
       "        vertical-align: middle;\n",
       "    }\n",
       "\n",
       "    .dataframe tbody tr th {\n",
       "        vertical-align: top;\n",
       "    }\n",
       "\n",
       "    .dataframe thead th {\n",
       "        text-align: right;\n",
       "    }\n",
       "</style>\n",
       "<table border=\"1\" class=\"dataframe\">\n",
       "  <thead>\n",
       "    <tr style=\"text-align: right;\">\n",
       "      <th></th>\n",
       "      <th>quoteID</th>\n",
       "      <th>quotation</th>\n",
       "      <th>speaker</th>\n",
       "      <th>qids</th>\n",
       "      <th>date</th>\n",
       "      <th>numOccurrences</th>\n",
       "      <th>probas</th>\n",
       "      <th>urls</th>\n",
       "      <th>phase</th>\n",
       "    </tr>\n",
       "  </thead>\n",
       "  <tbody>\n",
       "    <tr>\n",
       "      <th>0</th>\n",
       "      <td>2019-04-17-024782</td>\n",
       "      <td>It is not a low-income immigration,</td>\n",
       "      <td>James Fisher</td>\n",
       "      <td>[Q16213953, Q20707104, Q43143598, Q58886302, Q...</td>\n",
       "      <td>2019-04-17 13:31:18</td>\n",
       "      <td>1</td>\n",
       "      <td>[[James Fisher, 0.7475], [None, 0.2525]]</td>\n",
       "      <td>[https://www.nytimes.com/2019/04/17/realestate...</td>\n",
       "      <td>E</td>\n",
       "    </tr>\n",
       "    <tr>\n",
       "      <th>1</th>\n",
       "      <td>2019-04-02-001128</td>\n",
       "      <td>a champion figure skater switching to roller s...</td>\n",
       "      <td>John Updike</td>\n",
       "      <td>[Q105756]</td>\n",
       "      <td>2019-04-02 14:58:33</td>\n",
       "      <td>2</td>\n",
       "      <td>[[John Updike, 0.5856], [None, 0.4144]]</td>\n",
       "      <td>[https://www.nytimes.com/2019/04/02/opinion/vl...</td>\n",
       "      <td>E</td>\n",
       "    </tr>\n",
       "    <tr>\n",
       "      <th>2</th>\n",
       "      <td>2019-05-09-055187</td>\n",
       "      <td>It makes it much more difficult for him to mak...</td>\n",
       "      <td>None</td>\n",
       "      <td>[]</td>\n",
       "      <td>2019-05-09 18:11:29</td>\n",
       "      <td>1</td>\n",
       "      <td>[[None, 0.6493], [President Bill Clinton, 0.27...</td>\n",
       "      <td>[http://mobile.nytimes.com/2019/05/09/world/as...</td>\n",
       "      <td>E</td>\n",
       "    </tr>\n",
       "    <tr>\n",
       "      <th>3</th>\n",
       "      <td>2019-10-31-056366</td>\n",
       "      <td>It puts me in a predicament,</td>\n",
       "      <td>Xavier Becerra</td>\n",
       "      <td>[Q1855840]</td>\n",
       "      <td>2019-10-31 16:45:15</td>\n",
       "      <td>3</td>\n",
       "      <td>[[Xavier Becerra, 0.9065], [None, 0.0909], [St...</td>\n",
       "      <td>[http://www.nytimes.com/2019/10/31/technology/...</td>\n",
       "      <td>E</td>\n",
       "    </tr>\n",
       "    <tr>\n",
       "      <th>4</th>\n",
       "      <td>2019-01-04-001792</td>\n",
       "      <td>A Pile of Leaves.</td>\n",
       "      <td>None</td>\n",
       "      <td>[]</td>\n",
       "      <td>2019-01-04 10:00:07</td>\n",
       "      <td>1</td>\n",
       "      <td>[[None, 0.8737], [Jason Fulford, 0.1263]]</td>\n",
       "      <td>[https://www.nytimes.com/2019/01/04/books/revi...</td>\n",
       "      <td>E</td>\n",
       "    </tr>\n",
       "  </tbody>\n",
       "</table>\n",
       "</div>"
      ],
      "text/plain": [
       "             quoteID                                          quotation  \\\n",
       "0  2019-04-17-024782                It is not a low-income immigration,   \n",
       "1  2019-04-02-001128  a champion figure skater switching to roller s...   \n",
       "2  2019-05-09-055187  It makes it much more difficult for him to mak...   \n",
       "3  2019-10-31-056366                       It puts me in a predicament,   \n",
       "4  2019-01-04-001792                                  A Pile of Leaves.   \n",
       "\n",
       "          speaker                                               qids  \\\n",
       "0    James Fisher  [Q16213953, Q20707104, Q43143598, Q58886302, Q...   \n",
       "1     John Updike                                          [Q105756]   \n",
       "2            None                                                 []   \n",
       "3  Xavier Becerra                                         [Q1855840]   \n",
       "4            None                                                 []   \n",
       "\n",
       "                 date  numOccurrences  \\\n",
       "0 2019-04-17 13:31:18               1   \n",
       "1 2019-04-02 14:58:33               2   \n",
       "2 2019-05-09 18:11:29               1   \n",
       "3 2019-10-31 16:45:15               3   \n",
       "4 2019-01-04 10:00:07               1   \n",
       "\n",
       "                                              probas  \\\n",
       "0           [[James Fisher, 0.7475], [None, 0.2525]]   \n",
       "1            [[John Updike, 0.5856], [None, 0.4144]]   \n",
       "2  [[None, 0.6493], [President Bill Clinton, 0.27...   \n",
       "3  [[Xavier Becerra, 0.9065], [None, 0.0909], [St...   \n",
       "4          [[None, 0.8737], [Jason Fulford, 0.1263]]   \n",
       "\n",
       "                                                urls phase  \n",
       "0  [https://www.nytimes.com/2019/04/17/realestate...     E  \n",
       "1  [https://www.nytimes.com/2019/04/02/opinion/vl...     E  \n",
       "2  [http://mobile.nytimes.com/2019/05/09/world/as...     E  \n",
       "3  [http://www.nytimes.com/2019/10/31/technology/...     E  \n",
       "4  [https://www.nytimes.com/2019/01/04/books/revi...     E  "
      ]
     },
     "execution_count": 4,
     "metadata": {},
     "output_type": "execute_result"
    }
   ],
   "source": [
    "quotebank_2019_sample = pd.read_json('generated_data/quotes-2019-nytimes.json.bz2', lines=True, compression='bz2')\n",
    "quotebank_2019_sample.head()"
   ]
  },
  {
   "cell_type": "markdown",
   "id": "254982d3",
   "metadata": {},
   "source": [
    "extract the QID colum that we want to attribute labels / description to"
   ]
  },
  {
   "cell_type": "code",
   "execution_count": 5,
   "id": "60bdbbda",
   "metadata": {},
   "outputs": [
    {
     "data": {
      "text/plain": [
       "0    [Q16213953, Q20707104, Q43143598, Q58886302, Q...\n",
       "1                                            [Q105756]\n",
       "2                                                   []\n",
       "3                                           [Q1855840]\n",
       "4                                                   []\n",
       "Name: qids, dtype: object"
      ]
     },
     "execution_count": 5,
     "metadata": {},
     "output_type": "execute_result"
    }
   ],
   "source": [
    "qids = quotebank_2019_sample['qids']\n",
    "qids.head()"
   ]
  },
  {
   "cell_type": "code",
   "execution_count": 6,
   "id": "02d4ffc2",
   "metadata": {},
   "outputs": [
    {
     "data": {
      "text/plain": [
       "0             [[James Fisher, 0.7475], [None, 0.2525]]\n",
       "1              [[John Updike, 0.5856], [None, 0.4144]]\n",
       "2    [[None, 0.6493], [President Bill Clinton, 0.27...\n",
       "3    [[Xavier Becerra, 0.9065], [None, 0.0909], [St...\n",
       "4            [[None, 0.8737], [Jason Fulford, 0.1263]]\n",
       "Name: probas, dtype: object"
      ]
     },
     "execution_count": 6,
     "metadata": {},
     "output_type": "execute_result"
    }
   ],
   "source": [
    "probas = quotebank_2019_sample['probas']\n",
    "probas.head()"
   ]
  },
  {
   "cell_type": "markdown",
   "id": "a06590b1",
   "metadata": {},
   "source": [
    "Seems like some lines have multiple labels assigned to them, this is probably because there are many people with the same names in wikidata. "
   ]
  },
  {
   "cell_type": "code",
   "execution_count": 7,
   "id": "d14cab26",
   "metadata": {},
   "outputs": [
    {
     "name": "stdout",
     "output_type": "stream",
     "text": [
      "['Q16213953', 'Q20707104', 'Q43143598', 'Q58886302', 'Q6133913']\n",
      "[['James Fisher', '0.7475'], ['None', '0.2525']]\n"
     ]
    }
   ],
   "source": [
    "print(qids[0])\n",
    "print(probas[0])"
   ]
  },
  {
   "cell_type": "markdown",
   "id": "79c19a30",
   "metadata": {},
   "source": [
    "TO DO : find a better way to choose QID\n",
    "For now, we take only the first qid because it will be more practical"
   ]
  },
  {
   "cell_type": "code",
   "execution_count": 8,
   "id": "ac5324db",
   "metadata": {},
   "outputs": [
    {
     "data": {
      "text/plain": [
       "0    Q16213953\n",
       "1      Q105756\n",
       "2            0\n",
       "3     Q1855840\n",
       "4            0\n",
       "Name: qids, dtype: object"
      ]
     },
     "execution_count": 8,
     "metadata": {},
     "output_type": "execute_result"
    }
   ],
   "source": [
    "def first_qid(x):\n",
    "    if x:\n",
    "        x = x[0]\n",
    "    else:\n",
    "        x = '0'\n",
    "    return x\n",
    "\n",
    "def clean_qids(df):\n",
    "    return df.apply(first_qid)\n",
    "\n",
    "qids_clean = clean_qids(qids)\n",
    "\n",
    "qids_clean.head()"
   ]
  },
  {
   "cell_type": "markdown",
   "id": "68a1a4cb",
   "metadata": {},
   "source": [
    "## Loading the QIDs that have attributes that exist in the parquet file"
   ]
  },
  {
   "cell_type": "code",
   "execution_count": 9,
   "id": "ede380c7",
   "metadata": {},
   "outputs": [
    {
     "data": {
      "text/html": [
       "<div>\n",
       "<style scoped>\n",
       "    .dataframe tbody tr th:only-of-type {\n",
       "        vertical-align: middle;\n",
       "    }\n",
       "\n",
       "    .dataframe tbody tr th {\n",
       "        vertical-align: top;\n",
       "    }\n",
       "\n",
       "    .dataframe thead th {\n",
       "        text-align: right;\n",
       "    }\n",
       "</style>\n",
       "<table border=\"1\" class=\"dataframe\">\n",
       "  <thead>\n",
       "    <tr style=\"text-align: right;\">\n",
       "      <th></th>\n",
       "      <th>Label</th>\n",
       "      <th>Description</th>\n",
       "    </tr>\n",
       "    <tr>\n",
       "      <th>QID</th>\n",
       "      <th></th>\n",
       "      <th></th>\n",
       "    </tr>\n",
       "  </thead>\n",
       "  <tbody>\n",
       "    <tr>\n",
       "      <th>Q31</th>\n",
       "      <td>Belgium</td>\n",
       "      <td>country in western Europe</td>\n",
       "    </tr>\n",
       "    <tr>\n",
       "      <th>Q45</th>\n",
       "      <td>Portugal</td>\n",
       "      <td>country in southwestern Europe</td>\n",
       "    </tr>\n",
       "    <tr>\n",
       "      <th>Q75</th>\n",
       "      <td>Internet</td>\n",
       "      <td>global system of connected computer networks</td>\n",
       "    </tr>\n",
       "    <tr>\n",
       "      <th>Q148</th>\n",
       "      <td>People's Republic of China</td>\n",
       "      <td>sovereign state in East Asia</td>\n",
       "    </tr>\n",
       "    <tr>\n",
       "      <th>Q155</th>\n",
       "      <td>Brazil</td>\n",
       "      <td>country in South America</td>\n",
       "    </tr>\n",
       "  </tbody>\n",
       "</table>\n",
       "</div>"
      ],
      "text/plain": [
       "                           Label                                   Description\n",
       "QID                                                                           \n",
       "Q31                      Belgium                     country in western Europe\n",
       "Q45                     Portugal                country in southwestern Europe\n",
       "Q75                     Internet  global system of connected computer networks\n",
       "Q148  People's Republic of China                  sovereign state in East Asia\n",
       "Q155                      Brazil                      country in South America"
      ]
     },
     "execution_count": 9,
     "metadata": {},
     "output_type": "execute_result"
    }
   ],
   "source": [
    "qids_onlyquotebank = pd.read_csv(qids_onlyquotebank_path, compression='bz2', index_col='QID')\n",
    "qids_onlyquotebank.head()"
   ]
  },
  {
   "cell_type": "markdown",
   "id": "f907bcb1",
   "metadata": {},
   "source": [
    "Seems like we're missing some QIDs ( the QIDs in the parquet file don't contain all the QIDs of quotebank), so this will not be enough"
   ]
  },
  {
   "cell_type": "code",
   "execution_count": 10,
   "id": "04766e9b",
   "metadata": {},
   "outputs": [
    {
     "data": {
      "text/plain": [
       "False"
      ]
     },
     "execution_count": 10,
     "metadata": {},
     "output_type": "execute_result"
    }
   ],
   "source": [
    "(qids_onlyquotebank['Label'].isin(['James Fisher'])).any()"
   ]
  },
  {
   "cell_type": "code",
   "execution_count": 11,
   "id": "92caff9b",
   "metadata": {},
   "outputs": [
    {
     "data": {
      "text/plain": [
       "False"
      ]
     },
     "execution_count": 11,
     "metadata": {},
     "output_type": "execute_result"
    }
   ],
   "source": [
    "(qids_onlyquotebank.index=='Q16213953').any()"
   ]
  },
  {
   "cell_type": "code",
   "execution_count": 12,
   "id": "2b1713d6",
   "metadata": {},
   "outputs": [
    {
     "data": {
      "text/plain": [
       "True"
      ]
     },
     "execution_count": 12,
     "metadata": {},
     "output_type": "execute_result"
    }
   ],
   "source": [
    "(qids_onlyquotebank.index=='Q31').any()"
   ]
  },
  {
   "cell_type": "markdown",
   "id": "eaa3d474",
   "metadata": {},
   "source": [
    "If the QID and it's label is present qids_onlyquotebank, assign the label to the QID in the 2019 sample :"
   ]
  },
  {
   "cell_type": "code",
   "execution_count": 13,
   "id": "a0017865",
   "metadata": {},
   "outputs": [],
   "source": [
    "qids_clean = qids_clean.to_frame()"
   ]
  },
  {
   "cell_type": "code",
   "execution_count": 14,
   "id": "507a8283",
   "metadata": {},
   "outputs": [
    {
     "data": {
      "text/html": [
       "<div>\n",
       "<style scoped>\n",
       "    .dataframe tbody tr th:only-of-type {\n",
       "        vertical-align: middle;\n",
       "    }\n",
       "\n",
       "    .dataframe tbody tr th {\n",
       "        vertical-align: top;\n",
       "    }\n",
       "\n",
       "    .dataframe thead th {\n",
       "        text-align: right;\n",
       "    }\n",
       "</style>\n",
       "<table border=\"1\" class=\"dataframe\">\n",
       "  <thead>\n",
       "    <tr style=\"text-align: right;\">\n",
       "      <th></th>\n",
       "      <th>qids</th>\n",
       "    </tr>\n",
       "  </thead>\n",
       "  <tbody>\n",
       "    <tr>\n",
       "      <th>0</th>\n",
       "      <td>Q16213953</td>\n",
       "    </tr>\n",
       "    <tr>\n",
       "      <th>1</th>\n",
       "      <td>Q105756</td>\n",
       "    </tr>\n",
       "    <tr>\n",
       "      <th>2</th>\n",
       "      <td>0</td>\n",
       "    </tr>\n",
       "    <tr>\n",
       "      <th>3</th>\n",
       "      <td>Q1855840</td>\n",
       "    </tr>\n",
       "    <tr>\n",
       "      <th>4</th>\n",
       "      <td>0</td>\n",
       "    </tr>\n",
       "  </tbody>\n",
       "</table>\n",
       "</div>"
      ],
      "text/plain": [
       "        qids\n",
       "0  Q16213953\n",
       "1    Q105756\n",
       "2          0\n",
       "3   Q1855840\n",
       "4          0"
      ]
     },
     "execution_count": 14,
     "metadata": {},
     "output_type": "execute_result"
    }
   ],
   "source": [
    "qids_clean.head()"
   ]
  },
  {
   "cell_type": "code",
   "execution_count": 15,
   "id": "9c9a660c",
   "metadata": {},
   "outputs": [
    {
     "data": {
      "text/plain": [
       "pandas.core.frame.DataFrame"
      ]
     },
     "execution_count": 15,
     "metadata": {},
     "output_type": "execute_result"
    }
   ],
   "source": [
    "type(qids_clean)"
   ]
  },
  {
   "cell_type": "code",
   "execution_count": 16,
   "id": "ee60cef5",
   "metadata": {},
   "outputs": [
    {
     "data": {
      "text/plain": [
       "'Q105756'"
      ]
     },
     "execution_count": 16,
     "metadata": {},
     "output_type": "execute_result"
    }
   ],
   "source": [
    "qids_clean['qids'].iloc[1]"
   ]
  },
  {
   "cell_type": "code",
   "execution_count": 17,
   "id": "17f01070",
   "metadata": {},
   "outputs": [
    {
     "data": {
      "text/html": [
       "<div>\n",
       "<style scoped>\n",
       "    .dataframe tbody tr th:only-of-type {\n",
       "        vertical-align: middle;\n",
       "    }\n",
       "\n",
       "    .dataframe tbody tr th {\n",
       "        vertical-align: top;\n",
       "    }\n",
       "\n",
       "    .dataframe thead th {\n",
       "        text-align: right;\n",
       "    }\n",
       "</style>\n",
       "<table border=\"1\" class=\"dataframe\">\n",
       "  <thead>\n",
       "    <tr style=\"text-align: right;\">\n",
       "      <th></th>\n",
       "      <th>Label</th>\n",
       "      <th>Description</th>\n",
       "    </tr>\n",
       "    <tr>\n",
       "      <th>QID</th>\n",
       "      <th></th>\n",
       "      <th></th>\n",
       "    </tr>\n",
       "  </thead>\n",
       "  <tbody>\n",
       "    <tr>\n",
       "      <th>Q31</th>\n",
       "      <td>Belgium</td>\n",
       "      <td>country in western Europe</td>\n",
       "    </tr>\n",
       "    <tr>\n",
       "      <th>Q45</th>\n",
       "      <td>Portugal</td>\n",
       "      <td>country in southwestern Europe</td>\n",
       "    </tr>\n",
       "    <tr>\n",
       "      <th>Q75</th>\n",
       "      <td>Internet</td>\n",
       "      <td>global system of connected computer networks</td>\n",
       "    </tr>\n",
       "    <tr>\n",
       "      <th>Q148</th>\n",
       "      <td>People's Republic of China</td>\n",
       "      <td>sovereign state in East Asia</td>\n",
       "    </tr>\n",
       "    <tr>\n",
       "      <th>Q155</th>\n",
       "      <td>Brazil</td>\n",
       "      <td>country in South America</td>\n",
       "    </tr>\n",
       "  </tbody>\n",
       "</table>\n",
       "</div>"
      ],
      "text/plain": [
       "                           Label                                   Description\n",
       "QID                                                                           \n",
       "Q31                      Belgium                     country in western Europe\n",
       "Q45                     Portugal                country in southwestern Europe\n",
       "Q75                     Internet  global system of connected computer networks\n",
       "Q148  People's Republic of China                  sovereign state in East Asia\n",
       "Q155                      Brazil                      country in South America"
      ]
     },
     "execution_count": 17,
     "metadata": {},
     "output_type": "execute_result"
    }
   ],
   "source": [
    "qids_onlyquotebank.head()"
   ]
  },
  {
   "cell_type": "code",
   "execution_count": 18,
   "id": "7310fcfb",
   "metadata": {
    "scrolled": true
   },
   "outputs": [
    {
     "data": {
      "text/plain": [
       "True"
      ]
     },
     "execution_count": 18,
     "metadata": {},
     "output_type": "execute_result"
    }
   ],
   "source": [
    "(qids_onlyquotebank.index == 'Q9682').any()"
   ]
  },
  {
   "cell_type": "code",
   "execution_count": 19,
   "id": "45ba2612",
   "metadata": {},
   "outputs": [
    {
     "data": {
      "text/plain": [
       "True"
      ]
     },
     "execution_count": 19,
     "metadata": {},
     "output_type": "execute_result"
    }
   ],
   "source": [
    "d='Q9682'\n",
    "qids_onlyquotebank.index.isin([d]).any()"
   ]
  },
  {
   "cell_type": "code",
   "execution_count": 20,
   "id": "4769542d",
   "metadata": {},
   "outputs": [
    {
     "data": {
      "text/plain": [
       "Label                                               Elizabeth II\n",
       "Description    queen of the UK, Canada, Australia, and New Ze...\n",
       "Name: Q9682, dtype: object"
      ]
     },
     "execution_count": 20,
     "metadata": {},
     "output_type": "execute_result"
    }
   ],
   "source": [
    "qids_onlyquotebank.loc['Q9682']"
   ]
  },
  {
   "cell_type": "code",
   "execution_count": 21,
   "id": "8fc97313",
   "metadata": {},
   "outputs": [
    {
     "data": {
      "text/html": [
       "<div>\n",
       "<style scoped>\n",
       "    .dataframe tbody tr th:only-of-type {\n",
       "        vertical-align: middle;\n",
       "    }\n",
       "\n",
       "    .dataframe tbody tr th {\n",
       "        vertical-align: top;\n",
       "    }\n",
       "\n",
       "    .dataframe thead th {\n",
       "        text-align: right;\n",
       "    }\n",
       "</style>\n",
       "<table border=\"1\" class=\"dataframe\">\n",
       "  <thead>\n",
       "    <tr style=\"text-align: right;\">\n",
       "      <th></th>\n",
       "      <th>qids</th>\n",
       "    </tr>\n",
       "  </thead>\n",
       "  <tbody>\n",
       "    <tr>\n",
       "      <th>0</th>\n",
       "      <td>Q16213953</td>\n",
       "    </tr>\n",
       "    <tr>\n",
       "      <th>1</th>\n",
       "      <td>Q105756</td>\n",
       "    </tr>\n",
       "    <tr>\n",
       "      <th>2</th>\n",
       "      <td>0</td>\n",
       "    </tr>\n",
       "    <tr>\n",
       "      <th>3</th>\n",
       "      <td>Q1855840</td>\n",
       "    </tr>\n",
       "    <tr>\n",
       "      <th>4</th>\n",
       "      <td>0</td>\n",
       "    </tr>\n",
       "  </tbody>\n",
       "</table>\n",
       "</div>"
      ],
      "text/plain": [
       "        qids\n",
       "0  Q16213953\n",
       "1    Q105756\n",
       "2          0\n",
       "3   Q1855840\n",
       "4          0"
      ]
     },
     "execution_count": 21,
     "metadata": {},
     "output_type": "execute_result"
    }
   ],
   "source": [
    "qids_clean.head()"
   ]
  },
  {
   "cell_type": "code",
   "execution_count": 22,
   "id": "bd214bd1",
   "metadata": {},
   "outputs": [
    {
     "data": {
      "text/html": [
       "<div>\n",
       "<style scoped>\n",
       "    .dataframe tbody tr th:only-of-type {\n",
       "        vertical-align: middle;\n",
       "    }\n",
       "\n",
       "    .dataframe tbody tr th {\n",
       "        vertical-align: top;\n",
       "    }\n",
       "\n",
       "    .dataframe thead th {\n",
       "        text-align: right;\n",
       "    }\n",
       "</style>\n",
       "<table border=\"1\" class=\"dataframe\">\n",
       "  <thead>\n",
       "    <tr style=\"text-align: right;\">\n",
       "      <th></th>\n",
       "      <th>qids</th>\n",
       "    </tr>\n",
       "  </thead>\n",
       "  <tbody>\n",
       "    <tr>\n",
       "      <th>4149</th>\n",
       "      <td>Q9682</td>\n",
       "    </tr>\n",
       "    <tr>\n",
       "      <th>15969</th>\n",
       "      <td>Q9682</td>\n",
       "    </tr>\n",
       "    <tr>\n",
       "      <th>24134</th>\n",
       "      <td>Q9682</td>\n",
       "    </tr>\n",
       "    <tr>\n",
       "      <th>29023</th>\n",
       "      <td>Q9682</td>\n",
       "    </tr>\n",
       "    <tr>\n",
       "      <th>36520</th>\n",
       "      <td>Q9682</td>\n",
       "    </tr>\n",
       "  </tbody>\n",
       "</table>\n",
       "</div>"
      ],
      "text/plain": [
       "        qids\n",
       "4149   Q9682\n",
       "15969  Q9682\n",
       "24134  Q9682\n",
       "29023  Q9682\n",
       "36520  Q9682"
      ]
     },
     "execution_count": 22,
     "metadata": {},
     "output_type": "execute_result"
    }
   ],
   "source": [
    "qids_clean.where(qids_clean['qids']=='Q9682').dropna().head()"
   ]
  },
  {
   "cell_type": "code",
   "execution_count": 23,
   "id": "6c860f5f",
   "metadata": {},
   "outputs": [],
   "source": [
    "qids_clean_merged = pd.merge(qids_clean, qids_onlyquotebank, right_index=True, left_on='qids',how='left')"
   ]
  },
  {
   "cell_type": "markdown",
   "id": "616eb243",
   "metadata": {},
   "source": [
    "replacing the NaN values with an empty string"
   ]
  },
  {
   "cell_type": "code",
   "execution_count": 26,
   "id": "3e083c56",
   "metadata": {},
   "outputs": [],
   "source": [
    "#qids_clean_merged.fillna(value='',inplace=True)"
   ]
  },
  {
   "cell_type": "code",
   "execution_count": 27,
   "id": "40e311e6",
   "metadata": {},
   "outputs": [
    {
     "data": {
      "text/html": [
       "<div>\n",
       "<style scoped>\n",
       "    .dataframe tbody tr th:only-of-type {\n",
       "        vertical-align: middle;\n",
       "    }\n",
       "\n",
       "    .dataframe tbody tr th {\n",
       "        vertical-align: top;\n",
       "    }\n",
       "\n",
       "    .dataframe thead th {\n",
       "        text-align: right;\n",
       "    }\n",
       "</style>\n",
       "<table border=\"1\" class=\"dataframe\">\n",
       "  <thead>\n",
       "    <tr style=\"text-align: right;\">\n",
       "      <th></th>\n",
       "      <th>qids</th>\n",
       "      <th>Label</th>\n",
       "      <th>Description</th>\n",
       "    </tr>\n",
       "  </thead>\n",
       "  <tbody>\n",
       "    <tr>\n",
       "      <th>0</th>\n",
       "      <td>Q16213953</td>\n",
       "      <td>NaN</td>\n",
       "      <td>NaN</td>\n",
       "    </tr>\n",
       "    <tr>\n",
       "      <th>1</th>\n",
       "      <td>Q105756</td>\n",
       "      <td>NaN</td>\n",
       "      <td>NaN</td>\n",
       "    </tr>\n",
       "    <tr>\n",
       "      <th>2</th>\n",
       "      <td>0</td>\n",
       "      <td>NaN</td>\n",
       "      <td>NaN</td>\n",
       "    </tr>\n",
       "    <tr>\n",
       "      <th>3</th>\n",
       "      <td>Q1855840</td>\n",
       "      <td>NaN</td>\n",
       "      <td>NaN</td>\n",
       "    </tr>\n",
       "    <tr>\n",
       "      <th>4</th>\n",
       "      <td>0</td>\n",
       "      <td>NaN</td>\n",
       "      <td>NaN</td>\n",
       "    </tr>\n",
       "  </tbody>\n",
       "</table>\n",
       "</div>"
      ],
      "text/plain": [
       "        qids Label Description\n",
       "0  Q16213953   NaN         NaN\n",
       "1    Q105756   NaN         NaN\n",
       "2          0   NaN         NaN\n",
       "3   Q1855840   NaN         NaN\n",
       "4          0   NaN         NaN"
      ]
     },
     "execution_count": 27,
     "metadata": {},
     "output_type": "execute_result"
    }
   ],
   "source": [
    "qids_clean_merged.head()"
   ]
  },
  {
   "cell_type": "markdown",
   "id": "71acac83",
   "metadata": {},
   "source": [
    "Checking that the Label have indeed been merged"
   ]
  },
  {
   "cell_type": "code",
   "execution_count": 28,
   "id": "0400b795",
   "metadata": {
    "scrolled": true
   },
   "outputs": [
    {
     "data": {
      "text/plain": [
       "'Elizabeth II'"
      ]
     },
     "execution_count": 28,
     "metadata": {},
     "output_type": "execute_result"
    }
   ],
   "source": [
    "qids_clean_merged['Label'].iloc[4149]"
   ]
  },
  {
   "cell_type": "markdown",
   "id": "2faec715",
   "metadata": {},
   "source": [
    "A lot of values are equal to nan so we will try to look for more qids in the entire wikidata qid dataset given by the TAS"
   ]
  },
  {
   "cell_type": "markdown",
   "id": "261b8139",
   "metadata": {},
   "source": [
    "# Load all the qids from wikidata"
   ]
  },
  {
   "cell_type": "code",
   "execution_count": 39,
   "id": "430d2128",
   "metadata": {},
   "outputs": [
    {
     "data": {
      "text/plain": [
       "'def process_qid_all(Quotebank_tuple, qids_clean, chunksize = 10 ** 4):\\n    \"\"\"\\n    this function processes multiple csv files using,\\n    another function that process them in chunks\\n    \"\"\"\\n    years = (\\'2020\\',\\'2019\\',\\'2018\\',\\'2017\\',\\'2016\\',\\'2015\\')\\n\\n    for i in range(len(Quotebank_tuple)):\\n        print(\\'__________________ year : \\', years[i],\\' ________________\\')\\n        qids_clean_merged = process_qid_one(Quotebank_tuple[i], qids_clean, chunksize = chunksize)\\n    return qids_clean_merged'"
      ]
     },
     "execution_count": 39,
     "metadata": {},
     "output_type": "execute_result"
    }
   ],
   "source": [
    "def process_chunk(chunk, qids_clean_merged):\n",
    "    \"\"\"\n",
    "    this function processes one chunk of data\n",
    "    \"\"\"\n",
    "    qids_clean_merged = qids_clean_merged.reindex(columns=qids_clean_merged.columns.union(chunk.columns))\n",
    "    \n",
    "    qids_clean_merged.update(chunk)\n",
    "\n",
    "    return qids_clean_merged\n",
    "\n",
    "def process_qid_one(path_to_file, qids_clean, chunksize = 10 ** 4):\n",
    "    \"\"\"\n",
    "    this function processes a csv file in chunks\n",
    "    \"\"\"\n",
    "    qids_clean_merged = qids_clean.copy()\n",
    "    qids_clean_merged['Label']=np.NaN\n",
    "    qids_clean_merged['Description']=np.NaN\n",
    "    qids_clean_merged.set_index('qids',inplace=True)\n",
    "    qids_clean_merged.index.rename('QID', inplace=True)\n",
    "    \n",
    "    with pd.read_csv(path_to_file, compression='bz2', index_col='QID', chunksize=chunksize) as df_reader:\n",
    "        for chunk in df_reader:\n",
    "            qids_clean_merged = process_chunk(chunk, qids_clean_merged)\n",
    "    return qids_clean_merged\n",
    "'''def process_qid_all(Quotebank_tuple, qids_clean, chunksize = 10 ** 4):\n",
    "    \"\"\"\n",
    "    this function processes multiple csv files using,\n",
    "    another function that process them in chunks\n",
    "    \"\"\"\n",
    "    years = ('2020','2019','2018','2017','2016','2015')\n",
    "\n",
    "    for i in range(len(Quotebank_tuple)):\n",
    "        print('__________________ year : ', years[i],' ________________')\n",
    "        qids_clean_merged = process_qid_one(Quotebank_tuple[i], qids_clean, chunksize = chunksize)\n",
    "    return qids_clean_merged'''"
   ]
  },
  {
   "cell_type": "code",
   "execution_count": 41,
   "id": "3826ccaf",
   "metadata": {
    "scrolled": true
   },
   "outputs": [
    {
     "data": {
      "text/html": [
       "<div>\n",
       "<style scoped>\n",
       "    .dataframe tbody tr th:only-of-type {\n",
       "        vertical-align: middle;\n",
       "    }\n",
       "\n",
       "    .dataframe tbody tr th {\n",
       "        vertical-align: top;\n",
       "    }\n",
       "\n",
       "    .dataframe thead th {\n",
       "        text-align: right;\n",
       "    }\n",
       "</style>\n",
       "<table border=\"1\" class=\"dataframe\">\n",
       "  <thead>\n",
       "    <tr style=\"text-align: right;\">\n",
       "      <th></th>\n",
       "      <th>Label</th>\n",
       "      <th>Description</th>\n",
       "    </tr>\n",
       "    <tr>\n",
       "      <th>QID</th>\n",
       "      <th></th>\n",
       "      <th></th>\n",
       "    </tr>\n",
       "  </thead>\n",
       "  <tbody>\n",
       "    <tr>\n",
       "      <th>Q31</th>\n",
       "      <td>Belgium</td>\n",
       "      <td>country in western Europe</td>\n",
       "    </tr>\n",
       "    <tr>\n",
       "      <th>Q8</th>\n",
       "      <td>happiness</td>\n",
       "      <td>mental or emotional state of well-being charac...</td>\n",
       "    </tr>\n",
       "    <tr>\n",
       "      <th>Q23</th>\n",
       "      <td>George Washington</td>\n",
       "      <td>1st president of the United States (1732–1799)</td>\n",
       "    </tr>\n",
       "    <tr>\n",
       "      <th>Q24</th>\n",
       "      <td>Jack Bauer</td>\n",
       "      <td>character from the television series 24</td>\n",
       "    </tr>\n",
       "    <tr>\n",
       "      <th>Q42</th>\n",
       "      <td>Douglas Adams</td>\n",
       "      <td>English writer and humorist</td>\n",
       "    </tr>\n",
       "  </tbody>\n",
       "</table>\n",
       "</div>"
      ],
      "text/plain": [
       "                 Label                                        Description\n",
       "QID                                                                      \n",
       "Q31            Belgium                          country in western Europe\n",
       "Q8           happiness  mental or emotional state of well-being charac...\n",
       "Q23  George Washington     1st president of the United States (1732–1799)\n",
       "Q24         Jack Bauer            character from the television series 24\n",
       "Q42      Douglas Adams                        English writer and humorist"
      ]
     },
     "execution_count": 41,
     "metadata": {},
     "output_type": "execute_result"
    }
   ],
   "source": [
    "pd.read_csv(qids_wikidata_path, compression='bz2', index_col='QID',nrows=100).head()"
   ]
  },
  {
   "cell_type": "code",
   "execution_count": 42,
   "id": "58716498",
   "metadata": {
    "scrolled": true
   },
   "outputs": [],
   "source": [
    "test2 = process_qid_one(qids_onlyquotebank_path, qids_clean, chunksize = 10 ** 3)"
   ]
  },
  {
   "cell_type": "code",
   "execution_count": 43,
   "id": "cba01667",
   "metadata": {},
   "outputs": [
    {
     "data": {
      "text/html": [
       "<div>\n",
       "<style scoped>\n",
       "    .dataframe tbody tr th:only-of-type {\n",
       "        vertical-align: middle;\n",
       "    }\n",
       "\n",
       "    .dataframe tbody tr th {\n",
       "        vertical-align: top;\n",
       "    }\n",
       "\n",
       "    .dataframe thead th {\n",
       "        text-align: right;\n",
       "    }\n",
       "</style>\n",
       "<table border=\"1\" class=\"dataframe\">\n",
       "  <thead>\n",
       "    <tr style=\"text-align: right;\">\n",
       "      <th></th>\n",
       "      <th>Label</th>\n",
       "      <th>Description</th>\n",
       "    </tr>\n",
       "    <tr>\n",
       "      <th>QID</th>\n",
       "      <th></th>\n",
       "      <th></th>\n",
       "    </tr>\n",
       "  </thead>\n",
       "  <tbody>\n",
       "    <tr>\n",
       "      <th>Q16213953</th>\n",
       "      <td>NaN</td>\n",
       "      <td>NaN</td>\n",
       "    </tr>\n",
       "    <tr>\n",
       "      <th>Q105756</th>\n",
       "      <td>NaN</td>\n",
       "      <td>NaN</td>\n",
       "    </tr>\n",
       "    <tr>\n",
       "      <th>0</th>\n",
       "      <td>NaN</td>\n",
       "      <td>NaN</td>\n",
       "    </tr>\n",
       "    <tr>\n",
       "      <th>Q1855840</th>\n",
       "      <td>NaN</td>\n",
       "      <td>NaN</td>\n",
       "    </tr>\n",
       "    <tr>\n",
       "      <th>0</th>\n",
       "      <td>NaN</td>\n",
       "      <td>NaN</td>\n",
       "    </tr>\n",
       "  </tbody>\n",
       "</table>\n",
       "</div>"
      ],
      "text/plain": [
       "          Label Description\n",
       "QID                        \n",
       "Q16213953   NaN         NaN\n",
       "Q105756     NaN         NaN\n",
       "0           NaN         NaN\n",
       "Q1855840    NaN         NaN\n",
       "0           NaN         NaN"
      ]
     },
     "execution_count": 43,
     "metadata": {},
     "output_type": "execute_result"
    }
   ],
   "source": [
    "test2.head()"
   ]
  },
  {
   "cell_type": "code",
   "execution_count": 44,
   "id": "ea8dd502",
   "metadata": {},
   "outputs": [
    {
     "data": {
      "text/plain": [
       "'Elizabeth II'"
      ]
     },
     "execution_count": 44,
     "metadata": {},
     "output_type": "execute_result"
    }
   ],
   "source": [
    "test2['Label'].iloc[4149]"
   ]
  },
  {
   "cell_type": "code",
   "execution_count": 45,
   "id": "e9988372",
   "metadata": {},
   "outputs": [
    {
     "data": {
      "text/html": [
       "<div>\n",
       "<style scoped>\n",
       "    .dataframe tbody tr th:only-of-type {\n",
       "        vertical-align: middle;\n",
       "    }\n",
       "\n",
       "    .dataframe tbody tr th {\n",
       "        vertical-align: top;\n",
       "    }\n",
       "\n",
       "    .dataframe thead th {\n",
       "        text-align: right;\n",
       "    }\n",
       "</style>\n",
       "<table border=\"1\" class=\"dataframe\">\n",
       "  <thead>\n",
       "    <tr style=\"text-align: right;\">\n",
       "      <th></th>\n",
       "      <th>Label</th>\n",
       "      <th>Description</th>\n",
       "    </tr>\n",
       "    <tr>\n",
       "      <th>QID</th>\n",
       "      <th></th>\n",
       "      <th></th>\n",
       "    </tr>\n",
       "  </thead>\n",
       "  <tbody>\n",
       "    <tr>\n",
       "      <th>Q9682</th>\n",
       "      <td>Elizabeth II</td>\n",
       "      <td>queen of the UK, Canada, Australia, and New Ze...</td>\n",
       "    </tr>\n",
       "    <tr>\n",
       "      <th>Q9682</th>\n",
       "      <td>Elizabeth II</td>\n",
       "      <td>queen of the UK, Canada, Australia, and New Ze...</td>\n",
       "    </tr>\n",
       "    <tr>\n",
       "      <th>Q9682</th>\n",
       "      <td>Elizabeth II</td>\n",
       "      <td>queen of the UK, Canada, Australia, and New Ze...</td>\n",
       "    </tr>\n",
       "    <tr>\n",
       "      <th>Q9682</th>\n",
       "      <td>Elizabeth II</td>\n",
       "      <td>queen of the UK, Canada, Australia, and New Ze...</td>\n",
       "    </tr>\n",
       "    <tr>\n",
       "      <th>Q9682</th>\n",
       "      <td>Elizabeth II</td>\n",
       "      <td>queen of the UK, Canada, Australia, and New Ze...</td>\n",
       "    </tr>\n",
       "  </tbody>\n",
       "</table>\n",
       "</div>"
      ],
      "text/plain": [
       "              Label                                        Description\n",
       "QID                                                                   \n",
       "Q9682  Elizabeth II  queen of the UK, Canada, Australia, and New Ze...\n",
       "Q9682  Elizabeth II  queen of the UK, Canada, Australia, and New Ze...\n",
       "Q9682  Elizabeth II  queen of the UK, Canada, Australia, and New Ze...\n",
       "Q9682  Elizabeth II  queen of the UK, Canada, Australia, and New Ze...\n",
       "Q9682  Elizabeth II  queen of the UK, Canada, Australia, and New Ze..."
      ]
     },
     "execution_count": 45,
     "metadata": {},
     "output_type": "execute_result"
    }
   ],
   "source": [
    "test2.loc['Q9682'].head()"
   ]
  },
  {
   "cell_type": "code",
   "execution_count": null,
   "id": "1664bef5",
   "metadata": {},
   "outputs": [],
   "source": []
  },
  {
   "cell_type": "code",
   "execution_count": null,
   "id": "966fec48",
   "metadata": {},
   "outputs": [],
   "source": []
  },
  {
   "cell_type": "code",
   "execution_count": null,
   "id": "5cfb596e",
   "metadata": {},
   "outputs": [],
   "source": []
  },
  {
   "cell_type": "code",
   "execution_count": 50,
   "id": "c06223a2",
   "metadata": {},
   "outputs": [
    {
     "data": {
      "text/html": [
       "<div>\n",
       "<style scoped>\n",
       "    .dataframe tbody tr th:only-of-type {\n",
       "        vertical-align: middle;\n",
       "    }\n",
       "\n",
       "    .dataframe tbody tr th {\n",
       "        vertical-align: top;\n",
       "    }\n",
       "\n",
       "    .dataframe thead th {\n",
       "        text-align: right;\n",
       "    }\n",
       "</style>\n",
       "<table border=\"1\" class=\"dataframe\">\n",
       "  <thead>\n",
       "    <tr style=\"text-align: right;\">\n",
       "      <th></th>\n",
       "      <th>qids</th>\n",
       "    </tr>\n",
       "  </thead>\n",
       "  <tbody>\n",
       "    <tr>\n",
       "      <th>0</th>\n",
       "      <td>Q16213953</td>\n",
       "    </tr>\n",
       "    <tr>\n",
       "      <th>1</th>\n",
       "      <td>Q105756</td>\n",
       "    </tr>\n",
       "    <tr>\n",
       "      <th>2</th>\n",
       "      <td>0</td>\n",
       "    </tr>\n",
       "    <tr>\n",
       "      <th>3</th>\n",
       "      <td>Q1855840</td>\n",
       "    </tr>\n",
       "    <tr>\n",
       "      <th>4</th>\n",
       "      <td>0</td>\n",
       "    </tr>\n",
       "    <tr>\n",
       "      <th>5</th>\n",
       "      <td>Q7817334</td>\n",
       "    </tr>\n",
       "    <tr>\n",
       "      <th>6</th>\n",
       "      <td>0</td>\n",
       "    </tr>\n",
       "    <tr>\n",
       "      <th>7</th>\n",
       "      <td>0</td>\n",
       "    </tr>\n",
       "    <tr>\n",
       "      <th>8</th>\n",
       "      <td>Q3074013</td>\n",
       "    </tr>\n",
       "    <tr>\n",
       "      <th>9</th>\n",
       "      <td>0</td>\n",
       "    </tr>\n",
       "    <tr>\n",
       "      <th>10</th>\n",
       "      <td>Q7812406</td>\n",
       "    </tr>\n",
       "    <tr>\n",
       "      <th>11</th>\n",
       "      <td>0</td>\n",
       "    </tr>\n",
       "    <tr>\n",
       "      <th>12</th>\n",
       "      <td>Q977546</td>\n",
       "    </tr>\n",
       "    <tr>\n",
       "      <th>13</th>\n",
       "      <td>Q50049</td>\n",
       "    </tr>\n",
       "    <tr>\n",
       "      <th>14</th>\n",
       "      <td>Q19594790</td>\n",
       "    </tr>\n",
       "    <tr>\n",
       "      <th>15</th>\n",
       "      <td>Q22686</td>\n",
       "    </tr>\n",
       "    <tr>\n",
       "      <th>16</th>\n",
       "      <td>Q7154794</td>\n",
       "    </tr>\n",
       "    <tr>\n",
       "      <th>17</th>\n",
       "      <td>0</td>\n",
       "    </tr>\n",
       "    <tr>\n",
       "      <th>18</th>\n",
       "      <td>0</td>\n",
       "    </tr>\n",
       "    <tr>\n",
       "      <th>19</th>\n",
       "      <td>0</td>\n",
       "    </tr>\n",
       "    <tr>\n",
       "      <th>20</th>\n",
       "      <td>Q57552119</td>\n",
       "    </tr>\n",
       "    <tr>\n",
       "      <th>21</th>\n",
       "      <td>Q16193580</td>\n",
       "    </tr>\n",
       "    <tr>\n",
       "      <th>22</th>\n",
       "      <td>Q2106099</td>\n",
       "    </tr>\n",
       "    <tr>\n",
       "      <th>23</th>\n",
       "      <td>0</td>\n",
       "    </tr>\n",
       "    <tr>\n",
       "      <th>24</th>\n",
       "      <td>Q57689</td>\n",
       "    </tr>\n",
       "    <tr>\n",
       "      <th>25</th>\n",
       "      <td>0</td>\n",
       "    </tr>\n",
       "    <tr>\n",
       "      <th>26</th>\n",
       "      <td>Q5585845</td>\n",
       "    </tr>\n",
       "    <tr>\n",
       "      <th>27</th>\n",
       "      <td>0</td>\n",
       "    </tr>\n",
       "    <tr>\n",
       "      <th>28</th>\n",
       "      <td>0</td>\n",
       "    </tr>\n",
       "    <tr>\n",
       "      <th>29</th>\n",
       "      <td>0</td>\n",
       "    </tr>\n",
       "  </tbody>\n",
       "</table>\n",
       "</div>"
      ],
      "text/plain": [
       "         qids\n",
       "0   Q16213953\n",
       "1     Q105756\n",
       "2           0\n",
       "3    Q1855840\n",
       "4           0\n",
       "5    Q7817334\n",
       "6           0\n",
       "7           0\n",
       "8    Q3074013\n",
       "9           0\n",
       "10   Q7812406\n",
       "11          0\n",
       "12    Q977546\n",
       "13     Q50049\n",
       "14  Q19594790\n",
       "15     Q22686\n",
       "16   Q7154794\n",
       "17          0\n",
       "18          0\n",
       "19          0\n",
       "20  Q57552119\n",
       "21  Q16193580\n",
       "22   Q2106099\n",
       "23          0\n",
       "24     Q57689\n",
       "25          0\n",
       "26   Q5585845\n",
       "27          0\n",
       "28          0\n",
       "29          0"
      ]
     },
     "execution_count": 50,
     "metadata": {},
     "output_type": "execute_result"
    }
   ],
   "source": [
    "qids_clean.head(30)"
   ]
  },
  {
   "cell_type": "code",
   "execution_count": 46,
   "id": "842f0ebd",
   "metadata": {
    "scrolled": false
   },
   "outputs": [],
   "source": [
    "test2 = process_qid_one(qids_wikidata_path, qids_clean, chunksize = 10 ** 6)"
   ]
  },
  {
   "cell_type": "code",
   "execution_count": 47,
   "id": "328d0300",
   "metadata": {},
   "outputs": [
    {
     "data": {
      "text/html": [
       "<div>\n",
       "<style scoped>\n",
       "    .dataframe tbody tr th:only-of-type {\n",
       "        vertical-align: middle;\n",
       "    }\n",
       "\n",
       "    .dataframe tbody tr th {\n",
       "        vertical-align: top;\n",
       "    }\n",
       "\n",
       "    .dataframe thead th {\n",
       "        text-align: right;\n",
       "    }\n",
       "</style>\n",
       "<table border=\"1\" class=\"dataframe\">\n",
       "  <thead>\n",
       "    <tr style=\"text-align: right;\">\n",
       "      <th></th>\n",
       "      <th>Label</th>\n",
       "      <th>Description</th>\n",
       "    </tr>\n",
       "    <tr>\n",
       "      <th>QID</th>\n",
       "      <th></th>\n",
       "      <th></th>\n",
       "    </tr>\n",
       "  </thead>\n",
       "  <tbody>\n",
       "    <tr>\n",
       "      <th>Q16213953</th>\n",
       "      <td>James Fisher</td>\n",
       "      <td>British actor</td>\n",
       "    </tr>\n",
       "    <tr>\n",
       "      <th>Q105756</th>\n",
       "      <td>John Updike</td>\n",
       "      <td>American novelist, poet, short story writer, a...</td>\n",
       "    </tr>\n",
       "    <tr>\n",
       "      <th>0</th>\n",
       "      <td>NaN</td>\n",
       "      <td>NaN</td>\n",
       "    </tr>\n",
       "    <tr>\n",
       "      <th>Q1855840</th>\n",
       "      <td>Xavier Becerra</td>\n",
       "      <td>Attorney General of California</td>\n",
       "    </tr>\n",
       "    <tr>\n",
       "      <th>0</th>\n",
       "      <td>NaN</td>\n",
       "      <td>NaN</td>\n",
       "    </tr>\n",
       "    <tr>\n",
       "      <th>Q7817334</th>\n",
       "      <td>Tom Rath</td>\n",
       "      <td>American author</td>\n",
       "    </tr>\n",
       "    <tr>\n",
       "      <th>0</th>\n",
       "      <td>NaN</td>\n",
       "      <td>NaN</td>\n",
       "    </tr>\n",
       "    <tr>\n",
       "      <th>0</th>\n",
       "      <td>NaN</td>\n",
       "      <td>NaN</td>\n",
       "    </tr>\n",
       "    <tr>\n",
       "      <th>Q3074013</th>\n",
       "      <td>Florence Parly</td>\n",
       "      <td>French politician</td>\n",
       "    </tr>\n",
       "    <tr>\n",
       "      <th>0</th>\n",
       "      <td>NaN</td>\n",
       "      <td>NaN</td>\n",
       "    </tr>\n",
       "    <tr>\n",
       "      <th>Q7812406</th>\n",
       "      <td>Todd Gurley</td>\n",
       "      <td>American football player</td>\n",
       "    </tr>\n",
       "    <tr>\n",
       "      <th>0</th>\n",
       "      <td>NaN</td>\n",
       "      <td>NaN</td>\n",
       "    </tr>\n",
       "    <tr>\n",
       "      <th>Q977546</th>\n",
       "      <td>Errol Morris</td>\n",
       "      <td>American filmmaker and writer</td>\n",
       "    </tr>\n",
       "    <tr>\n",
       "      <th>Q50049</th>\n",
       "      <td>Catherine Opie</td>\n",
       "      <td>American artist</td>\n",
       "    </tr>\n",
       "    <tr>\n",
       "      <th>Q19594790</th>\n",
       "      <td>Brian Cox</td>\n",
       "      <td>English academic and poet</td>\n",
       "    </tr>\n",
       "    <tr>\n",
       "      <th>Q22686</th>\n",
       "      <td>Donald Trump</td>\n",
       "      <td>45th president of the United States</td>\n",
       "    </tr>\n",
       "    <tr>\n",
       "      <th>Q7154794</th>\n",
       "      <td>Paula White-Cain</td>\n",
       "      <td>American television evangelist</td>\n",
       "    </tr>\n",
       "    <tr>\n",
       "      <th>0</th>\n",
       "      <td>NaN</td>\n",
       "      <td>NaN</td>\n",
       "    </tr>\n",
       "    <tr>\n",
       "      <th>0</th>\n",
       "      <td>NaN</td>\n",
       "      <td>NaN</td>\n",
       "    </tr>\n",
       "    <tr>\n",
       "      <th>0</th>\n",
       "      <td>NaN</td>\n",
       "      <td>NaN</td>\n",
       "    </tr>\n",
       "    <tr>\n",
       "      <th>Q57552119</th>\n",
       "      <td>Steve Gold</td>\n",
       "      <td>American real estate broker</td>\n",
       "    </tr>\n",
       "    <tr>\n",
       "      <th>Q16193580</th>\n",
       "      <td>Steve Fielding</td>\n",
       "      <td>Australian politician</td>\n",
       "    </tr>\n",
       "    <tr>\n",
       "      <th>Q2106099</th>\n",
       "      <td>Karl Paranya</td>\n",
       "      <td>American distance runner</td>\n",
       "    </tr>\n",
       "    <tr>\n",
       "      <th>0</th>\n",
       "      <td>NaN</td>\n",
       "      <td>NaN</td>\n",
       "    </tr>\n",
       "    <tr>\n",
       "      <th>Q57689</th>\n",
       "      <td>Martin McGuinness</td>\n",
       "      <td>Irish republican and Sinn Féin politician (195...</td>\n",
       "    </tr>\n",
       "    <tr>\n",
       "      <th>0</th>\n",
       "      <td>NaN</td>\n",
       "      <td>NaN</td>\n",
       "    </tr>\n",
       "    <tr>\n",
       "      <th>Q5585845</th>\n",
       "      <td>Gordon Sondland</td>\n",
       "      <td>American businessperson and diplomat</td>\n",
       "    </tr>\n",
       "    <tr>\n",
       "      <th>0</th>\n",
       "      <td>NaN</td>\n",
       "      <td>NaN</td>\n",
       "    </tr>\n",
       "    <tr>\n",
       "      <th>0</th>\n",
       "      <td>NaN</td>\n",
       "      <td>NaN</td>\n",
       "    </tr>\n",
       "    <tr>\n",
       "      <th>0</th>\n",
       "      <td>NaN</td>\n",
       "      <td>NaN</td>\n",
       "    </tr>\n",
       "  </tbody>\n",
       "</table>\n",
       "</div>"
      ],
      "text/plain": [
       "                       Label  \\\n",
       "QID                            \n",
       "Q16213953       James Fisher   \n",
       "Q105756          John Updike   \n",
       "0                        NaN   \n",
       "Q1855840      Xavier Becerra   \n",
       "0                        NaN   \n",
       "Q7817334            Tom Rath   \n",
       "0                        NaN   \n",
       "0                        NaN   \n",
       "Q3074013      Florence Parly   \n",
       "0                        NaN   \n",
       "Q7812406         Todd Gurley   \n",
       "0                        NaN   \n",
       "Q977546         Errol Morris   \n",
       "Q50049        Catherine Opie   \n",
       "Q19594790          Brian Cox   \n",
       "Q22686          Donald Trump   \n",
       "Q7154794    Paula White-Cain   \n",
       "0                        NaN   \n",
       "0                        NaN   \n",
       "0                        NaN   \n",
       "Q57552119         Steve Gold   \n",
       "Q16193580     Steve Fielding   \n",
       "Q2106099        Karl Paranya   \n",
       "0                        NaN   \n",
       "Q57689     Martin McGuinness   \n",
       "0                        NaN   \n",
       "Q5585845     Gordon Sondland   \n",
       "0                        NaN   \n",
       "0                        NaN   \n",
       "0                        NaN   \n",
       "\n",
       "                                                 Description  \n",
       "QID                                                           \n",
       "Q16213953                                      British actor  \n",
       "Q105756    American novelist, poet, short story writer, a...  \n",
       "0                                                        NaN  \n",
       "Q1855840                      Attorney General of California  \n",
       "0                                                        NaN  \n",
       "Q7817334                                     American author  \n",
       "0                                                        NaN  \n",
       "0                                                        NaN  \n",
       "Q3074013                                   French politician  \n",
       "0                                                        NaN  \n",
       "Q7812406                            American football player  \n",
       "0                                                        NaN  \n",
       "Q977546                        American filmmaker and writer  \n",
       "Q50049                                       American artist  \n",
       "Q19594790                          English academic and poet  \n",
       "Q22686                   45th president of the United States  \n",
       "Q7154794                      American television evangelist  \n",
       "0                                                        NaN  \n",
       "0                                                        NaN  \n",
       "0                                                        NaN  \n",
       "Q57552119                        American real estate broker  \n",
       "Q16193580                              Australian politician  \n",
       "Q2106099                            American distance runner  \n",
       "0                                                        NaN  \n",
       "Q57689     Irish republican and Sinn Féin politician (195...  \n",
       "0                                                        NaN  \n",
       "Q5585845                American businessperson and diplomat  \n",
       "0                                                        NaN  \n",
       "0                                                        NaN  \n",
       "0                                                        NaN  "
      ]
     },
     "execution_count": 47,
     "metadata": {},
     "output_type": "execute_result"
    }
   ],
   "source": [
    "test2.head(30)"
   ]
  },
  {
   "cell_type": "code",
   "execution_count": 48,
   "id": "24b6deee",
   "metadata": {},
   "outputs": [
    {
     "data": {
      "text/plain": [
       "Label                                               Elizabeth II\n",
       "Description    queen of the UK, Canada, Australia, and New Ze...\n",
       "Name: Q9682, dtype: object"
      ]
     },
     "execution_count": 48,
     "metadata": {},
     "output_type": "execute_result"
    }
   ],
   "source": [
    "test2.iloc[4149]"
   ]
  },
  {
   "cell_type": "code",
   "execution_count": 49,
   "id": "bf2e6989",
   "metadata": {
    "scrolled": false
   },
   "outputs": [
    {
     "data": {
      "text/html": [
       "<div>\n",
       "<style scoped>\n",
       "    .dataframe tbody tr th:only-of-type {\n",
       "        vertical-align: middle;\n",
       "    }\n",
       "\n",
       "    .dataframe tbody tr th {\n",
       "        vertical-align: top;\n",
       "    }\n",
       "\n",
       "    .dataframe thead th {\n",
       "        text-align: right;\n",
       "    }\n",
       "</style>\n",
       "<table border=\"1\" class=\"dataframe\">\n",
       "  <thead>\n",
       "    <tr style=\"text-align: right;\">\n",
       "      <th></th>\n",
       "      <th>Label</th>\n",
       "      <th>Description</th>\n",
       "    </tr>\n",
       "    <tr>\n",
       "      <th>QID</th>\n",
       "      <th></th>\n",
       "      <th></th>\n",
       "    </tr>\n",
       "  </thead>\n",
       "  <tbody>\n",
       "    <tr>\n",
       "      <th>Q9682</th>\n",
       "      <td>Elizabeth II</td>\n",
       "      <td>queen of the UK, Canada, Australia, and New Ze...</td>\n",
       "    </tr>\n",
       "    <tr>\n",
       "      <th>Q9682</th>\n",
       "      <td>Elizabeth II</td>\n",
       "      <td>queen of the UK, Canada, Australia, and New Ze...</td>\n",
       "    </tr>\n",
       "    <tr>\n",
       "      <th>Q9682</th>\n",
       "      <td>Elizabeth II</td>\n",
       "      <td>queen of the UK, Canada, Australia, and New Ze...</td>\n",
       "    </tr>\n",
       "    <tr>\n",
       "      <th>Q9682</th>\n",
       "      <td>Elizabeth II</td>\n",
       "      <td>queen of the UK, Canada, Australia, and New Ze...</td>\n",
       "    </tr>\n",
       "    <tr>\n",
       "      <th>Q9682</th>\n",
       "      <td>Elizabeth II</td>\n",
       "      <td>queen of the UK, Canada, Australia, and New Ze...</td>\n",
       "    </tr>\n",
       "    <tr>\n",
       "      <th>Q9682</th>\n",
       "      <td>Elizabeth II</td>\n",
       "      <td>queen of the UK, Canada, Australia, and New Ze...</td>\n",
       "    </tr>\n",
       "    <tr>\n",
       "      <th>Q9682</th>\n",
       "      <td>Elizabeth II</td>\n",
       "      <td>queen of the UK, Canada, Australia, and New Ze...</td>\n",
       "    </tr>\n",
       "    <tr>\n",
       "      <th>Q9682</th>\n",
       "      <td>Elizabeth II</td>\n",
       "      <td>queen of the UK, Canada, Australia, and New Ze...</td>\n",
       "    </tr>\n",
       "    <tr>\n",
       "      <th>Q9682</th>\n",
       "      <td>Elizabeth II</td>\n",
       "      <td>queen of the UK, Canada, Australia, and New Ze...</td>\n",
       "    </tr>\n",
       "    <tr>\n",
       "      <th>Q9682</th>\n",
       "      <td>Elizabeth II</td>\n",
       "      <td>queen of the UK, Canada, Australia, and New Ze...</td>\n",
       "    </tr>\n",
       "    <tr>\n",
       "      <th>Q9682</th>\n",
       "      <td>Elizabeth II</td>\n",
       "      <td>queen of the UK, Canada, Australia, and New Ze...</td>\n",
       "    </tr>\n",
       "    <tr>\n",
       "      <th>Q9682</th>\n",
       "      <td>Elizabeth II</td>\n",
       "      <td>queen of the UK, Canada, Australia, and New Ze...</td>\n",
       "    </tr>\n",
       "    <tr>\n",
       "      <th>Q9682</th>\n",
       "      <td>Elizabeth II</td>\n",
       "      <td>queen of the UK, Canada, Australia, and New Ze...</td>\n",
       "    </tr>\n",
       "    <tr>\n",
       "      <th>Q9682</th>\n",
       "      <td>Elizabeth II</td>\n",
       "      <td>queen of the UK, Canada, Australia, and New Ze...</td>\n",
       "    </tr>\n",
       "    <tr>\n",
       "      <th>Q9682</th>\n",
       "      <td>Elizabeth II</td>\n",
       "      <td>queen of the UK, Canada, Australia, and New Ze...</td>\n",
       "    </tr>\n",
       "    <tr>\n",
       "      <th>Q9682</th>\n",
       "      <td>Elizabeth II</td>\n",
       "      <td>queen of the UK, Canada, Australia, and New Ze...</td>\n",
       "    </tr>\n",
       "    <tr>\n",
       "      <th>Q9682</th>\n",
       "      <td>Elizabeth II</td>\n",
       "      <td>queen of the UK, Canada, Australia, and New Ze...</td>\n",
       "    </tr>\n",
       "    <tr>\n",
       "      <th>Q9682</th>\n",
       "      <td>Elizabeth II</td>\n",
       "      <td>queen of the UK, Canada, Australia, and New Ze...</td>\n",
       "    </tr>\n",
       "    <tr>\n",
       "      <th>Q9682</th>\n",
       "      <td>Elizabeth II</td>\n",
       "      <td>queen of the UK, Canada, Australia, and New Ze...</td>\n",
       "    </tr>\n",
       "    <tr>\n",
       "      <th>Q9682</th>\n",
       "      <td>Elizabeth II</td>\n",
       "      <td>queen of the UK, Canada, Australia, and New Ze...</td>\n",
       "    </tr>\n",
       "    <tr>\n",
       "      <th>Q9682</th>\n",
       "      <td>Elizabeth II</td>\n",
       "      <td>queen of the UK, Canada, Australia, and New Ze...</td>\n",
       "    </tr>\n",
       "    <tr>\n",
       "      <th>Q9682</th>\n",
       "      <td>Elizabeth II</td>\n",
       "      <td>queen of the UK, Canada, Australia, and New Ze...</td>\n",
       "    </tr>\n",
       "    <tr>\n",
       "      <th>Q9682</th>\n",
       "      <td>Elizabeth II</td>\n",
       "      <td>queen of the UK, Canada, Australia, and New Ze...</td>\n",
       "    </tr>\n",
       "    <tr>\n",
       "      <th>Q9682</th>\n",
       "      <td>Elizabeth II</td>\n",
       "      <td>queen of the UK, Canada, Australia, and New Ze...</td>\n",
       "    </tr>\n",
       "    <tr>\n",
       "      <th>Q9682</th>\n",
       "      <td>Elizabeth II</td>\n",
       "      <td>queen of the UK, Canada, Australia, and New Ze...</td>\n",
       "    </tr>\n",
       "    <tr>\n",
       "      <th>Q9682</th>\n",
       "      <td>Elizabeth II</td>\n",
       "      <td>queen of the UK, Canada, Australia, and New Ze...</td>\n",
       "    </tr>\n",
       "    <tr>\n",
       "      <th>Q9682</th>\n",
       "      <td>Elizabeth II</td>\n",
       "      <td>queen of the UK, Canada, Australia, and New Ze...</td>\n",
       "    </tr>\n",
       "    <tr>\n",
       "      <th>Q9682</th>\n",
       "      <td>Elizabeth II</td>\n",
       "      <td>queen of the UK, Canada, Australia, and New Ze...</td>\n",
       "    </tr>\n",
       "    <tr>\n",
       "      <th>Q9682</th>\n",
       "      <td>Elizabeth II</td>\n",
       "      <td>queen of the UK, Canada, Australia, and New Ze...</td>\n",
       "    </tr>\n",
       "    <tr>\n",
       "      <th>Q9682</th>\n",
       "      <td>Elizabeth II</td>\n",
       "      <td>queen of the UK, Canada, Australia, and New Ze...</td>\n",
       "    </tr>\n",
       "    <tr>\n",
       "      <th>Q9682</th>\n",
       "      <td>Elizabeth II</td>\n",
       "      <td>queen of the UK, Canada, Australia, and New Ze...</td>\n",
       "    </tr>\n",
       "  </tbody>\n",
       "</table>\n",
       "</div>"
      ],
      "text/plain": [
       "              Label                                        Description\n",
       "QID                                                                   \n",
       "Q9682  Elizabeth II  queen of the UK, Canada, Australia, and New Ze...\n",
       "Q9682  Elizabeth II  queen of the UK, Canada, Australia, and New Ze...\n",
       "Q9682  Elizabeth II  queen of the UK, Canada, Australia, and New Ze...\n",
       "Q9682  Elizabeth II  queen of the UK, Canada, Australia, and New Ze...\n",
       "Q9682  Elizabeth II  queen of the UK, Canada, Australia, and New Ze...\n",
       "Q9682  Elizabeth II  queen of the UK, Canada, Australia, and New Ze...\n",
       "Q9682  Elizabeth II  queen of the UK, Canada, Australia, and New Ze...\n",
       "Q9682  Elizabeth II  queen of the UK, Canada, Australia, and New Ze...\n",
       "Q9682  Elizabeth II  queen of the UK, Canada, Australia, and New Ze...\n",
       "Q9682  Elizabeth II  queen of the UK, Canada, Australia, and New Ze...\n",
       "Q9682  Elizabeth II  queen of the UK, Canada, Australia, and New Ze...\n",
       "Q9682  Elizabeth II  queen of the UK, Canada, Australia, and New Ze...\n",
       "Q9682  Elizabeth II  queen of the UK, Canada, Australia, and New Ze...\n",
       "Q9682  Elizabeth II  queen of the UK, Canada, Australia, and New Ze...\n",
       "Q9682  Elizabeth II  queen of the UK, Canada, Australia, and New Ze...\n",
       "Q9682  Elizabeth II  queen of the UK, Canada, Australia, and New Ze...\n",
       "Q9682  Elizabeth II  queen of the UK, Canada, Australia, and New Ze...\n",
       "Q9682  Elizabeth II  queen of the UK, Canada, Australia, and New Ze...\n",
       "Q9682  Elizabeth II  queen of the UK, Canada, Australia, and New Ze...\n",
       "Q9682  Elizabeth II  queen of the UK, Canada, Australia, and New Ze...\n",
       "Q9682  Elizabeth II  queen of the UK, Canada, Australia, and New Ze...\n",
       "Q9682  Elizabeth II  queen of the UK, Canada, Australia, and New Ze...\n",
       "Q9682  Elizabeth II  queen of the UK, Canada, Australia, and New Ze...\n",
       "Q9682  Elizabeth II  queen of the UK, Canada, Australia, and New Ze...\n",
       "Q9682  Elizabeth II  queen of the UK, Canada, Australia, and New Ze...\n",
       "Q9682  Elizabeth II  queen of the UK, Canada, Australia, and New Ze...\n",
       "Q9682  Elizabeth II  queen of the UK, Canada, Australia, and New Ze...\n",
       "Q9682  Elizabeth II  queen of the UK, Canada, Australia, and New Ze...\n",
       "Q9682  Elizabeth II  queen of the UK, Canada, Australia, and New Ze...\n",
       "Q9682  Elizabeth II  queen of the UK, Canada, Australia, and New Ze...\n",
       "Q9682  Elizabeth II  queen of the UK, Canada, Australia, and New Ze..."
      ]
     },
     "execution_count": 49,
     "metadata": {},
     "output_type": "execute_result"
    }
   ],
   "source": [
    "test2.loc['Q9682']"
   ]
  },
  {
   "cell_type": "code",
   "execution_count": null,
   "id": "16e632e5",
   "metadata": {},
   "outputs": [],
   "source": []
  }
 ],
 "metadata": {
  "kernelspec": {
   "display_name": "Python 3 (ipykernel)",
   "language": "python",
   "name": "python3"
  },
  "language_info": {
   "codemirror_mode": {
    "name": "ipython",
    "version": 3
   },
   "file_extension": ".py",
   "mimetype": "text/x-python",
   "name": "python",
   "nbconvert_exporter": "python",
   "pygments_lexer": "ipython3",
   "version": "3.8.12"
  }
 },
 "nbformat": 4,
 "nbformat_minor": 5
}
