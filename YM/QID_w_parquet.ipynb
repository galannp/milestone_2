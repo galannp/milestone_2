{
 "cells": [
  {
   "cell_type": "markdown",
   "id": "17e0e772",
   "metadata": {},
   "source": [
    "Important links : https://docs.dask.org/en/stable/dataframe.html"
   ]
  },
  {
   "cell_type": "code",
   "execution_count": 1,
   "id": "c757cdfb",
   "metadata": {},
   "outputs": [],
   "source": [
    "import pandas as pd\n",
    "import numpy as np"
   ]
  },
  {
   "cell_type": "code",
   "execution_count": 2,
   "id": "96823d4c",
   "metadata": {},
   "outputs": [],
   "source": [
    "generated_data = 'generated_data/'\n",
    "parquet_file_path = generated_data +  \"speaker_attributes.parquet\""
   ]
  },
  {
   "cell_type": "markdown",
   "id": "3a166029",
   "metadata": {},
   "source": [
    "### Loading the parquet file"
   ]
  },
  {
   "cell_type": "code",
   "execution_count": 3,
   "id": "796f0d8e",
   "metadata": {},
   "outputs": [
    {
     "name": "stdout",
     "output_type": "stream",
     "text": [
      "Wall time: 18.9 s\n"
     ]
    }
   ],
   "source": [
    "%time parquet_df = pd.read_parquet(parquet_file_path)"
   ]
  },
  {
   "cell_type": "code",
   "execution_count": 4,
   "id": "c81270ab",
   "metadata": {},
   "outputs": [
    {
     "name": "stdout",
     "output_type": "stream",
     "text": [
      "Wall time: 0 ns\n"
     ]
    },
    {
     "data": {
      "text/html": [
       "<div>\n",
       "<style scoped>\n",
       "    .dataframe tbody tr th:only-of-type {\n",
       "        vertical-align: middle;\n",
       "    }\n",
       "\n",
       "    .dataframe tbody tr th {\n",
       "        vertical-align: top;\n",
       "    }\n",
       "\n",
       "    .dataframe thead th {\n",
       "        text-align: right;\n",
       "    }\n",
       "</style>\n",
       "<table border=\"1\" class=\"dataframe\">\n",
       "  <thead>\n",
       "    <tr style=\"text-align: right;\">\n",
       "      <th></th>\n",
       "      <th>aliases</th>\n",
       "      <th>date_of_birth</th>\n",
       "      <th>nationality</th>\n",
       "      <th>gender</th>\n",
       "      <th>lastrevid</th>\n",
       "      <th>ethnic_group</th>\n",
       "      <th>US_congress_bio_ID</th>\n",
       "      <th>occupation</th>\n",
       "      <th>party</th>\n",
       "      <th>academic_degree</th>\n",
       "      <th>id</th>\n",
       "      <th>label</th>\n",
       "      <th>candidacy</th>\n",
       "      <th>type</th>\n",
       "      <th>religion</th>\n",
       "    </tr>\n",
       "  </thead>\n",
       "  <tbody>\n",
       "    <tr>\n",
       "      <th>0</th>\n",
       "      <td>[Washington, President Washington, G. Washingt...</td>\n",
       "      <td>[+1732-02-22T00:00:00Z]</td>\n",
       "      <td>[Q161885, Q30]</td>\n",
       "      <td>[Q6581097]</td>\n",
       "      <td>1395141751</td>\n",
       "      <td>None</td>\n",
       "      <td>W000178</td>\n",
       "      <td>[Q82955, Q189290, Q131512, Q1734662, Q294126, ...</td>\n",
       "      <td>[Q327591]</td>\n",
       "      <td>None</td>\n",
       "      <td>Q23</td>\n",
       "      <td>George Washington</td>\n",
       "      <td>[Q698073, Q697949]</td>\n",
       "      <td>item</td>\n",
       "      <td>[Q682443]</td>\n",
       "    </tr>\n",
       "    <tr>\n",
       "      <th>1</th>\n",
       "      <td>[Douglas Noel Adams, Douglas Noël Adams, Dougl...</td>\n",
       "      <td>[+1952-03-11T00:00:00Z]</td>\n",
       "      <td>[Q145]</td>\n",
       "      <td>[Q6581097]</td>\n",
       "      <td>1395737157</td>\n",
       "      <td>[Q7994501]</td>\n",
       "      <td>None</td>\n",
       "      <td>[Q214917, Q28389, Q6625963, Q4853732, Q1884422...</td>\n",
       "      <td>None</td>\n",
       "      <td>None</td>\n",
       "      <td>Q42</td>\n",
       "      <td>Douglas Adams</td>\n",
       "      <td>None</td>\n",
       "      <td>item</td>\n",
       "      <td>None</td>\n",
       "    </tr>\n",
       "    <tr>\n",
       "      <th>2</th>\n",
       "      <td>[Paul Marie Ghislain Otlet, Paul Marie Otlet]</td>\n",
       "      <td>[+1868-08-23T00:00:00Z]</td>\n",
       "      <td>[Q31]</td>\n",
       "      <td>[Q6581097]</td>\n",
       "      <td>1380367296</td>\n",
       "      <td>None</td>\n",
       "      <td>None</td>\n",
       "      <td>[Q36180, Q40348, Q182436, Q1265807, Q205375, Q...</td>\n",
       "      <td>None</td>\n",
       "      <td>None</td>\n",
       "      <td>Q1868</td>\n",
       "      <td>Paul Otlet</td>\n",
       "      <td>None</td>\n",
       "      <td>item</td>\n",
       "      <td>None</td>\n",
       "    </tr>\n",
       "    <tr>\n",
       "      <th>3</th>\n",
       "      <td>[George Walker Bush, Bush Jr., Dubya, GWB, Bus...</td>\n",
       "      <td>[+1946-07-06T00:00:00Z]</td>\n",
       "      <td>[Q30]</td>\n",
       "      <td>[Q6581097]</td>\n",
       "      <td>1395142029</td>\n",
       "      <td>None</td>\n",
       "      <td>None</td>\n",
       "      <td>[Q82955, Q15982858, Q18814623, Q1028181, Q1408...</td>\n",
       "      <td>[Q29468]</td>\n",
       "      <td>None</td>\n",
       "      <td>Q207</td>\n",
       "      <td>George W. Bush</td>\n",
       "      <td>[Q327959, Q464075, Q3586276, Q4450587]</td>\n",
       "      <td>item</td>\n",
       "      <td>[Q329646, Q682443, Q33203]</td>\n",
       "    </tr>\n",
       "    <tr>\n",
       "      <th>4</th>\n",
       "      <td>[Velázquez, Diego Rodríguez de Silva y Velázqu...</td>\n",
       "      <td>[+1599-06-06T00:00:00Z]</td>\n",
       "      <td>[Q29]</td>\n",
       "      <td>[Q6581097]</td>\n",
       "      <td>1391704596</td>\n",
       "      <td>None</td>\n",
       "      <td>None</td>\n",
       "      <td>[Q1028181]</td>\n",
       "      <td>None</td>\n",
       "      <td>None</td>\n",
       "      <td>Q297</td>\n",
       "      <td>Diego Velázquez</td>\n",
       "      <td>None</td>\n",
       "      <td>item</td>\n",
       "      <td>None</td>\n",
       "    </tr>\n",
       "  </tbody>\n",
       "</table>\n",
       "</div>"
      ],
      "text/plain": [
       "                                             aliases            date_of_birth  \\\n",
       "0  [Washington, President Washington, G. Washingt...  [+1732-02-22T00:00:00Z]   \n",
       "1  [Douglas Noel Adams, Douglas Noël Adams, Dougl...  [+1952-03-11T00:00:00Z]   \n",
       "2      [Paul Marie Ghislain Otlet, Paul Marie Otlet]  [+1868-08-23T00:00:00Z]   \n",
       "3  [George Walker Bush, Bush Jr., Dubya, GWB, Bus...  [+1946-07-06T00:00:00Z]   \n",
       "4  [Velázquez, Diego Rodríguez de Silva y Velázqu...  [+1599-06-06T00:00:00Z]   \n",
       "\n",
       "      nationality      gender   lastrevid ethnic_group US_congress_bio_ID  \\\n",
       "0  [Q161885, Q30]  [Q6581097]  1395141751         None            W000178   \n",
       "1          [Q145]  [Q6581097]  1395737157   [Q7994501]               None   \n",
       "2           [Q31]  [Q6581097]  1380367296         None               None   \n",
       "3           [Q30]  [Q6581097]  1395142029         None               None   \n",
       "4           [Q29]  [Q6581097]  1391704596         None               None   \n",
       "\n",
       "                                          occupation      party  \\\n",
       "0  [Q82955, Q189290, Q131512, Q1734662, Q294126, ...  [Q327591]   \n",
       "1  [Q214917, Q28389, Q6625963, Q4853732, Q1884422...       None   \n",
       "2  [Q36180, Q40348, Q182436, Q1265807, Q205375, Q...       None   \n",
       "3  [Q82955, Q15982858, Q18814623, Q1028181, Q1408...   [Q29468]   \n",
       "4                                         [Q1028181]       None   \n",
       "\n",
       "  academic_degree     id              label  \\\n",
       "0            None    Q23  George Washington   \n",
       "1            None    Q42      Douglas Adams   \n",
       "2            None  Q1868         Paul Otlet   \n",
       "3            None   Q207     George W. Bush   \n",
       "4            None   Q297    Diego Velázquez   \n",
       "\n",
       "                                candidacy  type                    religion  \n",
       "0                      [Q698073, Q697949]  item                   [Q682443]  \n",
       "1                                    None  item                        None  \n",
       "2                                    None  item                        None  \n",
       "3  [Q327959, Q464075, Q3586276, Q4450587]  item  [Q329646, Q682443, Q33203]  \n",
       "4                                    None  item                        None  "
      ]
     },
     "execution_count": 4,
     "metadata": {},
     "output_type": "execute_result"
    }
   ],
   "source": [
    "%time parquet_df.head()"
   ]
  },
  {
   "cell_type": "code",
   "execution_count": 5,
   "id": "00362c51",
   "metadata": {},
   "outputs": [
    {
     "name": "stdout",
     "output_type": "stream",
     "text": [
      "<class 'pandas.core.frame.DataFrame'>\n",
      "RangeIndex: 9055981 entries, 0 to 9055980\n",
      "Data columns (total 15 columns):\n",
      " #   Column              Dtype \n",
      "---  ------              ----- \n",
      " 0   aliases             object\n",
      " 1   date_of_birth       object\n",
      " 2   nationality         object\n",
      " 3   gender              object\n",
      " 4   lastrevid           int64 \n",
      " 5   ethnic_group        object\n",
      " 6   US_congress_bio_ID  object\n",
      " 7   occupation          object\n",
      " 8   party               object\n",
      " 9   academic_degree     object\n",
      " 10  id                  object\n",
      " 11  label               object\n",
      " 12  candidacy           object\n",
      " 13  type                object\n",
      " 14  religion            object\n",
      "dtypes: int64(1), object(14)\n",
      "memory usage: 1.0+ GB\n",
      "Wall time: 39 ms\n"
     ]
    }
   ],
   "source": [
    "%time parquet_df.info()"
   ]
  },
  {
   "cell_type": "code",
   "execution_count": null,
   "id": "f0adbf65",
   "metadata": {},
   "outputs": [],
   "source": [
    "%time mem_usage = parquet_df.memory_usage(deep=True).sum()"
   ]
  },
  {
   "cell_type": "code",
   "execution_count": null,
   "id": "01e35950",
   "metadata": {},
   "outputs": [],
   "source": [
    "print('the parquet dataframe takes about {:.2f} gigabytes in memory'.format(mem_usage*1e-9 ))"
   ]
  },
  {
   "cell_type": "markdown",
   "id": "a554a4c6",
   "metadata": {},
   "source": [
    "### Loading the quote sample file"
   ]
  },
  {
   "cell_type": "code",
   "execution_count": null,
   "id": "49c3b7d8",
   "metadata": {},
   "outputs": [],
   "source": [
    "%time quotebank_2019_sample = pd.read_json('generated_data/quotes-2019-nytimes.json.bz2', lines=True, compression='bz2')\n",
    "%time quotebank_2019_sample.head()"
   ]
  },
  {
   "cell_type": "code",
   "execution_count": null,
   "id": "921e67c7",
   "metadata": {},
   "outputs": [],
   "source": [
    "%time mem_usage2 = quotebank_2019_sample.memory_usage(deep=True).sum()\n",
    "print('the quotebank sample dataframe takes about {:.2f} megabytes in memory'.format(mem_usage2*1e-6 ))"
   ]
  },
  {
   "cell_type": "markdown",
   "id": "98f3a8f4",
   "metadata": {},
   "source": [
    "Selecting only the first qid in qids column of sample data and dropping rows with no qids"
   ]
  },
  {
   "cell_type": "code",
   "execution_count": null,
   "id": "67e2f7ca",
   "metadata": {},
   "outputs": [],
   "source": [
    "def preprocess(df):\n",
    "    # remove lines with empty qids\n",
    "    df = df[~df['qids'].str.len().eq(0)]\n",
    "    # take only the first qid\n",
    "    df['qids'] = df['qids'].apply(lambda x: x[0]) # this gives a warning\n",
    "    return df"
   ]
  },
  {
   "cell_type": "code",
   "execution_count": null,
   "id": "d2fdcfb0",
   "metadata": {},
   "outputs": [],
   "source": [
    "quotebank_2019_sample_clean = preprocess(quotebank_2019_sample)\n",
    "quotebank_2019_sample_clean.head()"
   ]
  },
  {
   "cell_type": "markdown",
   "id": "49b0637b",
   "metadata": {},
   "source": [
    "### Merging the parquet file and the qid samples"
   ]
  },
  {
   "cell_type": "code",
   "execution_count": null,
   "id": "11f90ea8",
   "metadata": {
    "scrolled": true
   },
   "outputs": [],
   "source": [
    "%time merged_df = quotebank_2019_sample_clean.merge(parquet_df, left_on = 'qids', right_on = 'id')"
   ]
  },
  {
   "cell_type": "code",
   "execution_count": null,
   "id": "78f6f8d0",
   "metadata": {
    "scrolled": true
   },
   "outputs": [],
   "source": [
    "merged_df.head()"
   ]
  },
  {
   "cell_type": "code",
   "execution_count": null,
   "id": "7a64a7b7",
   "metadata": {},
   "outputs": [],
   "source": [
    "%time mem_usage3 = merged_df.memory_usage(deep=True).sum()*1e-6\n",
    "print('the quotebank merged dataframe takes about {:.2f} megabytes in memory'.format(mem_usage3))"
   ]
  },
  {
   "cell_type": "markdown",
   "id": "cae81422",
   "metadata": {},
   "source": [
    "### Other stuff"
   ]
  },
  {
   "cell_type": "markdown",
   "id": "41e70d45",
   "metadata": {},
   "source": [
    "TODO : make the labels from the parquet file readable using the QID code from the QID to label notebook"
   ]
  },
  {
   "cell_type": "code",
   "execution_count": null,
   "id": "5376c092",
   "metadata": {},
   "outputs": [],
   "source": [
    "type(merged_df['occupation'][1])"
   ]
  },
  {
   "cell_type": "code",
   "execution_count": null,
   "id": "fc581975",
   "metadata": {},
   "outputs": [],
   "source": [
    "merged_df.dtypes"
   ]
  },
  {
   "cell_type": "markdown",
   "id": "ef3b2319",
   "metadata": {},
   "source": [
    "Just looking at the types of every column of the new dataframe"
   ]
  },
  {
   "cell_type": "code",
   "execution_count": null,
   "id": "eeedaf8d",
   "metadata": {},
   "outputs": [],
   "source": [
    "obj_types = {col: set(map(type, merged_df[col])) for col in merged_df.select_dtypes(include=[object])}\n",
    "\n",
    "print(obj_types)"
   ]
  },
  {
   "cell_type": "code",
   "execution_count": null,
   "id": "08d332bc",
   "metadata": {
    "scrolled": true
   },
   "outputs": [],
   "source": [
    "merged_df.iloc[1]"
   ]
  },
  {
   "cell_type": "markdown",
   "id": "bdcb014c",
   "metadata": {},
   "source": [
    "A lot of the columns contain multiple QID entries : "
   ]
  },
  {
   "cell_type": "code",
   "execution_count": null,
   "id": "04ecd1a5",
   "metadata": {},
   "outputs": [],
   "source": [
    "print('maximum number of QID entry for each of the new columns')\n",
    "print('nationality :', merged_df['nationality'].apply(lambda x : len(x) if x is not None else 0).max())\n",
    "print('gender :', merged_df['gender'].apply(lambda x : len(x) if x is not None else 0).max())\n",
    "print('ethnic_group :', merged_df['ethnic_group'].apply(lambda x : len(x) if x is not None else 0).max())\n",
    "print('US_congress_bio_ID :', merged_df['US_congress_bio_ID'].apply(lambda x : len(x) if x is not None else 0).max())\n",
    "print('occupation :', merged_df['occupation'].apply(lambda x : len(x) if x is not None else 0).max())\n",
    "print('party :', merged_df['party'].apply(lambda x : len(x) if x is not None else 0).max())\n",
    "print('academic_degree :', merged_df['academic_degree'].apply(lambda x : len(x) if x is not None else 0).max())\n",
    "print('id :', merged_df['id'].apply(lambda x : len(x) if x is not None else 0).max())\n",
    "print('label :', merged_df['label'].apply(lambda x : len(x) if x is not None else 0).max())\n",
    "print('candidacy :', merged_df['candidacy'].apply(lambda x : len(x) if x is not None else 0).max())\n",
    "print('type :', merged_df['type'].apply(lambda x : len(x) if x is not None else 0).max())\n",
    "print('religion :', merged_df['religion'].apply(lambda x : len(x) if x is not None else 0).max())"
   ]
  },
  {
   "cell_type": "markdown",
   "id": "6ff43936",
   "metadata": {},
   "source": [
    "Since this time it is a reasonable number ( vers 451 in the 2019 sample dataset) we could potentially match all entries to terms inside of "
   ]
  },
  {
   "cell_type": "markdown",
   "id": "1107d6ff",
   "metadata": {},
   "source": [
    "Instead of manually checking we use library re to scan every column if there are QIDs. \n",
    "Most columns are composed of a numpy nd.array containing a tuple of strings, every string being a qid. So we take the first access the tuple, then take the first element, then check if it's a QID."
   ]
  },
  {
   "cell_type": "code",
   "execution_count": null,
   "id": "be4159e7",
   "metadata": {},
   "outputs": [],
   "source": [
    "import re"
   ]
  },
  {
   "cell_type": "code",
   "execution_count": null,
   "id": "21e87b04",
   "metadata": {},
   "outputs": [],
   "source": [
    "def check_if_qid(df):\n",
    "    '''\n",
    "    take first term of list out of ndarray, and checks if it's a QID\n",
    "    '''\n",
    "    return df.apply(lambda x: x[0] if x is not None else None).str.contains(r'[Q][0-9]+').any()"
   ]
  },
  {
   "cell_type": "code",
   "execution_count": null,
   "id": "5662cb54",
   "metadata": {},
   "outputs": [],
   "source": [
    "print('column : nationality ', check_if_qid(merged_df['nationality']))\n",
    "print('column : gender ', check_if_qid(merged_df['gender']))\n",
    "print('column : ethnic_group ', check_if_qid(merged_df['ethnic_group']))\n",
    "print('column : US_congress_bio_ID ', check_if_qid(merged_df['US_congress_bio_ID']))\n",
    "print('column : occupation ', check_if_qid(merged_df['occupation']))\n",
    "print('column : party ', check_if_qid(merged_df['party']))\n",
    "print('column : academic_degree ', check_if_qid(merged_df['academic_degree']))\n",
    "print('column : id ', check_if_qid(merged_df['id']))\n",
    "print('column : label ', check_if_qid(merged_df['label']))\n",
    "print('column : candidacy ', check_if_qid(merged_df['candidacy']))\n",
    "print('column : type ', check_if_qid(merged_df['type']))\n",
    "print('column : religion ', check_if_qid(merged_df['religion']))"
   ]
  },
  {
   "cell_type": "markdown",
   "id": "2cce00b0",
   "metadata": {},
   "source": [
    "Selected columns that need QID to label translations : \n",
    " - nationality\n",
    " - gender\n",
    " - ethnic_group\n",
    " - occupation\n",
    " - party\n",
    " - academic_degree\n",
    " - candidacy\n",
    " - religion"
   ]
  },
  {
   "cell_type": "code",
   "execution_count": null,
   "id": "1333fe08",
   "metadata": {},
   "outputs": [],
   "source": [
    "def process_chunk(chunk, qids_clean_merged):\n",
    "    \"\"\"\n",
    "    this function processes one chunk of data\n",
    "    \"\"\"\n",
    "    qids_clean_merged = qids_clean_merged.reindex(columns=qids_clean_merged.columns.union(chunk.columns))\n",
    "    \n",
    "    qids_clean_merged.update(chunk)\n",
    "\n",
    "    return qids_clean_merged\n",
    "\n",
    "def process_qid_one(path_to_file, qids_clean, chunksize = 10 ** 4):\n",
    "    \"\"\"\n",
    "    this function processes a csv file in chunks\n",
    "    \n",
    "    here it attributes qid to their respective labels and descriptions \n",
    "    ( by joining the qid label df to the df not containing them)\n",
    "    \"\"\"\n",
    "    qids_clean_merged = qids_clean.copy()\n",
    "    qids_clean_merged['Label']=np.NaN\n",
    "    qids_clean_merged['Description']=np.NaN\n",
    "    qids_clean_merged.set_index('qids',inplace=True)\n",
    "    qids_clean_merged.index.rename('QID', inplace=True)\n",
    "    \n",
    "    with pd.read_csv(path_to_file, compression='bz2', index_col='QID', chunksize=chunksize) as df_reader:\n",
    "        for chunk in df_reader:\n",
    "            qids_clean_merged = process_chunk(chunk, qids_clean_merged)\n",
    "    return qids_clean_merged"
   ]
  },
  {
   "cell_type": "code",
   "execution_count": null,
   "id": "820ef59e",
   "metadata": {},
   "outputs": [],
   "source": [
    "qids_onlyquotebank_path = generated_data + \"wikidata_labels_descriptions_quotebank.csv.bz2\""
   ]
  },
  {
   "cell_type": "code",
   "execution_count": null,
   "id": "59bb0b37",
   "metadata": {},
   "outputs": [],
   "source": [
    "def first_qid(df):\n",
    "    '''\n",
    "    take first term of list out of ndarray\n",
    "    '''\n",
    "    return df.apply(lambda x: x[0] if x is not None else None)"
   ]
  },
  {
   "cell_type": "code",
   "execution_count": null,
   "id": "c57a5fea",
   "metadata": {},
   "outputs": [],
   "source": [
    "first_qid(merged_df['religion']).dropna()"
   ]
  },
  {
   "cell_type": "code",
   "execution_count": null,
   "id": "ba72b323",
   "metadata": {},
   "outputs": [],
   "source": [
    "def prep_df(df):\n",
    "    df = first_qid(df).to_frame().copy()\n",
    "    return df.rename(columns = {df.columns[0]:'qids'})"
   ]
  },
  {
   "cell_type": "code",
   "execution_count": null,
   "id": "0c530657",
   "metadata": {},
   "outputs": [],
   "source": [
    "nationality_df = prep_df(merged_df['nationality'])\n",
    "gender_df = prep_df(merged_df['gender'])\n",
    "ethnic_group_df = prep_df(merged_df['ethnic_group'])\n",
    "occupation_df = prep_df(merged_df['occupation'])\n",
    "party_df = prep_df(merged_df['party'])\n",
    "academic_degree_df = prep_df(merged_df['academic_degree'])\n",
    "candidacy_df = prep_df(merged_df['candidacy'])\n",
    "religion_df = prep_df(merged_df['religion'])\n",
    "religion_df"
   ]
  },
  {
   "cell_type": "code",
   "execution_count": null,
   "id": "200b7ef5",
   "metadata": {},
   "outputs": [],
   "source": [
    "%time nationality_df = process_qid_one(qids_onlyquotebank_path, nationality_df , chunksize = 10 ** 6)\n",
    "%time gender_df = process_qid_one(qids_onlyquotebank_path, gender_df , chunksize = 10 ** 6)\n",
    "%time ethnic_group_df = process_qid_one(qids_onlyquotebank_path, ethnic_group_df , chunksize = 10 ** 6)\n",
    "%time occupation_df = process_qid_one(qids_onlyquotebank_path, occupation_df , chunksize = 10 ** 6)\n",
    "%time party_df = process_qid_one(qids_onlyquotebank_path, party_df , chunksize = 10 ** 6)\n",
    "%time academic_degree_df = process_qid_one(qids_onlyquotebank_path, academic_degree_df , chunksize = 10 ** 6)\n",
    "%time candidacy_df = process_qid_one(qids_onlyquotebank_path, candidacy_df , chunksize = 10 ** 6)\n",
    "%time religion_df = process_qid_one(qids_onlyquotebank_path, religion_df , chunksize = 10 ** 6)"
   ]
  },
  {
   "cell_type": "code",
   "execution_count": null,
   "id": "380449a1",
   "metadata": {},
   "outputs": [],
   "source": []
  },
  {
   "cell_type": "code",
   "execution_count": null,
   "id": "2906c6a5",
   "metadata": {},
   "outputs": [],
   "source": [
    "religion.dropna()"
   ]
  },
  {
   "cell_type": "code",
   "execution_count": null,
   "id": "34310861",
   "metadata": {},
   "outputs": [],
   "source": []
  }
 ],
 "metadata": {
  "kernelspec": {
   "display_name": "Python 3 (ipykernel)",
   "language": "python",
   "name": "python3"
  },
  "language_info": {
   "codemirror_mode": {
    "name": "ipython",
    "version": 3
   },
   "file_extension": ".py",
   "mimetype": "text/x-python",
   "name": "python",
   "nbconvert_exporter": "python",
   "pygments_lexer": "ipython3",
   "version": "3.8.11"
  }
 },
 "nbformat": 4,
 "nbformat_minor": 5
}
