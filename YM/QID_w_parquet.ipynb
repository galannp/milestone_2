{
 "cells": [
  {
   "cell_type": "markdown",
   "id": "17e0e772",
   "metadata": {},
   "source": [
    "Important links : https://docs.dask.org/en/stable/dataframe.html"
   ]
  },
  {
   "cell_type": "code",
   "execution_count": 1,
   "id": "c757cdfb",
   "metadata": {},
   "outputs": [],
   "source": [
    "import pandas as pd\n",
    "import numpy as np"
   ]
  },
  {
   "cell_type": "code",
   "execution_count": 2,
   "id": "96823d4c",
   "metadata": {},
   "outputs": [],
   "source": [
    "generated_data = 'generated_data/'\n",
    "parquet_file_path = generated_data +  \"speaker_attributes.parquet\""
   ]
  },
  {
   "cell_type": "markdown",
   "id": "3a166029",
   "metadata": {},
   "source": [
    "### Loading the parquet file"
   ]
  },
  {
   "cell_type": "code",
   "execution_count": 3,
   "id": "796f0d8e",
   "metadata": {},
   "outputs": [
    {
     "name": "stdout",
     "output_type": "stream",
     "text": [
      "Wall time: 17.8 s\n"
     ]
    }
   ],
   "source": [
    "%time parquet_df = pd.read_parquet(parquet_file_path)"
   ]
  },
  {
   "cell_type": "code",
   "execution_count": 4,
   "id": "c81270ab",
   "metadata": {},
   "outputs": [
    {
     "name": "stdout",
     "output_type": "stream",
     "text": [
      "Wall time: 0 ns\n"
     ]
    },
    {
     "data": {
      "text/html": [
       "<div>\n",
       "<style scoped>\n",
       "    .dataframe tbody tr th:only-of-type {\n",
       "        vertical-align: middle;\n",
       "    }\n",
       "\n",
       "    .dataframe tbody tr th {\n",
       "        vertical-align: top;\n",
       "    }\n",
       "\n",
       "    .dataframe thead th {\n",
       "        text-align: right;\n",
       "    }\n",
       "</style>\n",
       "<table border=\"1\" class=\"dataframe\">\n",
       "  <thead>\n",
       "    <tr style=\"text-align: right;\">\n",
       "      <th></th>\n",
       "      <th>aliases</th>\n",
       "      <th>date_of_birth</th>\n",
       "      <th>nationality</th>\n",
       "      <th>gender</th>\n",
       "      <th>lastrevid</th>\n",
       "      <th>ethnic_group</th>\n",
       "      <th>US_congress_bio_ID</th>\n",
       "      <th>occupation</th>\n",
       "      <th>party</th>\n",
       "      <th>academic_degree</th>\n",
       "      <th>id</th>\n",
       "      <th>label</th>\n",
       "      <th>candidacy</th>\n",
       "      <th>type</th>\n",
       "      <th>religion</th>\n",
       "    </tr>\n",
       "  </thead>\n",
       "  <tbody>\n",
       "    <tr>\n",
       "      <th>0</th>\n",
       "      <td>[Washington, President Washington, G. Washingt...</td>\n",
       "      <td>[+1732-02-22T00:00:00Z]</td>\n",
       "      <td>[Q161885, Q30]</td>\n",
       "      <td>[Q6581097]</td>\n",
       "      <td>1395141751</td>\n",
       "      <td>None</td>\n",
       "      <td>W000178</td>\n",
       "      <td>[Q82955, Q189290, Q131512, Q1734662, Q294126, ...</td>\n",
       "      <td>[Q327591]</td>\n",
       "      <td>None</td>\n",
       "      <td>Q23</td>\n",
       "      <td>George Washington</td>\n",
       "      <td>[Q698073, Q697949]</td>\n",
       "      <td>item</td>\n",
       "      <td>[Q682443]</td>\n",
       "    </tr>\n",
       "    <tr>\n",
       "      <th>1</th>\n",
       "      <td>[Douglas Noel Adams, Douglas Noël Adams, Dougl...</td>\n",
       "      <td>[+1952-03-11T00:00:00Z]</td>\n",
       "      <td>[Q145]</td>\n",
       "      <td>[Q6581097]</td>\n",
       "      <td>1395737157</td>\n",
       "      <td>[Q7994501]</td>\n",
       "      <td>None</td>\n",
       "      <td>[Q214917, Q28389, Q6625963, Q4853732, Q1884422...</td>\n",
       "      <td>None</td>\n",
       "      <td>None</td>\n",
       "      <td>Q42</td>\n",
       "      <td>Douglas Adams</td>\n",
       "      <td>None</td>\n",
       "      <td>item</td>\n",
       "      <td>None</td>\n",
       "    </tr>\n",
       "    <tr>\n",
       "      <th>2</th>\n",
       "      <td>[Paul Marie Ghislain Otlet, Paul Marie Otlet]</td>\n",
       "      <td>[+1868-08-23T00:00:00Z]</td>\n",
       "      <td>[Q31]</td>\n",
       "      <td>[Q6581097]</td>\n",
       "      <td>1380367296</td>\n",
       "      <td>None</td>\n",
       "      <td>None</td>\n",
       "      <td>[Q36180, Q40348, Q182436, Q1265807, Q205375, Q...</td>\n",
       "      <td>None</td>\n",
       "      <td>None</td>\n",
       "      <td>Q1868</td>\n",
       "      <td>Paul Otlet</td>\n",
       "      <td>None</td>\n",
       "      <td>item</td>\n",
       "      <td>None</td>\n",
       "    </tr>\n",
       "    <tr>\n",
       "      <th>3</th>\n",
       "      <td>[George Walker Bush, Bush Jr., Dubya, GWB, Bus...</td>\n",
       "      <td>[+1946-07-06T00:00:00Z]</td>\n",
       "      <td>[Q30]</td>\n",
       "      <td>[Q6581097]</td>\n",
       "      <td>1395142029</td>\n",
       "      <td>None</td>\n",
       "      <td>None</td>\n",
       "      <td>[Q82955, Q15982858, Q18814623, Q1028181, Q1408...</td>\n",
       "      <td>[Q29468]</td>\n",
       "      <td>None</td>\n",
       "      <td>Q207</td>\n",
       "      <td>George W. Bush</td>\n",
       "      <td>[Q327959, Q464075, Q3586276, Q4450587]</td>\n",
       "      <td>item</td>\n",
       "      <td>[Q329646, Q682443, Q33203]</td>\n",
       "    </tr>\n",
       "    <tr>\n",
       "      <th>4</th>\n",
       "      <td>[Velázquez, Diego Rodríguez de Silva y Velázqu...</td>\n",
       "      <td>[+1599-06-06T00:00:00Z]</td>\n",
       "      <td>[Q29]</td>\n",
       "      <td>[Q6581097]</td>\n",
       "      <td>1391704596</td>\n",
       "      <td>None</td>\n",
       "      <td>None</td>\n",
       "      <td>[Q1028181]</td>\n",
       "      <td>None</td>\n",
       "      <td>None</td>\n",
       "      <td>Q297</td>\n",
       "      <td>Diego Velázquez</td>\n",
       "      <td>None</td>\n",
       "      <td>item</td>\n",
       "      <td>None</td>\n",
       "    </tr>\n",
       "  </tbody>\n",
       "</table>\n",
       "</div>"
      ],
      "text/plain": [
       "                                             aliases            date_of_birth  \\\n",
       "0  [Washington, President Washington, G. Washingt...  [+1732-02-22T00:00:00Z]   \n",
       "1  [Douglas Noel Adams, Douglas Noël Adams, Dougl...  [+1952-03-11T00:00:00Z]   \n",
       "2      [Paul Marie Ghislain Otlet, Paul Marie Otlet]  [+1868-08-23T00:00:00Z]   \n",
       "3  [George Walker Bush, Bush Jr., Dubya, GWB, Bus...  [+1946-07-06T00:00:00Z]   \n",
       "4  [Velázquez, Diego Rodríguez de Silva y Velázqu...  [+1599-06-06T00:00:00Z]   \n",
       "\n",
       "      nationality      gender   lastrevid ethnic_group US_congress_bio_ID  \\\n",
       "0  [Q161885, Q30]  [Q6581097]  1395141751         None            W000178   \n",
       "1          [Q145]  [Q6581097]  1395737157   [Q7994501]               None   \n",
       "2           [Q31]  [Q6581097]  1380367296         None               None   \n",
       "3           [Q30]  [Q6581097]  1395142029         None               None   \n",
       "4           [Q29]  [Q6581097]  1391704596         None               None   \n",
       "\n",
       "                                          occupation      party  \\\n",
       "0  [Q82955, Q189290, Q131512, Q1734662, Q294126, ...  [Q327591]   \n",
       "1  [Q214917, Q28389, Q6625963, Q4853732, Q1884422...       None   \n",
       "2  [Q36180, Q40348, Q182436, Q1265807, Q205375, Q...       None   \n",
       "3  [Q82955, Q15982858, Q18814623, Q1028181, Q1408...   [Q29468]   \n",
       "4                                         [Q1028181]       None   \n",
       "\n",
       "  academic_degree     id              label  \\\n",
       "0            None    Q23  George Washington   \n",
       "1            None    Q42      Douglas Adams   \n",
       "2            None  Q1868         Paul Otlet   \n",
       "3            None   Q207     George W. Bush   \n",
       "4            None   Q297    Diego Velázquez   \n",
       "\n",
       "                                candidacy  type                    religion  \n",
       "0                      [Q698073, Q697949]  item                   [Q682443]  \n",
       "1                                    None  item                        None  \n",
       "2                                    None  item                        None  \n",
       "3  [Q327959, Q464075, Q3586276, Q4450587]  item  [Q329646, Q682443, Q33203]  \n",
       "4                                    None  item                        None  "
      ]
     },
     "execution_count": 4,
     "metadata": {},
     "output_type": "execute_result"
    }
   ],
   "source": [
    "%time parquet_df.head()"
   ]
  },
  {
   "cell_type": "code",
   "execution_count": 5,
   "id": "00362c51",
   "metadata": {},
   "outputs": [
    {
     "name": "stdout",
     "output_type": "stream",
     "text": [
      "<class 'pandas.core.frame.DataFrame'>\n",
      "RangeIndex: 9055981 entries, 0 to 9055980\n",
      "Data columns (total 15 columns):\n",
      " #   Column              Dtype \n",
      "---  ------              ----- \n",
      " 0   aliases             object\n",
      " 1   date_of_birth       object\n",
      " 2   nationality         object\n",
      " 3   gender              object\n",
      " 4   lastrevid           int64 \n",
      " 5   ethnic_group        object\n",
      " 6   US_congress_bio_ID  object\n",
      " 7   occupation          object\n",
      " 8   party               object\n",
      " 9   academic_degree     object\n",
      " 10  id                  object\n",
      " 11  label               object\n",
      " 12  candidacy           object\n",
      " 13  type                object\n",
      " 14  religion            object\n",
      "dtypes: int64(1), object(14)\n",
      "memory usage: 1.0+ GB\n",
      "Wall time: 32 ms\n"
     ]
    }
   ],
   "source": [
    "%time parquet_df.info()"
   ]
  },
  {
   "cell_type": "code",
   "execution_count": 6,
   "id": "f0adbf65",
   "metadata": {},
   "outputs": [
    {
     "name": "stdout",
     "output_type": "stream",
     "text": [
      "Wall time: 13 s\n"
     ]
    }
   ],
   "source": [
    "%time mem_usage = parquet_df.memory_usage(deep=True).sum()"
   ]
  },
  {
   "cell_type": "code",
   "execution_count": 7,
   "id": "01e35950",
   "metadata": {},
   "outputs": [
    {
     "name": "stdout",
     "output_type": "stream",
     "text": [
      "the parquet dataframe takes about 6.41 gigabytes in memory\n"
     ]
    }
   ],
   "source": [
    "print('the parquet dataframe takes about {:.2f} gigabytes in memory'.format(mem_usage*1e-9 ))"
   ]
  },
  {
   "cell_type": "markdown",
   "id": "a554a4c6",
   "metadata": {},
   "source": [
    "### Loading the quote sample file"
   ]
  },
  {
   "cell_type": "code",
   "execution_count": 8,
   "id": "49c3b7d8",
   "metadata": {},
   "outputs": [
    {
     "name": "stdout",
     "output_type": "stream",
     "text": [
      "Wall time: 11.7 s\n",
      "Wall time: 0 ns\n"
     ]
    },
    {
     "data": {
      "text/html": [
       "<div>\n",
       "<style scoped>\n",
       "    .dataframe tbody tr th:only-of-type {\n",
       "        vertical-align: middle;\n",
       "    }\n",
       "\n",
       "    .dataframe tbody tr th {\n",
       "        vertical-align: top;\n",
       "    }\n",
       "\n",
       "    .dataframe thead th {\n",
       "        text-align: right;\n",
       "    }\n",
       "</style>\n",
       "<table border=\"1\" class=\"dataframe\">\n",
       "  <thead>\n",
       "    <tr style=\"text-align: right;\">\n",
       "      <th></th>\n",
       "      <th>quoteID</th>\n",
       "      <th>quotation</th>\n",
       "      <th>speaker</th>\n",
       "      <th>qids</th>\n",
       "      <th>date</th>\n",
       "      <th>numOccurrences</th>\n",
       "      <th>probas</th>\n",
       "      <th>urls</th>\n",
       "      <th>phase</th>\n",
       "    </tr>\n",
       "  </thead>\n",
       "  <tbody>\n",
       "    <tr>\n",
       "      <th>0</th>\n",
       "      <td>2019-04-17-024782</td>\n",
       "      <td>It is not a low-income immigration,</td>\n",
       "      <td>James Fisher</td>\n",
       "      <td>[Q16213953, Q20707104, Q43143598, Q58886302, Q...</td>\n",
       "      <td>2019-04-17 13:31:18</td>\n",
       "      <td>1</td>\n",
       "      <td>[[James Fisher, 0.7475], [None, 0.2525]]</td>\n",
       "      <td>[https://www.nytimes.com/2019/04/17/realestate...</td>\n",
       "      <td>E</td>\n",
       "    </tr>\n",
       "    <tr>\n",
       "      <th>1</th>\n",
       "      <td>2019-04-02-001128</td>\n",
       "      <td>a champion figure skater switching to roller s...</td>\n",
       "      <td>John Updike</td>\n",
       "      <td>[Q105756]</td>\n",
       "      <td>2019-04-02 14:58:33</td>\n",
       "      <td>2</td>\n",
       "      <td>[[John Updike, 0.5856], [None, 0.4144]]</td>\n",
       "      <td>[https://www.nytimes.com/2019/04/02/opinion/vl...</td>\n",
       "      <td>E</td>\n",
       "    </tr>\n",
       "    <tr>\n",
       "      <th>2</th>\n",
       "      <td>2019-05-09-055187</td>\n",
       "      <td>It makes it much more difficult for him to mak...</td>\n",
       "      <td>None</td>\n",
       "      <td>[]</td>\n",
       "      <td>2019-05-09 18:11:29</td>\n",
       "      <td>1</td>\n",
       "      <td>[[None, 0.6493], [President Bill Clinton, 0.27...</td>\n",
       "      <td>[http://mobile.nytimes.com/2019/05/09/world/as...</td>\n",
       "      <td>E</td>\n",
       "    </tr>\n",
       "    <tr>\n",
       "      <th>3</th>\n",
       "      <td>2019-10-31-056366</td>\n",
       "      <td>It puts me in a predicament,</td>\n",
       "      <td>Xavier Becerra</td>\n",
       "      <td>[Q1855840]</td>\n",
       "      <td>2019-10-31 16:45:15</td>\n",
       "      <td>3</td>\n",
       "      <td>[[Xavier Becerra, 0.9065], [None, 0.0909], [St...</td>\n",
       "      <td>[http://www.nytimes.com/2019/10/31/technology/...</td>\n",
       "      <td>E</td>\n",
       "    </tr>\n",
       "    <tr>\n",
       "      <th>4</th>\n",
       "      <td>2019-01-04-001792</td>\n",
       "      <td>A Pile of Leaves.</td>\n",
       "      <td>None</td>\n",
       "      <td>[]</td>\n",
       "      <td>2019-01-04 10:00:07</td>\n",
       "      <td>1</td>\n",
       "      <td>[[None, 0.8737], [Jason Fulford, 0.1263]]</td>\n",
       "      <td>[https://www.nytimes.com/2019/01/04/books/revi...</td>\n",
       "      <td>E</td>\n",
       "    </tr>\n",
       "  </tbody>\n",
       "</table>\n",
       "</div>"
      ],
      "text/plain": [
       "             quoteID                                          quotation  \\\n",
       "0  2019-04-17-024782                It is not a low-income immigration,   \n",
       "1  2019-04-02-001128  a champion figure skater switching to roller s...   \n",
       "2  2019-05-09-055187  It makes it much more difficult for him to mak...   \n",
       "3  2019-10-31-056366                       It puts me in a predicament,   \n",
       "4  2019-01-04-001792                                  A Pile of Leaves.   \n",
       "\n",
       "          speaker                                               qids  \\\n",
       "0    James Fisher  [Q16213953, Q20707104, Q43143598, Q58886302, Q...   \n",
       "1     John Updike                                          [Q105756]   \n",
       "2            None                                                 []   \n",
       "3  Xavier Becerra                                         [Q1855840]   \n",
       "4            None                                                 []   \n",
       "\n",
       "                 date  numOccurrences  \\\n",
       "0 2019-04-17 13:31:18               1   \n",
       "1 2019-04-02 14:58:33               2   \n",
       "2 2019-05-09 18:11:29               1   \n",
       "3 2019-10-31 16:45:15               3   \n",
       "4 2019-01-04 10:00:07               1   \n",
       "\n",
       "                                              probas  \\\n",
       "0           [[James Fisher, 0.7475], [None, 0.2525]]   \n",
       "1            [[John Updike, 0.5856], [None, 0.4144]]   \n",
       "2  [[None, 0.6493], [President Bill Clinton, 0.27...   \n",
       "3  [[Xavier Becerra, 0.9065], [None, 0.0909], [St...   \n",
       "4          [[None, 0.8737], [Jason Fulford, 0.1263]]   \n",
       "\n",
       "                                                urls phase  \n",
       "0  [https://www.nytimes.com/2019/04/17/realestate...     E  \n",
       "1  [https://www.nytimes.com/2019/04/02/opinion/vl...     E  \n",
       "2  [http://mobile.nytimes.com/2019/05/09/world/as...     E  \n",
       "3  [http://www.nytimes.com/2019/10/31/technology/...     E  \n",
       "4  [https://www.nytimes.com/2019/01/04/books/revi...     E  "
      ]
     },
     "execution_count": 8,
     "metadata": {},
     "output_type": "execute_result"
    }
   ],
   "source": [
    "%time quotebank_2019_sample = pd.read_json('generated_data/quotes-2019-nytimes.json.bz2', lines=True, compression='bz2')\n",
    "%time quotebank_2019_sample.head()"
   ]
  },
  {
   "cell_type": "code",
   "execution_count": 9,
   "id": "921e67c7",
   "metadata": {},
   "outputs": [
    {
     "name": "stdout",
     "output_type": "stream",
     "text": [
      "Wall time: 286 ms\n",
      "the quotebank sample dataframe takes about 135.38 megabytes in memory\n"
     ]
    }
   ],
   "source": [
    "%time mem_usage2 = quotebank_2019_sample.memory_usage(deep=True).sum()\n",
    "print('the quotebank sample dataframe takes about {:.2f} megabytes in memory'.format(mem_usage2*1e-6 ))"
   ]
  },
  {
   "cell_type": "markdown",
   "id": "98f3a8f4",
   "metadata": {},
   "source": [
    "Selecting only the first qid in qids column of sample data and dropping rows with no qids"
   ]
  },
  {
   "cell_type": "code",
   "execution_count": 10,
   "id": "67e2f7ca",
   "metadata": {},
   "outputs": [],
   "source": [
    "def preprocess(df):\n",
    "    # remove lines with empty qids\n",
    "    df = df[~df['qids'].str.len().eq(0)]\n",
    "    # take only the first qid\n",
    "    df['qids'] = df['qids'].apply(lambda x: x[0]) # this gives a warning\n",
    "    return df"
   ]
  },
  {
   "cell_type": "code",
   "execution_count": 11,
   "id": "d2fdcfb0",
   "metadata": {},
   "outputs": [
    {
     "name": "stderr",
     "output_type": "stream",
     "text": [
      "C:\\Users\\Younes\\AppData\\Local\\Temp/ipykernel_13260/3604900785.py:5: SettingWithCopyWarning: \n",
      "A value is trying to be set on a copy of a slice from a DataFrame.\n",
      "Try using .loc[row_indexer,col_indexer] = value instead\n",
      "\n",
      "See the caveats in the documentation: https://pandas.pydata.org/pandas-docs/stable/user_guide/indexing.html#returning-a-view-versus-a-copy\n",
      "  df['qids'] = df['qids'].apply(lambda x: x[0]) # this gives a warning\n"
     ]
    },
    {
     "data": {
      "text/html": [
       "<div>\n",
       "<style scoped>\n",
       "    .dataframe tbody tr th:only-of-type {\n",
       "        vertical-align: middle;\n",
       "    }\n",
       "\n",
       "    .dataframe tbody tr th {\n",
       "        vertical-align: top;\n",
       "    }\n",
       "\n",
       "    .dataframe thead th {\n",
       "        text-align: right;\n",
       "    }\n",
       "</style>\n",
       "<table border=\"1\" class=\"dataframe\">\n",
       "  <thead>\n",
       "    <tr style=\"text-align: right;\">\n",
       "      <th></th>\n",
       "      <th>quoteID</th>\n",
       "      <th>quotation</th>\n",
       "      <th>speaker</th>\n",
       "      <th>qids</th>\n",
       "      <th>date</th>\n",
       "      <th>numOccurrences</th>\n",
       "      <th>probas</th>\n",
       "      <th>urls</th>\n",
       "      <th>phase</th>\n",
       "    </tr>\n",
       "  </thead>\n",
       "  <tbody>\n",
       "    <tr>\n",
       "      <th>0</th>\n",
       "      <td>2019-04-17-024782</td>\n",
       "      <td>It is not a low-income immigration,</td>\n",
       "      <td>James Fisher</td>\n",
       "      <td>Q16213953</td>\n",
       "      <td>2019-04-17 13:31:18</td>\n",
       "      <td>1</td>\n",
       "      <td>[[James Fisher, 0.7475], [None, 0.2525]]</td>\n",
       "      <td>[https://www.nytimes.com/2019/04/17/realestate...</td>\n",
       "      <td>E</td>\n",
       "    </tr>\n",
       "    <tr>\n",
       "      <th>1</th>\n",
       "      <td>2019-04-02-001128</td>\n",
       "      <td>a champion figure skater switching to roller s...</td>\n",
       "      <td>John Updike</td>\n",
       "      <td>Q105756</td>\n",
       "      <td>2019-04-02 14:58:33</td>\n",
       "      <td>2</td>\n",
       "      <td>[[John Updike, 0.5856], [None, 0.4144]]</td>\n",
       "      <td>[https://www.nytimes.com/2019/04/02/opinion/vl...</td>\n",
       "      <td>E</td>\n",
       "    </tr>\n",
       "    <tr>\n",
       "      <th>3</th>\n",
       "      <td>2019-10-31-056366</td>\n",
       "      <td>It puts me in a predicament,</td>\n",
       "      <td>Xavier Becerra</td>\n",
       "      <td>Q1855840</td>\n",
       "      <td>2019-10-31 16:45:15</td>\n",
       "      <td>3</td>\n",
       "      <td>[[Xavier Becerra, 0.9065], [None, 0.0909], [St...</td>\n",
       "      <td>[http://www.nytimes.com/2019/10/31/technology/...</td>\n",
       "      <td>E</td>\n",
       "    </tr>\n",
       "    <tr>\n",
       "      <th>5</th>\n",
       "      <td>2019-08-15-002017</td>\n",
       "      <td>A Senator we can call our own.</td>\n",
       "      <td>Tom Rath</td>\n",
       "      <td>Q7817334</td>\n",
       "      <td>2019-08-15 22:36:33</td>\n",
       "      <td>1</td>\n",
       "      <td>[[Tom Rath, 0.7598], [None, 0.1993], [Warren R...</td>\n",
       "      <td>[http://www.nytimes.com/2019/08/15/us/politics...</td>\n",
       "      <td>E</td>\n",
       "    </tr>\n",
       "    <tr>\n",
       "      <th>8</th>\n",
       "      <td>2019-07-22-032883</td>\n",
       "      <td>It's a success, a relief and a technical feat,</td>\n",
       "      <td>Florence Parly</td>\n",
       "      <td>Q3074013</td>\n",
       "      <td>2019-07-22 02:37:50</td>\n",
       "      <td>21</td>\n",
       "      <td>[[Florence Parly, 0.9262], [None, 0.0738]]</td>\n",
       "      <td>[http://www.breitbart.com/news/french-submarin...</td>\n",
       "      <td>E</td>\n",
       "    </tr>\n",
       "  </tbody>\n",
       "</table>\n",
       "</div>"
      ],
      "text/plain": [
       "             quoteID                                          quotation  \\\n",
       "0  2019-04-17-024782                It is not a low-income immigration,   \n",
       "1  2019-04-02-001128  a champion figure skater switching to roller s...   \n",
       "3  2019-10-31-056366                       It puts me in a predicament,   \n",
       "5  2019-08-15-002017                     A Senator we can call our own.   \n",
       "8  2019-07-22-032883     It's a success, a relief and a technical feat,   \n",
       "\n",
       "          speaker       qids                date  numOccurrences  \\\n",
       "0    James Fisher  Q16213953 2019-04-17 13:31:18               1   \n",
       "1     John Updike    Q105756 2019-04-02 14:58:33               2   \n",
       "3  Xavier Becerra   Q1855840 2019-10-31 16:45:15               3   \n",
       "5        Tom Rath   Q7817334 2019-08-15 22:36:33               1   \n",
       "8  Florence Parly   Q3074013 2019-07-22 02:37:50              21   \n",
       "\n",
       "                                              probas  \\\n",
       "0           [[James Fisher, 0.7475], [None, 0.2525]]   \n",
       "1            [[John Updike, 0.5856], [None, 0.4144]]   \n",
       "3  [[Xavier Becerra, 0.9065], [None, 0.0909], [St...   \n",
       "5  [[Tom Rath, 0.7598], [None, 0.1993], [Warren R...   \n",
       "8         [[Florence Parly, 0.9262], [None, 0.0738]]   \n",
       "\n",
       "                                                urls phase  \n",
       "0  [https://www.nytimes.com/2019/04/17/realestate...     E  \n",
       "1  [https://www.nytimes.com/2019/04/02/opinion/vl...     E  \n",
       "3  [http://www.nytimes.com/2019/10/31/technology/...     E  \n",
       "5  [http://www.nytimes.com/2019/08/15/us/politics...     E  \n",
       "8  [http://www.breitbart.com/news/french-submarin...     E  "
      ]
     },
     "execution_count": 11,
     "metadata": {},
     "output_type": "execute_result"
    }
   ],
   "source": [
    "quotebank_2019_sample_clean = preprocess(quotebank_2019_sample)\n",
    "quotebank_2019_sample_clean.head()"
   ]
  },
  {
   "cell_type": "markdown",
   "id": "49b0637b",
   "metadata": {},
   "source": [
    "### Merging the parquet file and the qid samples"
   ]
  },
  {
   "cell_type": "code",
   "execution_count": 12,
   "id": "11f90ea8",
   "metadata": {
    "scrolled": true
   },
   "outputs": [
    {
     "name": "stdout",
     "output_type": "stream",
     "text": [
      "Wall time: 8.44 s\n"
     ]
    }
   ],
   "source": [
    "%time merged_df = quotebank_2019_sample_clean.merge(parquet_df, left_on = 'qids', right_on = 'id')"
   ]
  },
  {
   "cell_type": "code",
   "execution_count": 13,
   "id": "78f6f8d0",
   "metadata": {
    "scrolled": true
   },
   "outputs": [
    {
     "data": {
      "text/html": [
       "<div>\n",
       "<style scoped>\n",
       "    .dataframe tbody tr th:only-of-type {\n",
       "        vertical-align: middle;\n",
       "    }\n",
       "\n",
       "    .dataframe tbody tr th {\n",
       "        vertical-align: top;\n",
       "    }\n",
       "\n",
       "    .dataframe thead th {\n",
       "        text-align: right;\n",
       "    }\n",
       "</style>\n",
       "<table border=\"1\" class=\"dataframe\">\n",
       "  <thead>\n",
       "    <tr style=\"text-align: right;\">\n",
       "      <th></th>\n",
       "      <th>quoteID</th>\n",
       "      <th>quotation</th>\n",
       "      <th>speaker</th>\n",
       "      <th>qids</th>\n",
       "      <th>date</th>\n",
       "      <th>numOccurrences</th>\n",
       "      <th>probas</th>\n",
       "      <th>urls</th>\n",
       "      <th>phase</th>\n",
       "      <th>aliases</th>\n",
       "      <th>...</th>\n",
       "      <th>ethnic_group</th>\n",
       "      <th>US_congress_bio_ID</th>\n",
       "      <th>occupation</th>\n",
       "      <th>party</th>\n",
       "      <th>academic_degree</th>\n",
       "      <th>id</th>\n",
       "      <th>label</th>\n",
       "      <th>candidacy</th>\n",
       "      <th>type</th>\n",
       "      <th>religion</th>\n",
       "    </tr>\n",
       "  </thead>\n",
       "  <tbody>\n",
       "    <tr>\n",
       "      <th>0</th>\n",
       "      <td>2019-04-17-024782</td>\n",
       "      <td>It is not a low-income immigration,</td>\n",
       "      <td>James Fisher</td>\n",
       "      <td>Q16213953</td>\n",
       "      <td>2019-04-17 13:31:18</td>\n",
       "      <td>1</td>\n",
       "      <td>[[James Fisher, 0.7475], [None, 0.2525]]</td>\n",
       "      <td>[https://www.nytimes.com/2019/04/17/realestate...</td>\n",
       "      <td>E</td>\n",
       "      <td>[James Scott Fisher]</td>\n",
       "      <td>...</td>\n",
       "      <td>None</td>\n",
       "      <td>None</td>\n",
       "      <td>[Q33999, Q10798782, Q3282637]</td>\n",
       "      <td>None</td>\n",
       "      <td>None</td>\n",
       "      <td>Q16213953</td>\n",
       "      <td>James Fisher</td>\n",
       "      <td>None</td>\n",
       "      <td>item</td>\n",
       "      <td>None</td>\n",
       "    </tr>\n",
       "    <tr>\n",
       "      <th>1</th>\n",
       "      <td>2019-11-01-016433</td>\n",
       "      <td>Dispossession is coming for you</td>\n",
       "      <td>James Fisher</td>\n",
       "      <td>Q16213953</td>\n",
       "      <td>2019-11-01 15:59:32</td>\n",
       "      <td>1</td>\n",
       "      <td>[[James Fisher, 0.84], [None, 0.1063], [Dua Li...</td>\n",
       "      <td>[http://www.nytimes.com/2019/11/01/arts/music/...</td>\n",
       "      <td>E</td>\n",
       "      <td>[James Scott Fisher]</td>\n",
       "      <td>...</td>\n",
       "      <td>None</td>\n",
       "      <td>None</td>\n",
       "      <td>[Q33999, Q10798782, Q3282637]</td>\n",
       "      <td>None</td>\n",
       "      <td>None</td>\n",
       "      <td>Q16213953</td>\n",
       "      <td>James Fisher</td>\n",
       "      <td>None</td>\n",
       "      <td>item</td>\n",
       "      <td>None</td>\n",
       "    </tr>\n",
       "    <tr>\n",
       "      <th>2</th>\n",
       "      <td>2019-10-15-061398</td>\n",
       "      <td>Medicare for All can benefit the trans communi...</td>\n",
       "      <td>James Fisher</td>\n",
       "      <td>Q16213953</td>\n",
       "      <td>2019-10-15 14:03:36</td>\n",
       "      <td>2</td>\n",
       "      <td>[[James Fisher, 0.9272], [None, 0.0729]]</td>\n",
       "      <td>[http://nytimes.com/2019/10/15/us/politics/you...</td>\n",
       "      <td>E</td>\n",
       "      <td>[James Scott Fisher]</td>\n",
       "      <td>...</td>\n",
       "      <td>None</td>\n",
       "      <td>None</td>\n",
       "      <td>[Q33999, Q10798782, Q3282637]</td>\n",
       "      <td>None</td>\n",
       "      <td>None</td>\n",
       "      <td>Q16213953</td>\n",
       "      <td>James Fisher</td>\n",
       "      <td>None</td>\n",
       "      <td>item</td>\n",
       "      <td>None</td>\n",
       "    </tr>\n",
       "    <tr>\n",
       "      <th>3</th>\n",
       "      <td>2019-04-17-059333</td>\n",
       "      <td>which improves the affordability,</td>\n",
       "      <td>James Fisher</td>\n",
       "      <td>Q16213953</td>\n",
       "      <td>2019-04-17 13:31:18</td>\n",
       "      <td>1</td>\n",
       "      <td>[[James Fisher, 0.9139], [None, 0.0861]]</td>\n",
       "      <td>[https://www.nytimes.com/2019/04/17/realestate...</td>\n",
       "      <td>E</td>\n",
       "      <td>[James Scott Fisher]</td>\n",
       "      <td>...</td>\n",
       "      <td>None</td>\n",
       "      <td>None</td>\n",
       "      <td>[Q33999, Q10798782, Q3282637]</td>\n",
       "      <td>None</td>\n",
       "      <td>None</td>\n",
       "      <td>Q16213953</td>\n",
       "      <td>James Fisher</td>\n",
       "      <td>None</td>\n",
       "      <td>item</td>\n",
       "      <td>None</td>\n",
       "    </tr>\n",
       "    <tr>\n",
       "      <th>4</th>\n",
       "      <td>2019-10-15-054424</td>\n",
       "      <td>It's embedded in the language of Medicare for ...</td>\n",
       "      <td>James Fisher</td>\n",
       "      <td>Q16213953</td>\n",
       "      <td>2019-10-15 14:03:36</td>\n",
       "      <td>2</td>\n",
       "      <td>[[James Fisher, 0.8908], [None, 0.1093]]</td>\n",
       "      <td>[http://nytimes.com/2019/10/15/us/politics/you...</td>\n",
       "      <td>E</td>\n",
       "      <td>[James Scott Fisher]</td>\n",
       "      <td>...</td>\n",
       "      <td>None</td>\n",
       "      <td>None</td>\n",
       "      <td>[Q33999, Q10798782, Q3282637]</td>\n",
       "      <td>None</td>\n",
       "      <td>None</td>\n",
       "      <td>Q16213953</td>\n",
       "      <td>James Fisher</td>\n",
       "      <td>None</td>\n",
       "      <td>item</td>\n",
       "      <td>None</td>\n",
       "    </tr>\n",
       "  </tbody>\n",
       "</table>\n",
       "<p>5 rows × 24 columns</p>\n",
       "</div>"
      ],
      "text/plain": [
       "             quoteID                                          quotation  \\\n",
       "0  2019-04-17-024782                It is not a low-income immigration,   \n",
       "1  2019-11-01-016433                    Dispossession is coming for you   \n",
       "2  2019-10-15-061398  Medicare for All can benefit the trans communi...   \n",
       "3  2019-04-17-059333                  which improves the affordability,   \n",
       "4  2019-10-15-054424  It's embedded in the language of Medicare for ...   \n",
       "\n",
       "        speaker       qids                date  numOccurrences  \\\n",
       "0  James Fisher  Q16213953 2019-04-17 13:31:18               1   \n",
       "1  James Fisher  Q16213953 2019-11-01 15:59:32               1   \n",
       "2  James Fisher  Q16213953 2019-10-15 14:03:36               2   \n",
       "3  James Fisher  Q16213953 2019-04-17 13:31:18               1   \n",
       "4  James Fisher  Q16213953 2019-10-15 14:03:36               2   \n",
       "\n",
       "                                              probas  \\\n",
       "0           [[James Fisher, 0.7475], [None, 0.2525]]   \n",
       "1  [[James Fisher, 0.84], [None, 0.1063], [Dua Li...   \n",
       "2           [[James Fisher, 0.9272], [None, 0.0729]]   \n",
       "3           [[James Fisher, 0.9139], [None, 0.0861]]   \n",
       "4           [[James Fisher, 0.8908], [None, 0.1093]]   \n",
       "\n",
       "                                                urls phase  \\\n",
       "0  [https://www.nytimes.com/2019/04/17/realestate...     E   \n",
       "1  [http://www.nytimes.com/2019/11/01/arts/music/...     E   \n",
       "2  [http://nytimes.com/2019/10/15/us/politics/you...     E   \n",
       "3  [https://www.nytimes.com/2019/04/17/realestate...     E   \n",
       "4  [http://nytimes.com/2019/10/15/us/politics/you...     E   \n",
       "\n",
       "                aliases  ... ethnic_group US_congress_bio_ID  \\\n",
       "0  [James Scott Fisher]  ...         None               None   \n",
       "1  [James Scott Fisher]  ...         None               None   \n",
       "2  [James Scott Fisher]  ...         None               None   \n",
       "3  [James Scott Fisher]  ...         None               None   \n",
       "4  [James Scott Fisher]  ...         None               None   \n",
       "\n",
       "                      occupation  party academic_degree         id  \\\n",
       "0  [Q33999, Q10798782, Q3282637]   None            None  Q16213953   \n",
       "1  [Q33999, Q10798782, Q3282637]   None            None  Q16213953   \n",
       "2  [Q33999, Q10798782, Q3282637]   None            None  Q16213953   \n",
       "3  [Q33999, Q10798782, Q3282637]   None            None  Q16213953   \n",
       "4  [Q33999, Q10798782, Q3282637]   None            None  Q16213953   \n",
       "\n",
       "          label candidacy  type religion  \n",
       "0  James Fisher      None  item     None  \n",
       "1  James Fisher      None  item     None  \n",
       "2  James Fisher      None  item     None  \n",
       "3  James Fisher      None  item     None  \n",
       "4  James Fisher      None  item     None  \n",
       "\n",
       "[5 rows x 24 columns]"
      ]
     },
     "execution_count": 13,
     "metadata": {},
     "output_type": "execute_result"
    }
   ],
   "source": [
    "merged_df.head()"
   ]
  },
  {
   "cell_type": "code",
   "execution_count": 14,
   "id": "7a64a7b7",
   "metadata": {},
   "outputs": [
    {
     "name": "stdout",
     "output_type": "stream",
     "text": [
      "Wall time: 446 ms\n",
      "the quotebank merged dataframe takes about 206.87 megabytes in memory\n"
     ]
    }
   ],
   "source": [
    "%time mem_usage3 = merged_df.memory_usage(deep=True).sum()*1e-6\n",
    "print('the quotebank merged dataframe takes about {:.2f} megabytes in memory'.format(mem_usage3))"
   ]
  },
  {
   "cell_type": "markdown",
   "id": "cae81422",
   "metadata": {},
   "source": [
    "### Other stuff"
   ]
  },
  {
   "cell_type": "markdown",
   "id": "41e70d45",
   "metadata": {},
   "source": [
    "TODO : make the labels from the parquet file readable using the QID code from the QID to label notebook"
   ]
  },
  {
   "cell_type": "code",
   "execution_count": 15,
   "id": "5376c092",
   "metadata": {},
   "outputs": [
    {
     "data": {
      "text/plain": [
       "numpy.ndarray"
      ]
     },
     "execution_count": 15,
     "metadata": {},
     "output_type": "execute_result"
    }
   ],
   "source": [
    "type(merged_df['occupation'][1])"
   ]
  },
  {
   "cell_type": "code",
   "execution_count": 16,
   "id": "fc581975",
   "metadata": {},
   "outputs": [
    {
     "data": {
      "text/plain": [
       "quoteID                       object\n",
       "quotation                     object\n",
       "speaker                       object\n",
       "qids                          object\n",
       "date                  datetime64[ns]\n",
       "numOccurrences                 int64\n",
       "probas                        object\n",
       "urls                          object\n",
       "phase                         object\n",
       "aliases                       object\n",
       "date_of_birth                 object\n",
       "nationality                   object\n",
       "gender                        object\n",
       "lastrevid                      int64\n",
       "ethnic_group                  object\n",
       "US_congress_bio_ID            object\n",
       "occupation                    object\n",
       "party                         object\n",
       "academic_degree               object\n",
       "id                            object\n",
       "label                         object\n",
       "candidacy                     object\n",
       "type                          object\n",
       "religion                      object\n",
       "dtype: object"
      ]
     },
     "execution_count": 16,
     "metadata": {},
     "output_type": "execute_result"
    }
   ],
   "source": [
    "merged_df.dtypes"
   ]
  },
  {
   "cell_type": "markdown",
   "id": "ef3b2319",
   "metadata": {},
   "source": [
    "Just looking at the types of every column of the new dataframe"
   ]
  },
  {
   "cell_type": "code",
   "execution_count": 17,
   "id": "eeedaf8d",
   "metadata": {},
   "outputs": [
    {
     "name": "stdout",
     "output_type": "stream",
     "text": [
      "{'quoteID': {<class 'str'>}, 'quotation': {<class 'str'>}, 'speaker': {<class 'str'>}, 'qids': {<class 'str'>}, 'probas': {<class 'list'>}, 'urls': {<class 'list'>}, 'phase': {<class 'str'>}, 'aliases': {<class 'numpy.ndarray'>, <class 'NoneType'>}, 'date_of_birth': {<class 'numpy.ndarray'>, <class 'NoneType'>}, 'nationality': {<class 'numpy.ndarray'>, <class 'NoneType'>}, 'gender': {<class 'numpy.ndarray'>, <class 'NoneType'>}, 'ethnic_group': {<class 'numpy.ndarray'>, <class 'NoneType'>}, 'US_congress_bio_ID': {<class 'str'>, <class 'NoneType'>}, 'occupation': {<class 'numpy.ndarray'>, <class 'NoneType'>}, 'party': {<class 'numpy.ndarray'>, <class 'NoneType'>}, 'academic_degree': {<class 'numpy.ndarray'>, <class 'NoneType'>}, 'id': {<class 'str'>}, 'label': {<class 'str'>}, 'candidacy': {<class 'numpy.ndarray'>, <class 'NoneType'>}, 'type': {<class 'str'>}, 'religion': {<class 'numpy.ndarray'>, <class 'NoneType'>}}\n"
     ]
    }
   ],
   "source": [
    "obj_types = {col: set(map(type, merged_df[col])) for col in merged_df.select_dtypes(include=[object])}\n",
    "\n",
    "print(obj_types)"
   ]
  },
  {
   "cell_type": "code",
   "execution_count": 18,
   "id": "08d332bc",
   "metadata": {
    "scrolled": true
   },
   "outputs": [
    {
     "data": {
      "text/plain": [
       "quoteID                                               2019-11-01-016433\n",
       "quotation                               Dispossession is coming for you\n",
       "speaker                                                    James Fisher\n",
       "qids                                                          Q16213953\n",
       "date                                                2019-11-01 15:59:32\n",
       "numOccurrences                                                        1\n",
       "probas                [[James Fisher, 0.84], [None, 0.1063], [Dua Li...\n",
       "urls                  [http://www.nytimes.com/2019/11/01/arts/music/...\n",
       "phase                                                                 E\n",
       "aliases                                            [James Scott Fisher]\n",
       "date_of_birth                                   [+1972-04-20T00:00:00Z]\n",
       "nationality                                                      [Q145]\n",
       "gender                                                       [Q6581097]\n",
       "lastrevid                                                    1392893295\n",
       "ethnic_group                                                       None\n",
       "US_congress_bio_ID                                                 None\n",
       "occupation                                [Q33999, Q10798782, Q3282637]\n",
       "party                                                              None\n",
       "academic_degree                                                    None\n",
       "id                                                            Q16213953\n",
       "label                                                      James Fisher\n",
       "candidacy                                                          None\n",
       "type                                                               item\n",
       "religion                                                           None\n",
       "Name: 1, dtype: object"
      ]
     },
     "execution_count": 18,
     "metadata": {},
     "output_type": "execute_result"
    }
   ],
   "source": [
    "merged_df.iloc[1]"
   ]
  },
  {
   "cell_type": "markdown",
   "id": "bdcb014c",
   "metadata": {},
   "source": [
    "A lot of the columns contain multiple QID entries : "
   ]
  },
  {
   "cell_type": "code",
   "execution_count": 19,
   "id": "04ecd1a5",
   "metadata": {},
   "outputs": [
    {
     "name": "stdout",
     "output_type": "stream",
     "text": [
      "maximum number of QID entry for each of the new columns\n",
      "nationality : 6\n",
      "gender : 2\n",
      "ethnic_group : 6\n",
      "US_congress_bio_ID : 7\n",
      "occupation : 24\n",
      "party : 9\n",
      "academic_degree : 5\n",
      "id : 9\n",
      "label : 50\n",
      "candidacy : 13\n",
      "type : 4\n",
      "religion : 7\n"
     ]
    }
   ],
   "source": [
    "print('maximum number of QID entry for each of the new columns')\n",
    "print('nationality :', merged_df['nationality'].apply(lambda x : len(x) if x is not None else 0).max())\n",
    "print('gender :', merged_df['gender'].apply(lambda x : len(x) if x is not None else 0).max())\n",
    "print('ethnic_group :', merged_df['ethnic_group'].apply(lambda x : len(x) if x is not None else 0).max())\n",
    "print('US_congress_bio_ID :', merged_df['US_congress_bio_ID'].apply(lambda x : len(x) if x is not None else 0).max())\n",
    "print('occupation :', merged_df['occupation'].apply(lambda x : len(x) if x is not None else 0).max())\n",
    "print('party :', merged_df['party'].apply(lambda x : len(x) if x is not None else 0).max())\n",
    "print('academic_degree :', merged_df['academic_degree'].apply(lambda x : len(x) if x is not None else 0).max())\n",
    "print('id :', merged_df['id'].apply(lambda x : len(x) if x is not None else 0).max())\n",
    "print('label :', merged_df['label'].apply(lambda x : len(x) if x is not None else 0).max())\n",
    "print('candidacy :', merged_df['candidacy'].apply(lambda x : len(x) if x is not None else 0).max())\n",
    "print('type :', merged_df['type'].apply(lambda x : len(x) if x is not None else 0).max())\n",
    "print('religion :', merged_df['religion'].apply(lambda x : len(x) if x is not None else 0).max())"
   ]
  },
  {
   "cell_type": "markdown",
   "id": "6ff43936",
   "metadata": {},
   "source": [
    "Since this time it is a reasonable number ( vers 451 in the 2019 sample dataset) we could potentially match all entries to terms inside of "
   ]
  },
  {
   "cell_type": "markdown",
   "id": "f43d2d39",
   "metadata": {},
   "source": [
    "Instead of manually checking we use library re to scan every column if there are QIDs. \n",
    "Most columns are composed of a numpy nd.array containing a tuple of strings, every string being a qid. So we take the first access the tuple, then take the first element, then check if it's a QID."
   ]
  },
  {
   "cell_type": "code",
   "execution_count": 20,
   "id": "be4159e7",
   "metadata": {},
   "outputs": [],
   "source": [
    "import re"
   ]
  },
  {
   "cell_type": "code",
   "execution_count": 21,
   "id": "a905f80b",
   "metadata": {},
   "outputs": [],
   "source": [
    "def check_if_qid(df):\n",
    "    '''\n",
    "    take first term of list out of ndarray, and checks if it's a QID\n",
    "    '''\n",
    "    return df.apply(lambda x: x[0] if x is not None else None).str.contains(r'[Q][0-9]+').any()"
   ]
  },
  {
   "cell_type": "code",
   "execution_count": 22,
   "id": "5662cb54",
   "metadata": {},
   "outputs": [
    {
     "name": "stdout",
     "output_type": "stream",
     "text": [
      "column : nationality  True\n",
      "column : gender  True\n",
      "column : ethnic_group  True\n",
      "column : US_congress_bio_ID  False\n",
      "column : occupation  True\n",
      "column : party  True\n",
      "column : academic_degree  True\n",
      "column : id  False\n",
      "column : label  False\n",
      "column : candidacy  True\n",
      "column : type  False\n",
      "column : religion  True\n"
     ]
    }
   ],
   "source": [
    "print('column : nationality ', check_if_qid(merged_df['nationality']))\n",
    "print('column : gender ', check_if_qid(merged_df['gender']))\n",
    "print('column : ethnic_group ', check_if_qid(merged_df['ethnic_group']))\n",
    "print('column : US_congress_bio_ID ', check_if_qid(merged_df['US_congress_bio_ID']))\n",
    "print('column : occupation ', check_if_qid(merged_df['occupation']))\n",
    "print('column : party ', check_if_qid(merged_df['party']))\n",
    "print('column : academic_degree ', check_if_qid(merged_df['academic_degree']))\n",
    "print('column : id ', check_if_qid(merged_df['id']))\n",
    "print('column : label ', check_if_qid(merged_df['label']))\n",
    "print('column : candidacy ', check_if_qid(merged_df['candidacy']))\n",
    "print('column : type ', check_if_qid(merged_df['type']))\n",
    "print('column : religion ', check_if_qid(merged_df['religion']))"
   ]
  },
  {
   "cell_type": "markdown",
   "id": "b24379fa",
   "metadata": {},
   "source": [
    "Selected columns that need QID to label translations : \n",
    " - nationality\n",
    " - gender\n",
    " - ethnic_group\n",
    " - occupation\n",
    " - party\n",
    " - academic_degree\n",
    " - candidacy\n",
    " - religion"
   ]
  },
  {
   "cell_type": "code",
   "execution_count": 23,
   "id": "388b0ec0",
   "metadata": {},
   "outputs": [],
   "source": [
    "def process_chunk(chunk, qids_clean_merged):\n",
    "    \"\"\"\n",
    "    this function processes one chunk of data\n",
    "    \"\"\"\n",
    "    qids_clean_merged = qids_clean_merged.reindex(columns=qids_clean_merged.columns.union(chunk.columns))\n",
    "    \n",
    "    qids_clean_merged.update(chunk)\n",
    "\n",
    "    return qids_clean_merged\n",
    "\n",
    "def process_qid_one(path_to_file, qids_clean, chunksize = 10 ** 4):\n",
    "    \"\"\"\n",
    "    this function processes a csv file in chunks\n",
    "    \n",
    "    here it attributes qid to their respective labels and descriptions \n",
    "    ( by joining the qid label df to the df not containing them)\n",
    "    \"\"\"\n",
    "    qids_clean_merged = qids_clean.copy()\n",
    "    qids_clean_merged['Label']=np.NaN\n",
    "    qids_clean_merged['Description']=np.NaN\n",
    "    qids_clean_merged.set_index('qids',inplace=True)\n",
    "    qids_clean_merged.index.rename('QID', inplace=True)\n",
    "    \n",
    "    with pd.read_csv(path_to_file, compression='bz2', index_col='QID', chunksize=chunksize) as df_reader:\n",
    "        for chunk in df_reader:\n",
    "            qids_clean_merged = process_chunk(chunk, qids_clean_merged)\n",
    "    return qids_clean_merged"
   ]
  },
  {
   "cell_type": "code",
   "execution_count": 24,
   "id": "4ab8711b",
   "metadata": {},
   "outputs": [],
   "source": [
    "qids_onlyquotebank_path = generated_data + \"wikidata_labels_descriptions_quotebank.csv.bz2\""
   ]
  },
  {
   "cell_type": "code",
   "execution_count": 25,
   "id": "2c5061dd",
   "metadata": {},
   "outputs": [],
   "source": [
    "def first_qid(df):\n",
    "    '''\n",
    "    take first term of list out of ndarray\n",
    "    '''\n",
    "    return df.apply(lambda x: x[0] if x is not None else None)"
   ]
  },
  {
   "cell_type": "code",
   "execution_count": 26,
   "id": "62f915c6",
   "metadata": {},
   "outputs": [
    {
     "data": {
      "text/plain": [
       "8         Q6423963\n",
       "9         Q6423963\n",
       "10        Q6423963\n",
       "11        Q6423963\n",
       "12        Q6423963\n",
       "            ...   \n",
       "130872      Q75809\n",
       "130886     Q288928\n",
       "130922       Q9592\n",
       "130923       Q9268\n",
       "130955       Q7066\n",
       "Name: religion, Length: 28849, dtype: object"
      ]
     },
     "execution_count": 26,
     "metadata": {},
     "output_type": "execute_result"
    }
   ],
   "source": [
    "first_qid(merged_df['religion']).dropna()"
   ]
  },
  {
   "cell_type": "code",
   "execution_count": 27,
   "id": "15cc0602",
   "metadata": {},
   "outputs": [],
   "source": [
    "def prep_df(df):\n",
    "    df = first_qid(df).to_frame().copy()\n",
    "    return df.rename(columns = {df.columns[0]:'qids'})"
   ]
  },
  {
   "cell_type": "code",
   "execution_count": 28,
   "id": "4eb72664",
   "metadata": {},
   "outputs": [
    {
     "data": {
      "text/html": [
       "<div>\n",
       "<style scoped>\n",
       "    .dataframe tbody tr th:only-of-type {\n",
       "        vertical-align: middle;\n",
       "    }\n",
       "\n",
       "    .dataframe tbody tr th {\n",
       "        vertical-align: top;\n",
       "    }\n",
       "\n",
       "    .dataframe thead th {\n",
       "        text-align: right;\n",
       "    }\n",
       "</style>\n",
       "<table border=\"1\" class=\"dataframe\">\n",
       "  <thead>\n",
       "    <tr style=\"text-align: right;\">\n",
       "      <th></th>\n",
       "      <th>qids</th>\n",
       "    </tr>\n",
       "  </thead>\n",
       "  <tbody>\n",
       "    <tr>\n",
       "      <th>0</th>\n",
       "      <td>None</td>\n",
       "    </tr>\n",
       "    <tr>\n",
       "      <th>1</th>\n",
       "      <td>None</td>\n",
       "    </tr>\n",
       "    <tr>\n",
       "      <th>2</th>\n",
       "      <td>None</td>\n",
       "    </tr>\n",
       "    <tr>\n",
       "      <th>3</th>\n",
       "      <td>None</td>\n",
       "    </tr>\n",
       "    <tr>\n",
       "      <th>4</th>\n",
       "      <td>None</td>\n",
       "    </tr>\n",
       "    <tr>\n",
       "      <th>...</th>\n",
       "      <td>...</td>\n",
       "    </tr>\n",
       "    <tr>\n",
       "      <th>130956</th>\n",
       "      <td>None</td>\n",
       "    </tr>\n",
       "    <tr>\n",
       "      <th>130957</th>\n",
       "      <td>None</td>\n",
       "    </tr>\n",
       "    <tr>\n",
       "      <th>130958</th>\n",
       "      <td>None</td>\n",
       "    </tr>\n",
       "    <tr>\n",
       "      <th>130959</th>\n",
       "      <td>None</td>\n",
       "    </tr>\n",
       "    <tr>\n",
       "      <th>130960</th>\n",
       "      <td>None</td>\n",
       "    </tr>\n",
       "  </tbody>\n",
       "</table>\n",
       "<p>130961 rows × 1 columns</p>\n",
       "</div>"
      ],
      "text/plain": [
       "        qids\n",
       "0       None\n",
       "1       None\n",
       "2       None\n",
       "3       None\n",
       "4       None\n",
       "...      ...\n",
       "130956  None\n",
       "130957  None\n",
       "130958  None\n",
       "130959  None\n",
       "130960  None\n",
       "\n",
       "[130961 rows x 1 columns]"
      ]
     },
     "execution_count": 28,
     "metadata": {},
     "output_type": "execute_result"
    }
   ],
   "source": [
    "nationality_df = prep_df(merged_df['nationality'])\n",
    "gender_df = prep_df(merged_df['gender'])\n",
    "ethnic_group_df = prep_df(merged_df['ethnic_group'])\n",
    "occupation_df = prep_df(merged_df['occupation'])\n",
    "party_df = prep_df(merged_df['party'])\n",
    "academic_degree_df = prep_df(merged_df['academic_degree'])\n",
    "candidacy_df = prep_df(merged_df['candidacy'])\n",
    "religion_df = prep_df(merged_df['religion'])\n",
    "religion_df"
   ]
  },
  {
   "cell_type": "code",
   "execution_count": 29,
   "id": "0a1db69a",
   "metadata": {},
   "outputs": [
    {
     "name": "stdout",
     "output_type": "stream",
     "text": [
      "Wall time: 199 ms\n",
      "Wall time: 184 ms\n",
      "Wall time: 191 ms\n",
      "Wall time: 185 ms\n",
      "Wall time: 243 ms\n",
      "Wall time: 232 ms\n",
      "Wall time: 213 ms\n",
      "Wall time: 227 ms\n"
     ]
    }
   ],
   "source": [
    "%time nationality_df = process_qid_one(qids_onlyquotebank_path, nationality_df , chunksize = 10 ** 6)\n",
    "%time gender_df = process_qid_one(qids_onlyquotebank_path, gender_df , chunksize = 10 ** 6)\n",
    "%time ethnic_group_df = process_qid_one(qids_onlyquotebank_path, ethnic_group_df , chunksize = 10 ** 6)\n",
    "%time occupation_df = process_qid_one(qids_onlyquotebank_path, occupation_df , chunksize = 10 ** 6)\n",
    "%time party_df = process_qid_one(qids_onlyquotebank_path, party_df , chunksize = 10 ** 6)\n",
    "%time academic_degree_df = process_qid_one(qids_onlyquotebank_path, academic_degree_df , chunksize = 10 ** 6)\n",
    "%time candidacy_df = process_qid_one(qids_onlyquotebank_path, candidacy_df , chunksize = 10 ** 6)\n",
    "%time religion_df = process_qid_one(qids_onlyquotebank_path, religion_df , chunksize = 10 ** 6)"
   ]
  },
  {
   "cell_type": "code",
   "execution_count": null,
   "id": "9ac057b3",
   "metadata": {},
   "outputs": [],
   "source": []
  },
  {
   "cell_type": "code",
   "execution_count": 32,
   "id": "2cb2d0a5",
   "metadata": {},
   "outputs": [
    {
     "data": {
      "text/html": [
       "<div>\n",
       "<style scoped>\n",
       "    .dataframe tbody tr th:only-of-type {\n",
       "        vertical-align: middle;\n",
       "    }\n",
       "\n",
       "    .dataframe tbody tr th {\n",
       "        vertical-align: top;\n",
       "    }\n",
       "\n",
       "    .dataframe thead th {\n",
       "        text-align: right;\n",
       "    }\n",
       "</style>\n",
       "<table border=\"1\" class=\"dataframe\">\n",
       "  <thead>\n",
       "    <tr style=\"text-align: right;\">\n",
       "      <th></th>\n",
       "      <th>Label</th>\n",
       "      <th>Description</th>\n",
       "    </tr>\n",
       "    <tr>\n",
       "      <th>QID</th>\n",
       "      <th></th>\n",
       "      <th></th>\n",
       "    </tr>\n",
       "  </thead>\n",
       "  <tbody>\n",
       "    <tr>\n",
       "      <th>NaN</th>\n",
       "      <td>NaN</td>\n",
       "      <td>NaN</td>\n",
       "    </tr>\n",
       "    <tr>\n",
       "      <th>NaN</th>\n",
       "      <td>NaN</td>\n",
       "      <td>NaN</td>\n",
       "    </tr>\n",
       "    <tr>\n",
       "      <th>NaN</th>\n",
       "      <td>NaN</td>\n",
       "      <td>NaN</td>\n",
       "    </tr>\n",
       "    <tr>\n",
       "      <th>NaN</th>\n",
       "      <td>NaN</td>\n",
       "      <td>NaN</td>\n",
       "    </tr>\n",
       "    <tr>\n",
       "      <th>NaN</th>\n",
       "      <td>NaN</td>\n",
       "      <td>NaN</td>\n",
       "    </tr>\n",
       "    <tr>\n",
       "      <th>...</th>\n",
       "      <td>...</td>\n",
       "      <td>...</td>\n",
       "    </tr>\n",
       "    <tr>\n",
       "      <th>NaN</th>\n",
       "      <td>NaN</td>\n",
       "      <td>NaN</td>\n",
       "    </tr>\n",
       "    <tr>\n",
       "      <th>NaN</th>\n",
       "      <td>NaN</td>\n",
       "      <td>NaN</td>\n",
       "    </tr>\n",
       "    <tr>\n",
       "      <th>NaN</th>\n",
       "      <td>NaN</td>\n",
       "      <td>NaN</td>\n",
       "    </tr>\n",
       "    <tr>\n",
       "      <th>NaN</th>\n",
       "      <td>NaN</td>\n",
       "      <td>NaN</td>\n",
       "    </tr>\n",
       "    <tr>\n",
       "      <th>NaN</th>\n",
       "      <td>NaN</td>\n",
       "      <td>NaN</td>\n",
       "    </tr>\n",
       "  </tbody>\n",
       "</table>\n",
       "<p>130961 rows × 2 columns</p>\n",
       "</div>"
      ],
      "text/plain": [
       "    Label Description\n",
       "QID                  \n",
       "NaN   NaN         NaN\n",
       "NaN   NaN         NaN\n",
       "NaN   NaN         NaN\n",
       "NaN   NaN         NaN\n",
       "NaN   NaN         NaN\n",
       "..    ...         ...\n",
       "NaN   NaN         NaN\n",
       "NaN   NaN         NaN\n",
       "NaN   NaN         NaN\n",
       "NaN   NaN         NaN\n",
       "NaN   NaN         NaN\n",
       "\n",
       "[130961 rows x 2 columns]"
      ]
     },
     "execution_count": 32,
     "metadata": {},
     "output_type": "execute_result"
    }
   ],
   "source": [
    "religion_df"
   ]
  },
  {
   "cell_type": "code",
   "execution_count": null,
   "id": "3ee75310",
   "metadata": {},
   "outputs": [],
   "source": [
    "df.rename(columns = {df.columns[0]:'qids'})"
   ]
  }
 ],
 "metadata": {
  "kernelspec": {
   "display_name": "Python 3 (ipykernel)",
   "language": "python",
   "name": "python3"
  },
  "language_info": {
   "codemirror_mode": {
    "name": "ipython",
    "version": 3
   },
   "file_extension": ".py",
   "mimetype": "text/x-python",
   "name": "python",
   "nbconvert_exporter": "python",
   "pygments_lexer": "ipython3",
   "version": "3.8.11"
  }
 },
 "nbformat": 4,
 "nbformat_minor": 5
}
