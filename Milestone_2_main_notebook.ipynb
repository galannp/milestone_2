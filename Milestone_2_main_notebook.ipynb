{
 "cells": [
  {
   "cell_type": "markdown",
   "id": "5fea011a",
   "metadata": {},
   "source": [
    "# Project Milestone2 - Group Concatsanddogs"
   ]
  },
  {
   "cell_type": "markdown",
   "id": "754733a8",
   "metadata": {},
   "source": [
    "# The use of women's rights and gender equality rhetoric in the US"
   ]
  },
  {
   "cell_type": "markdown",
   "id": "bb184e87",
   "metadata": {},
   "source": [
    "## Folder structure : \n",
    "\n",
    "**Folders description:**\n",
    "*  `data` : contains the Quote-bank data from 2015 to 2020, as it was found in the google Drive\n",
    "*  `generated_data` : data files that have been generated from the original quotebank data\n",
    "*  `additional_datasets`: other datasets used in our analyses\n",
    "<!---*  `documents` : contains reasearch papers and literature around our project ideas--->\n",
    "*  `scripts` : contains all .py files implementing methods used in the main \n",
    "\n",
    "**Notebooks:**\n",
    "\n",
    "* `Milestone_2_Main_notebook` : Notebook containing our main pipelines"
   ]
  },
  {
   "cell_type": "markdown",
   "id": "9551c5c5",
   "metadata": {},
   "source": [
    "## Header"
   ]
  },
  {
   "cell_type": "markdown",
   "id": "4f485ebf",
   "metadata": {},
   "source": [
    "This notebook is organized followings the different steps used in our pipeline. We first create a list of keywords using [web scraping](#Webscraping) and a personal list of keywords. \n",
    "With this list of keywords we [select](#Dataset-selection-from-Quotebank-database) a subset of the Quotebank database. This subset will be our starting dataset for our project. "
   ]
  },
  {
   "cell_type": "markdown",
   "id": "38f2be5c",
   "metadata": {},
   "source": [
    "## General librairies"
   ]
  },
  {
   "cell_type": "code",
   "execution_count": 1,
   "id": "ceb1f57e",
   "metadata": {},
   "outputs": [],
   "source": [
    "import pandas as pd\n",
    "import numpy as np"
   ]
  },
  {
   "cell_type": "markdown",
   "id": "c41b9c72",
   "metadata": {},
   "source": [
    "## Webscraping"
   ]
  },
  {
   "cell_type": "markdown",
   "id": "6339b135",
   "metadata": {},
   "source": [
    "We decided to scrape the **usnews.com** website because they have some topic pages that list all articles on the specified topic.   \n",
    "For example this page https://www.usnews.com/topics/subjects/feminism identifies all the articles from usnews.com that are relevant on the topic of feminism in *the latest* column. Further down we will call these topic pages, primary URLs. We then access all the identified articles on their urls, i.e. secondary urls, and retrieve their contents to create a corpus of text relevant to our topic. The corpus is saved in *Articles_Contents.txt.*   \n",
    "The corpus is used to retrieve bigrams. We decided to not count onegrame because they are too general for our purpose, for example 'women' gives a lot of results but isn't always of interest. The following quote \"a woman, a woman, a woman.\" from an unknown speaker isn't relevant for our purpose.\n",
    "The bigrams complete a manual list of keywords that are used to select our quotes of interest. The web-scraped keywords are necessary to ensure that we don't miss frequent bigrams and to remove some of the bias that exist in a personal keywords list.\n",
    "Note that at this point we used only usnews as a source and we were not able to mimick the infinite scrolling so only a limited list of articles per topic is available."
   ]
  },
  {
   "cell_type": "markdown",
   "id": "a2ddd59a",
   "metadata": {
    "tags": []
   },
   "source": [
    "### Libraries"
   ]
  },
  {
   "cell_type": "code",
   "execution_count": 2,
   "id": "a788458b",
   "metadata": {},
   "outputs": [
    {
     "name": "stderr",
     "output_type": "stream",
     "text": [
      "[nltk_data] Downloading package stopwords to\n",
      "[nltk_data]     C:\\Users\\Younes\\AppData\\Roaming\\nltk_data...\n",
      "[nltk_data]   Package stopwords is already up-to-date!\n"
     ]
    }
   ],
   "source": [
    "import json \n",
    "import requests #http library\n",
    "import nltk #natural language processing library\n",
    "nltk.download('stopwords') #common english words to ignore \n",
    "from bs4 import BeautifulSoup #extraction from HTML and XML files\n",
    "from collections import Counter #dictionary subclass for counting hashable objects"
   ]
  },
  {
   "cell_type": "markdown",
   "id": "e6f0265e",
   "metadata": {},
   "source": [
    "### Functions"
   ]
  },
  {
   "cell_type": "code",
   "execution_count": 10,
   "id": "0ee61547",
   "metadata": {},
   "outputs": [],
   "source": [
    "#Description: Retrieving of urls of articles from a topic page of usnews.com\n",
    "#Input: the primary URL string, i.e. the URL with the list of relevant articles\n",
    "#Output: a list of urls strings referring to relevant articles \n",
    "#Requirements : Request, BeautifulSoup libraries\n",
    "#Use: This function is made to be used to scrap the to usnews.com website. \n",
    "#If you want to adapt it to another website the class tag should be adapted.\n",
    "def get_urls_usnews(URL):\n",
    "    headers = {\"User-Agent\": \"Mozilla/5.0 (X11; CrOS x86_64 12871.102.0) AppleWebKit/537.36 (KHTML, like Gecko) Chrome/81.0.4044.141 Safari/537.36\"}\n",
    "    response = requests.get(URL,headers=headers) #http request with a user-agent string to avoid blocking from server\n",
    "    soup = BeautifulSoup(response.text, 'html.parser') #parse the document with html format\n",
    "    latest = soup.find('div',{'class':\"LoadMoreWrapper__Container-zwyk5c-0 himujt\"}) #get all the elements within 'the latest'category\n",
    "    #Find all the urls in the articles of latest category\n",
    "    list_of_urls = []\n",
    "    for a in latest.find_all('a'):\n",
    "        list_of_urls.append(a['href'])\n",
    "    usnews_urls = list(set(list_of_urls))\n",
    "    \n",
    "    return usnews_urls"
   ]
  },
  {
   "cell_type": "code",
   "execution_count": 11,
   "id": "779e2f3f",
   "metadata": {},
   "outputs": [],
   "source": [
    "#Description: Retrieving article content from a url and cleaning out the copyright mention\n",
    "#Input: url string of a single article\n",
    "#Output: string with all the article text\n",
    "#Requirements : Requests, BeautifulSoup,Json\n",
    "#Use: This function is made to be used to scrap the to usnews.com website. \n",
    "#If you want to adapt it to another website the copyright sentence should be adapted.\n",
    "def article_from_url(url):\n",
    "    headers = {\"User-Agent\": \"Mozilla/5.0 (X11; CrOS x86_64 12871.102.0) AppleWebKit/537.36 (KHTML, like Gecko) Chrome/81.0.4044.141 Safari/537.36\"}\n",
    "    response = requests.get(url,headers=headers) #http request with a user-agent string to avoid blocking from server\n",
    "    soup = BeautifulSoup(response.text, 'html.parser') #parse the document with html format\n",
    "    #find the article in the html page\n",
    "    jsonArticle = json.loads(soup.find(type=\"application/ld+json\").string)\n",
    "    text=jsonArticle['articleBody']\n",
    "    #remove the copyright sentence to avoid it to appear in the most frequent bigrams\n",
    "    clean_text = text.replace('.Copyright 2021 The&nbsp;Associated Press. All rights reserved. This material may not be published, broadcast, rewritten or redistributed.',' ').replace('Associated Press',' ').replace('quot',' ')\n",
    "    \n",
    "    return clean_text"
   ]
  },
  {
   "cell_type": "code",
   "execution_count": 12,
   "id": "3048bfa9",
   "metadata": {},
   "outputs": [],
   "source": [
    "#Description: Loop on a primary list on URL to call the article_from_url function\n",
    "#Input: list of urls strings\n",
    "#Output: one string with all articles contents appended\n",
    "#Requirements : Requests, BeautifulSoup, Json\n",
    "#Use: see article_from_url\n",
    "def get_all_articles(usnews_urls):\n",
    "    all_articles = ''\n",
    "    for url in usnews_urls:\n",
    "        all_articles = all_articles +' '+article_from_url(url)\n",
    "    \n",
    "    return all_articles"
   ]
  },
  {
   "cell_type": "code",
   "execution_count": 13,
   "id": "675fa14b",
   "metadata": {},
   "outputs": [],
   "source": [
    "#Description: Counting the frequency of n-grams in the text\n",
    "#Input: A single string containing the text of interest \n",
    "#Output: List of bigram and their counts in the text in the format ((string,string),integer)\n",
    "#Requirement: Nltk with stopwords, Counter \n",
    "#Use: this function is set to find bigrams, it can be extended for other n-grams\n",
    "def ngram_frequency(text):\n",
    "    \n",
    "    #separate the text into words \n",
    "    allWords = nltk.tokenize.word_tokenize(text) \n",
    "    \n",
    "    #gets rid on 1-letter words and 2-letters words\n",
    "    allLongWords = []\n",
    "    for word in allWords:\n",
    "        if len(word) > 2: \n",
    "            allLongWords.append(word)   \n",
    "    #get rid of common english words\n",
    "    stopwords = nltk.corpus.stopwords.words('english') #list of words such as a, the, and etc..\n",
    "    allWordExceptStop =[]\n",
    "    for w in allLongWords:\n",
    "        if w.lower() not in stopwords:\n",
    "            allWordExceptStop.append(w)\n",
    "    #create a list of bigrams words in the text. Can be adapted to n-grams zipping more words\n",
    "    bigrams = zip(allWordExceptStop, allWordExceptStop[1:])\n",
    "    #calculate the frequency of each bigram \n",
    "    bigramsFreq = nltk.FreqDist(bigrams) \n",
    "    return bigramsFreq"
   ]
  },
  {
   "cell_type": "markdown",
   "id": "51234343",
   "metadata": {},
   "source": [
    "### Initialization"
   ]
  },
  {
   "cell_type": "markdown",
   "id": "af5c368e",
   "metadata": {},
   "source": [
    "**Usnews.com** has a long list of [topics](https://www.usnews.com/topics/subjects). We decided to focus on political women's rights topics and we've chosen the 5 following links. We tried to run the bigram frequency with women's health and women's history included but too many words related to health or history were coming up."
   ]
  },
  {
   "cell_type": "code",
   "execution_count": 16,
   "id": "a45f2053",
   "metadata": {},
   "outputs": [],
   "source": [
    "#list of primary links containing articles of interest\n",
    "URL_TOPIC_LIST = ['https://www.usnews.com/topics/subjects/feminism',\n",
    "            'https://www.usnews.com/topics/subjects/gender',\n",
    "            'https://www.usnews.com/topics/subjects/gender_bias',\n",
    "            'https://www.usnews.com/topics/subjects/sexism,\n",
    "            'https://www.usnews.com/topics/subjects/women\\'s rights' ]"
   ]
  },
  {
   "cell_type": "markdown",
   "id": "5327711e",
   "metadata": {},
   "source": [
    "### Retrieving of articles of interest"
   ]
  },
  {
   "cell_type": "markdown",
   "id": "0ce9bdf0",
   "metadata": {},
   "source": [
    "With the functions defined above we scrape the topic pages for articles references and retrieve the articles contents. The functions deal with different selection steps to avoid all the other contents at each step,i.e. advertisement, galleries, recommended articles etc..."
   ]
  },
  {
   "cell_type": "code",
   "execution_count": 17,
   "id": "d82da81c",
   "metadata": {},
   "outputs": [],
   "source": [
    "all_articles = ''\n",
    "for url_topic in URL_TOPIC_LIST:\n",
    "    #Retrieve all urls for latest articles in the specific feminism subject page\n",
    "    usnews_topic_urls = get_urls_usnews(url_topic)\n",
    "    \n",
    "    #Retrieve all the articles contents for the latest articles\n",
    "    all_articles_topic =  get_all_articles(usnews_topic_urls)\n",
    "    \n",
    "    #append articles to create one text\n",
    "    all_articles = all_articles +' '+all_articles_topic"
   ]
  },
  {
   "cell_type": "code",
   "execution_count": 23,
   "id": "7f02fd9a",
   "metadata": {},
   "outputs": [
    {
     "name": "stdout",
     "output_type": "stream",
     "text": [
      "  By MARÍA VERZA,  MEXICO CITY (AP) — Mexico’s Supreme Court ruled Tuesday that it is unconstitutional to punish abortion, unanimously annulling several provisions of a law from Coahuila — a state on the Texas border — that had made abortion a criminal act.The decision will immediately affect only the northern border state, but it establishes a historic precedent and “obligatory criteria for all of the country’s judges,” compelling them to act the same way in similar cases, said court President Arturo Zaldívar. “From now on you will not be able to, without violating the court's criteria and the constitution, charge any woman who aborts under the circumstances this court has ruled as valid.”Those circumstances will be clarified when the decision is published, but everything points to that referring to abortions carried out within the first 12 weeks of a pregnancy, the period allowed in the four states where abortion is already legal.The decision comes one week after a Texas law took effect prohibiting abortions once medical professionals can detect cardiac activity in the fetus. It allows any private citizen to sue Texas abortion providers who violate the law, as well as anyone who “aids or abets” a woman getting the procedure.Only\n"
     ]
    }
   ],
   "source": [
    "print(all_articles[0:1250])"
   ]
  },
  {
   "cell_type": "code",
   "execution_count": 16,
   "id": "27f52251",
   "metadata": {},
   "outputs": [],
   "source": [
    "#Export all the articles of interest in a single text file\n",
    "text_file = open(\"generated_data/Articles-Contents.txt\", \"w\")\n",
    "text_file.write(all_articles)\n",
    "text_file.close()"
   ]
  },
  {
   "cell_type": "markdown",
   "id": "569c34af",
   "metadata": {},
   "source": [
    "### Frequency computation for bigrams "
   ]
  },
  {
   "cell_type": "code",
   "execution_count": 19,
   "id": "f1536734",
   "metadata": {},
   "outputs": [],
   "source": [
    "#Couting bigram frequencies for all articles of interest\n",
    "usNewsFEMbigramFreq = ngram_frequency(all_articles)"
   ]
  },
  {
   "cell_type": "code",
   "execution_count": 21,
   "id": "da5fc172",
   "metadata": {},
   "outputs": [
    {
     "name": "stdout",
     "output_type": "stream",
     "text": [
      "('Los', 'Angeles');23\n",
      "('gender', 'equality');22\n",
      "('New', 'York');20\n",
      "('Black', 'women');13\n",
      "('child', 'care');12\n",
      "('Angeles', 'County');12\n",
      "('health', 'care');11\n",
      "('men', 'pay');11\n",
      "('percentage', 'men');11\n",
      "('White', 'House');11\n",
      "('Women', 'pay');10\n",
      "('pay', 'percentage');10\n",
      "('United', 'States');9\n",
      "('Best', 'Countries');9\n",
      "('Hillary', 'Clinton');8\n",
      "('vice', 'president');8\n",
      "('sexual', 'harassment');8\n",
      "('women', 'girls');7\n",
      "('Washington', 'D.C.');7\n",
      "('girls', 'women');7\n",
      "('electoral', 'system');7\n",
      "('Donald', 'Trump');7\n",
      "('Soul', 'Woman');6\n",
      "('first', 'time');6\n",
      "('Supreme', 'Court');6\n",
      "('coronavirus', 'pandemic');6\n",
      "('Countries', 'rankings');6\n",
      "('Middle', 'East');6\n",
      "('share', 'women');6\n",
      "('one', 'highest');6\n",
      "('women', 'according');6\n",
      "('Rhode', 'Island');6\n",
      "('rates', 'women');6\n",
      "('North', 'Carolina');6\n",
      "('Board', 'Supervisors');6\n",
      "('female', 'mayors');6\n",
      "('social', 'media');5\n",
      "('gender', 'stereotypes');5\n",
      "('five', 'years');5\n",
      "('Ford', 'Foundation');5\n",
      "('Hayes', 'said');5\n",
      "('women', 'movement');5\n",
      "('Mexico', 'City');5\n",
      "('see', 'women');5\n",
      "('good', 'job');5\n",
      "('public', 'schools');5\n",
      "('state', 'budgets');5\n",
      "('death', 'rate');5\n",
      "('U.S.', 'News');5\n",
      "('Asia', 'Middle');5\n"
     ]
    }
   ],
   "source": [
    "MAX = 50\n",
    "\n",
    "#Visualize the most common bigrams\n",
    "for word, frequency in usNewsFEMbigramFreq.most_common(MAX):\n",
    "        print('%s;%d' % (word, frequency))"
   ]
  },
  {
   "cell_type": "markdown",
   "id": "c9ddf95f",
   "metadata": {},
   "source": [
    "The most common bigrams list also contain a lot of Named Entities (NE) like cities, persons etc... \n",
    "We can see *'Los', 'Angeles'* and *'Donald' 'Trump'* as common bigrams.\n",
    "Here we use the naive approach to ignore this name by using the word capitalization to select them. Note that there are more advanced way to recognize NE (for example Stanforde NER library) but we believe that it will be overkilled for our usage."
   ]
  },
  {
   "cell_type": "markdown",
   "id": "f86e0a90",
   "metadata": {},
   "source": [
    "### Final List"
   ]
  },
  {
   "cell_type": "code",
   "execution_count": 24,
   "id": "2971a46c",
   "metadata": {},
   "outputs": [
    {
     "data": {
      "text/plain": [
       "['gender equality',\n",
       " 'child care',\n",
       " 'health care',\n",
       " 'men pay',\n",
       " 'percentage men',\n",
       " 'pay percentage',\n",
       " 'vice president',\n",
       " 'sexual harassment',\n",
       " 'women girls',\n",
       " 'girls women',\n",
       " 'electoral system',\n",
       " 'first time',\n",
       " 'coronavirus pandemic',\n",
       " 'share women',\n",
       " 'one highest',\n",
       " 'women according',\n",
       " 'rates women',\n",
       " 'female mayors',\n",
       " 'social media',\n",
       " 'gender stereotypes',\n",
       " 'five years',\n",
       " 'women movement',\n",
       " 'see women',\n",
       " 'good job',\n",
       " 'public schools',\n",
       " 'state budgets',\n",
       " 'death rate',\n",
       " 'gender gap',\n",
       " 'sex discrimination',\n",
       " 'states women',\n",
       " 'top states',\n",
       " 'women representation',\n",
       " 'became first',\n",
       " 'lose weight',\n",
       " 'six years',\n",
       " 'women rights',\n",
       " 'first nonfiction',\n",
       " 'nonfiction book',\n",
       " 'book decade',\n",
       " 'year pandemic',\n",
       " 'really began',\n",
       " 'woman time',\n",
       " '100 million',\n",
       " 'public school',\n",
       " 'federal government',\n",
       " 'based gender',\n",
       " 'regions say',\n",
       " 'young people',\n",
       " 'women still',\n",
       " 'gender-based violence',\n",
       " 'best states',\n",
       " 'top five',\n",
       " 'states plus',\n",
       " 'top economic',\n",
       " 'education health']"
      ]
     },
     "execution_count": 24,
     "metadata": {},
     "output_type": "execute_result"
    }
   ],
   "source": [
    "bigram_final_list = []\n",
    "MAX = 100\n",
    "for word, frequency in usNewsFEMbigramFreq.most_common(MAX):\n",
    "    if (word[0][0].isupper()==False and word[1][0].isupper()==False): #ignore the Named Entities\n",
    "        bigram_final_list.append(word[0]+' '+word[1])\n",
    "\n",
    "bigram_final_list"
   ]
  },
  {
   "cell_type": "markdown",
   "id": "fe4721f2",
   "metadata": {},
   "source": [
    "We use this list (in its 150 word long vesrion) to extend our personal list of bigrams. However, maybe because of the corpus size there are still some bigrams that aren't of interest. For example, the *health care* or *vice president* are ignored because the former is too general and the latter irrelevant."
   ]
  },
  {
   "cell_type": "code",
   "execution_count": 1,
   "id": "ce684508",
   "metadata": {
    "tags": []
   },
   "outputs": [
    {
     "data": {
      "text/plain": [
       "[\"women's right\",\n",
       " 'Equal opportunities',\n",
       " 'Equal rights',\n",
       " 'Equal status',\n",
       " 'equal pay',\n",
       " 'gender gap',\n",
       " 'Gender discrimination',\n",
       " 'Gender equality',\n",
       " 'Sexual harrasment',\n",
       " 'Women empowerment',\n",
       " 'women victim',\n",
       " 'women immigration',\n",
       " 'Women emancipation',\n",
       " \"women's participation\",\n",
       " 'Western women',\n",
       " 'non-western woman',\n",
       " 'Muslim women',\n",
       " 'Equal wages',\n",
       " 'Gender equality',\n",
       " 'gender equity',\n",
       " 'Men and women',\n",
       " 'women and men',\n",
       " 'women oppression',\n",
       " 'niqab banstruggle of girls',\n",
       " 'struggle of women',\n",
       " 'war against women',\n",
       " 'oppression of girls',\n",
       " 'oppression of women',\n",
       " 'women oppression',\n",
       " \"women's opression\",\n",
       " 'liberate women',\n",
       " 'religious oppresion',\n",
       " 'abuse of women',\n",
       " 'Male oppression',\n",
       " 'Female oppression',\n",
       " 'Exploitation of women',\n",
       " 'Indigenous women',\n",
       " 'Patriarchal culture',\n",
       " 'gender equality',\n",
       " 'child care',\n",
       " 'men pay',\n",
       " 'percentage men',\n",
       " 'pay percentage',\n",
       " 'sexual harassment',\n",
       " 'women girls',\n",
       " 'girls women',\n",
       " 'rates women',\n",
       " 'women according',\n",
       " 'female mayors',\n",
       " 'share women',\n",
       " 'women movement',\n",
       " 'see women',\n",
       " 'gender stereotypes',\n",
       " 'gender gap',\n",
       " 'women representation',\n",
       " 'sex discrimination',\n",
       " 'states women',\n",
       " 'women rights',\n",
       " 'woman time',\n",
       " 'based gender',\n",
       " 'proportional electoral',\n",
       " 'female candidates',\n",
       " 'gender-based violence',\n",
       " 'entirely female',\n",
       " 'cities female']"
      ]
     },
     "execution_count": 1,
     "metadata": {},
     "output_type": "execute_result"
    }
   ],
   "source": [
    "selected_usnews_keywords = ['gender equality','child care','men pay','percentage men',\n",
    "              'pay percentage','sexual harassment','women girls','girls women',\n",
    "              'rates women','women according','female mayors','share women','women movement',\n",
    "              'see women','gender stereotypes','gender gap', 'women representation','sex discrimination','states women',\n",
    "              'women rights','woman time','based gender', 'proportional electoral','female candidates','gender-based violence','entirely female','cities female']\n",
    "            \n",
    "#Personal keywords list \n",
    "my_bigrams = ['women\\'s right','Equal opportunities','Equal rights','Equal status',\n",
    "           'equal pay','gender gap','Gender discrimination','Gender equality','Sexual harrasment','Women empowerment',\n",
    "            'women victim','women immigration','Women emancipation','women\\'s participation','Western women','non-western woman',\n",
    "              'Muslim women', 'Equal wages','Gender equality',\n",
    "             'gender equity','Men and women', 'women and men', 'women oppression', 'niqab ban'\n",
    "           'struggle of girls','struggle of women', 'war against women','oppression of girls','oppression of women',\n",
    "           'women oppression','women\\'s opression','liberate women','religious oppresion',\n",
    "           'abuse of women','Male oppression','Female oppression','Exploitation of women',\n",
    "           'Indigenous women','Patriarchal culture']\n",
    "\n",
    "all_bigrams = my_bigrams + selected_usnews_keywords\n",
    "all_bigrams"
   ]
  },
  {
   "cell_type": "markdown",
   "id": "dc04bf1a",
   "metadata": {},
   "source": [
    "The next step save a keywords text file and recall it. This is done once to save important information but the notebook could ba run directly without the export and import."
   ]
  },
  {
   "cell_type": "code",
   "execution_count": 2,
   "id": "8658b16f",
   "metadata": {},
   "outputs": [],
   "source": [
    "#Export all the keywords in a single text file\n",
    "text_file = open(\"generated_data/Keywords.txt\", \"w\")\n",
    "for bigram in all_bigrams:\n",
    "    text_file.write(bigram+',')\n",
    "text_file.close()"
   ]
  },
  {
   "cell_type": "code",
   "execution_count": 57,
   "id": "f3792022",
   "metadata": {
    "tags": []
   },
   "outputs": [
    {
     "data": {
      "text/plain": [
       "[\"women's right\",\n",
       " 'Equal opportunities',\n",
       " 'Equal rights',\n",
       " 'Equal status',\n",
       " 'equal pay',\n",
       " 'gender gap',\n",
       " 'Gender discrimination',\n",
       " 'Gender equality',\n",
       " 'Sexual harrasment',\n",
       " 'Women empowerment',\n",
       " 'women victim',\n",
       " 'women immigration',\n",
       " 'Women emancipation',\n",
       " \"women's participation\",\n",
       " 'Western women',\n",
       " 'non-western woman',\n",
       " 'Muslim women',\n",
       " 'Equal wages',\n",
       " 'Gender equality',\n",
       " 'gender equity',\n",
       " 'Men and women',\n",
       " 'women and men',\n",
       " 'women oppression',\n",
       " 'niqab banstruggle of girls',\n",
       " 'struggle of women',\n",
       " 'war against women',\n",
       " 'oppression of girls',\n",
       " 'oppression of women',\n",
       " 'women oppression',\n",
       " \"women's opression\",\n",
       " 'liberate women',\n",
       " 'religious oppresion',\n",
       " 'abuse of women',\n",
       " 'Male oppression',\n",
       " 'Female oppression',\n",
       " 'Exploitation of women',\n",
       " 'Indigenous women',\n",
       " 'Patriarchal culture',\n",
       " 'gender equality',\n",
       " 'child care',\n",
       " 'men pay',\n",
       " 'percentage men',\n",
       " 'pay percentage',\n",
       " 'sexual harassment',\n",
       " 'women girls',\n",
       " 'girls women',\n",
       " 'rates women',\n",
       " 'women according',\n",
       " 'female mayors',\n",
       " 'share women',\n",
       " 'women movement',\n",
       " 'see women',\n",
       " 'gender stereotypes',\n",
       " 'gender gap',\n",
       " 'women representation',\n",
       " 'sex discrimination',\n",
       " 'states women',\n",
       " 'lose weight',\n",
       " 'women rights',\n",
       " 'woman time',\n",
       " 'based gender',\n",
       " 'proportional electoral',\n",
       " 'female candidates',\n",
       " 'gender-based violence',\n",
       " 'entirely female',\n",
       " 'cities female',\n",
       " '']"
      ]
     },
     "execution_count": 57,
     "metadata": {},
     "output_type": "execute_result"
    }
   ],
   "source": [
    "#Import all the keywords in a single text file\n",
    "KEYWORDS_LIST = [] \n",
    "# opening the text file\n",
    "with open(\"generated_data/Keywords.txt\", \"r\") as file:\n",
    " \n",
    "    # reading each line    \n",
    "    for line in file:\n",
    "   \n",
    "        # reading each word        \n",
    "        for word in line.split(','):\n",
    "   \n",
    "            # displaying the words           \n",
    "            KEYWORDS_LIST.append(word) \n",
    "KEYWORDS_LIST"
   ]
  },
  {
   "cell_type": "markdown",
   "id": "d86e3cd3",
   "metadata": {},
   "source": [
    "## Dataset selection from Quotebank database"
   ]
  },
  {
   "cell_type": "markdown",
   "id": "7bceebc3",
   "metadata": {},
   "source": [
    "### Librairies"
   ]
  },
  {
   "cell_type": "code",
   "execution_count": 3,
   "id": "6b10f113",
   "metadata": {},
   "outputs": [],
   "source": [
    "import os "
   ]
  },
  {
   "cell_type": "markdown",
   "id": "fec3a1d2",
   "metadata": {
    "tags": []
   },
   "source": [
    "### Functions"
   ]
  },
  {
   "cell_type": "code",
   "execution_count": 4,
   "id": "2ade9238",
   "metadata": {},
   "outputs": [],
   "source": [
    "#Processing on chunk\n",
    "#Input\n",
    "#Output\n",
    "def process_chunk(chunk, vocabulary):\n",
    "    print(f'Processing chunk with {len(chunk)} rows')\n",
    "    #print(chunk.columns)\n",
    "    occurences = np.zeros(len(vocabulary))\n",
    "    for index, word in enumerate(vocabulary):\n",
    "        occurences[index] = np.sum(chunk['quotation'].str.contains(word)) \n",
    "    return occurences\n",
    "\n",
    "#Select quotes containing keywords\n",
    "def select_quotes_chunk(chunk, keywords):\n",
    "    print(f'Processing chunk with {len(chunk)} rows')\n",
    "    return chunk[chunk['quotation'].str.contains('|'.join(keywords))]\n",
    "\n",
    "#Use the selection function on each chunk of the full dataset \n",
    "def select_quotes_one_year(path_to_file, vocabulary, chunksize = 10 ** 4):\n",
    "    with pd.read_json(path_to_file, lines=True, compression='bz2', chunksize=chunksize) as df_reader:\n",
    "        for index, chunk in enumerate(df_reader):\n",
    "            if not index==0:\n",
    "                selected_df = pd.concat([selected_df, select_quotes_chunk(chunk, vocabulary)])\n",
    "            else: \n",
    "                selected_df = select_quotes_chunk(chunk, vocabulary)\n",
    "    return selected_df\n",
    "\n",
    "#Use the selection function on each chunk of the full dataset \n",
    "#Dumps the selected quotes into a new json file\n",
    "def select_and_dump(path_to_file, vocabulary, chunksize = 10 ** 4, year = 'replace_me'):\n",
    "    with pd.read_json(path_to_file, lines=True, compression='bz2', chunksize=chunksize) as df_reader:\n",
    "        for index, chunk in enumerate(df_reader):\n",
    "            #Dump selected quotes\n",
    "            selected_df = select_quotes_chunk(chunk, vocabulary)\n",
    "            pickle_file_name = year + '_chunk_' + str(index) + '.pkl'\n",
    "            selected_df.to_pickle('files/'+pickle_file_name)\n",
    "            #if not index==0:\n",
    "                #selected_df = pd.concat([selected_df, select_quotes_chunk(chunk, vocabulary)])\n",
    "            #else: \n",
    "               # selected_df = select_quotes_chunk(chunk, vocabulary)\n",
    "    return selected_df\n",
    "\n",
    "\n",
    "import random, string\n",
    "\n",
    "def randomword(length):\n",
    "    letters = string.ascii_lowercase\n",
    "    return ''.join(random.choice(letters) for i in range(length))"
   ]
  },
  {
   "cell_type": "markdown",
   "id": "eb81c5cd",
   "metadata": {},
   "source": [
    "### Constants "
   ]
  },
  {
   "cell_type": "code",
   "execution_count": 2,
   "id": "6ccd03cf",
   "metadata": {},
   "outputs": [],
   "source": [
    "DATA_FOLDER = 'data/'\n",
    "QUOTEBANK_2020 = DATA_FOLDER+ \"quotes-2020.json.bz2\"\n",
    "QUOTEBANK_2019 = DATA_FOLDER+ \"quotes-2019.json.bz2\"\n",
    "QUOTEBANK_2017 = DATA_FOLDER+ \"quotes-2017.json.bz2\"\n",
    "QUOTEBANK_2015 = DATA_FOLDER+ \"quotes-2015.json.bz2\"\n",
    "QUOTEBANK_2018 = DATA_FOLDER+ \"quotes-2018.json.bz2\"\n",
    "QUOTEBANK_2016 = DATA_FOLDER+ \"quotes-2016.json.bz2\"\n",
    "\n",
    "PATH = 'generated_data/'\n",
    "\n",
    "PARQUET_FILE = PATH +  \"speaker_attributes.parquet\"\n",
    "\n",
    "KEYWORDS_LIST = ('women\\'s right','Equal opportunities','Equal rights','Equal status','equal pay',\n",
    "              'gender gap','Gender discrimination','Gender equality','Sexual harrassment',\n",
    "              'Women empowerment','women victim','women immigration','Women emancipation',\n",
    "              'women\\'s participation','Western women','non-western woman','Muslim women',\n",
    "              'Equal wages','Gender equality','gender equity','Men and women','women and men',\n",
    "              'women oppression','niqab ban','struggle of girls','struggle of women','war against women',\n",
    "              'oppression of girls','oppression of women','women oppression','women\\'s opression','liberate women',\n",
    "              'religious oppresion','abuse of women','Male oppression','Female oppression','Exploitation of women',\n",
    "              'Indigenous women','Patriarchal culture','gender equality','child care','men pay','percentage men',\n",
    "              'pay percentage','sexual harassment','women girls','girls women',\n",
    "              'rates women','women according','female mayors','share women','women movement',\n",
    "              'see women','gender stereotypes','gender gap',\n",
    "              'women representation','sex discrimination','states women',\n",
    "              'women rights','woman time',\n",
    "              'based gender',\n",
    "              'proportional electoral','female candidates','gender-based violence','entirely female','cities female')"
   ]
  },
  {
   "cell_type": "markdown",
   "id": "f310584f",
   "metadata": {},
   "source": [
    "### Select and pickle of quotes of interest"
   ]
  },
  {
   "cell_type": "markdown",
   "id": "a3c776a7",
   "metadata": {},
   "source": [
    "Note: This code has to be run once to create the pickle files containing the quotes of interest. For futher use, the dataframe is direcly loaded from the pickle files."
   ]
  },
  {
   "cell_type": "code",
   "execution_count": 2,
   "id": "d4065309",
   "metadata": {},
   "outputs": [],
   "source": [
    "dataframesNames = ('QOI_2015_DF','QOI_2016_DF','QOI_2017_DF','QOI_2018_DF','QOI_2019_DF','QOI_2020_DF')"
   ]
  },
  {
   "cell_type": "code",
   "execution_count": 3,
   "id": "9cb19861",
   "metadata": {},
   "outputs": [],
   "source": [
    "# %time QOI_2015_DF = select_quotes_one_year(QUOTEBANK_2015,KEYWORDS_LIST,10 ** 4)\n",
    "# %time QOI_2016_DF = select_quotes_one_year(QUOTEBANK_2016,KEYWORDS_LIST,10 ** 4)\n",
    "# %time QOI_2017_DF = select_quotes_one_year(QUOTEBANK_2017,KEYWORDS_LIST,10 ** 4)\n",
    "# %time QOI_2018_DF = select_quotes_one_year(QUOTEBANK_2018,KEYWORDS_LIST,10 ** 4)\n",
    "# %time QOI_2019_DF = select_quotes_one_year(QUOTEBANK_2019,KEYWORDS_LIST,10 ** 4)\n",
    "# %time QOI_2020_DF = select_quotes_one_year(QUOTEBANK_2020,KEYWORDS_LIST,10 ** 4)\n",
    "\n",
    "#for i in range(len(dataframesNames)):\n",
    "#    dataframes[i].to_pickle('generated_data/'+dataframesNames[i]+'.pkl')"
   ]
  },
  {
   "cell_type": "markdown",
   "id": "c91f7f69",
   "metadata": {},
   "source": [
    "### Load dataframe of selected quotes"
   ]
  },
  {
   "cell_type": "code",
   "execution_count": 4,
   "id": "4a6ac7b0",
   "metadata": {},
   "outputs": [],
   "source": [
    "PATH = 'generated_data/'"
   ]
  },
  {
   "cell_type": "code",
   "execution_count": 5,
   "id": "7a72560a",
   "metadata": {},
   "outputs": [],
   "source": [
    "# Concatenate into one dataframes the dataframes from each pickle file. \n",
    "df = pd.concat([pd.read_pickle(PATH+ fp +'.pkl') for fp in dataframesNames], ignore_index=True)"
   ]
  },
  {
   "cell_type": "code",
   "execution_count": 6,
   "id": "5ee1a91b",
   "metadata": {},
   "outputs": [
    {
     "data": {
      "text/html": [
       "<div>\n",
       "<style scoped>\n",
       "    .dataframe tbody tr th:only-of-type {\n",
       "        vertical-align: middle;\n",
       "    }\n",
       "\n",
       "    .dataframe tbody tr th {\n",
       "        vertical-align: top;\n",
       "    }\n",
       "\n",
       "    .dataframe thead th {\n",
       "        text-align: right;\n",
       "    }\n",
       "</style>\n",
       "<table border=\"1\" class=\"dataframe\">\n",
       "  <thead>\n",
       "    <tr style=\"text-align: right;\">\n",
       "      <th></th>\n",
       "      <th>quoteID</th>\n",
       "      <th>quotation</th>\n",
       "      <th>speaker</th>\n",
       "      <th>qids</th>\n",
       "      <th>date</th>\n",
       "      <th>numOccurrences</th>\n",
       "      <th>probas</th>\n",
       "      <th>urls</th>\n",
       "      <th>phase</th>\n",
       "    </tr>\n",
       "  </thead>\n",
       "  <tbody>\n",
       "    <tr>\n",
       "      <th>0</th>\n",
       "      <td>2015-03-09-004706</td>\n",
       "      <td>Anything less than women winning 50 per cent o...</td>\n",
       "      <td>Katy Gallagher</td>\n",
       "      <td>[Q463507]</td>\n",
       "      <td>2015-03-09 12:30:00</td>\n",
       "      <td>1</td>\n",
       "      <td>[[Katy Gallagher, 0.5872], [None, 0.4128]]</td>\n",
       "      <td>[http://www.smh.com.au/act-news/women-need-to-...</td>\n",
       "      <td>E</td>\n",
       "    </tr>\n",
       "    <tr>\n",
       "      <th>1</th>\n",
       "      <td>2015-04-24-025718</td>\n",
       "      <td>I'd like to congratulate all the winners and f...</td>\n",
       "      <td>Helena Morrissey</td>\n",
       "      <td>[Q23762081]</td>\n",
       "      <td>2015-04-24 15:33:00</td>\n",
       "      <td>1</td>\n",
       "      <td>[[Helena Morrissey, 0.8706], [None, 0.1294]]</td>\n",
       "      <td>[http://www.cipd.co.uk/PM/peoplemanagement/b/w...</td>\n",
       "      <td>E</td>\n",
       "    </tr>\n",
       "    <tr>\n",
       "      <th>2</th>\n",
       "      <td>2015-07-16-044620</td>\n",
       "      <td>I think what Deepika has spoken in the video m...</td>\n",
       "      <td>Kalki Koechlin</td>\n",
       "      <td>[Q3192216]</td>\n",
       "      <td>2015-07-16 16:41:07</td>\n",
       "      <td>1</td>\n",
       "      <td>[[Kalki Koechlin, 0.6377], [None, 0.3623]]</td>\n",
       "      <td>[http://www.pinkvilla.com/entertainmenttags/ka...</td>\n",
       "      <td>E</td>\n",
       "    </tr>\n",
       "    <tr>\n",
       "      <th>3</th>\n",
       "      <td>2015-09-11-052815</td>\n",
       "      <td>if advocating for equal pay for equal work is ...</td>\n",
       "      <td>Hillary Clinton</td>\n",
       "      <td>[Q6294]</td>\n",
       "      <td>2015-09-11 14:17:08</td>\n",
       "      <td>1</td>\n",
       "      <td>[[Hillary Clinton, 0.8831], [None, 0.1105], [D...</td>\n",
       "      <td>[http://www.wrn.com/2015/09/hillary-clinton-ra...</td>\n",
       "      <td>E</td>\n",
       "    </tr>\n",
       "    <tr>\n",
       "      <th>4</th>\n",
       "      <td>2015-04-23-037713</td>\n",
       "      <td>Men and women are understandably upset if they...</td>\n",
       "      <td>Jim McDermott</td>\n",
       "      <td>[Q321457, Q6196778]</td>\n",
       "      <td>2015-04-23 21:52:22</td>\n",
       "      <td>1</td>\n",
       "      <td>[[Jim McDermott, 0.629], [John F. Kerry, 0.190...</td>\n",
       "      <td>[http://www.atlanticcouncil.org/en/blogs/new-a...</td>\n",
       "      <td>E</td>\n",
       "    </tr>\n",
       "  </tbody>\n",
       "</table>\n",
       "</div>"
      ],
      "text/plain": [
       "             quoteID                                          quotation  \\\n",
       "0  2015-03-09-004706  Anything less than women winning 50 per cent o...   \n",
       "1  2015-04-24-025718  I'd like to congratulate all the winners and f...   \n",
       "2  2015-07-16-044620  I think what Deepika has spoken in the video m...   \n",
       "3  2015-09-11-052815  if advocating for equal pay for equal work is ...   \n",
       "4  2015-04-23-037713  Men and women are understandably upset if they...   \n",
       "\n",
       "            speaker                 qids                date  numOccurrences  \\\n",
       "0    Katy Gallagher            [Q463507] 2015-03-09 12:30:00               1   \n",
       "1  Helena Morrissey          [Q23762081] 2015-04-24 15:33:00               1   \n",
       "2    Kalki Koechlin           [Q3192216] 2015-07-16 16:41:07               1   \n",
       "3   Hillary Clinton              [Q6294] 2015-09-11 14:17:08               1   \n",
       "4     Jim McDermott  [Q321457, Q6196778] 2015-04-23 21:52:22               1   \n",
       "\n",
       "                                              probas  \\\n",
       "0         [[Katy Gallagher, 0.5872], [None, 0.4128]]   \n",
       "1       [[Helena Morrissey, 0.8706], [None, 0.1294]]   \n",
       "2         [[Kalki Koechlin, 0.6377], [None, 0.3623]]   \n",
       "3  [[Hillary Clinton, 0.8831], [None, 0.1105], [D...   \n",
       "4  [[Jim McDermott, 0.629], [John F. Kerry, 0.190...   \n",
       "\n",
       "                                                urls phase  \n",
       "0  [http://www.smh.com.au/act-news/women-need-to-...     E  \n",
       "1  [http://www.cipd.co.uk/PM/peoplemanagement/b/w...     E  \n",
       "2  [http://www.pinkvilla.com/entertainmenttags/ka...     E  \n",
       "3  [http://www.wrn.com/2015/09/hillary-clinton-ra...     E  \n",
       "4  [http://www.atlanticcouncil.org/en/blogs/new-a...     E  "
      ]
     },
     "execution_count": 6,
     "metadata": {},
     "output_type": "execute_result"
    }
   ],
   "source": [
    "df.head()"
   ]
  },
  {
   "cell_type": "code",
   "execution_count": 10,
   "id": "eb692941",
   "metadata": {},
   "outputs": [
    {
     "name": "stdout",
     "output_type": "stream",
     "text": [
      "The dataframe has 87161 entries\n"
     ]
    }
   ],
   "source": [
    "print(f'The dataframe has {len(df)} entries')"
   ]
  },
  {
   "cell_type": "code",
   "execution_count": 11,
   "id": "3969377b",
   "metadata": {},
   "outputs": [
    {
     "data": {
      "text/plain": [
       "0    Anything less than women winning 50 per cent of new seats will be a loss not only for a progressive city's progress towards true gender equality but it would also be a loss for good governance in ...\n",
       "1    I'd like to congratulate all the winners and finalists on their success. They have demonstrated clear leadership by moving women's progression from a `diversity' initiative to a core business prio...\n",
       "2    I think what Deepika has spoken in the video makes sense. I do understand the counter argument too where everyone has been saying that had men said the same lines about having sex outside marriage...\n",
       "3                                                                                    if advocating for equal pay for equal work is playing the gender card, deal me in. I am ready to play as hard as I can.\n",
       "4      Men and women are understandably upset if they see a company close down and jobs lost. It's only natural people would look around and in their distress they find something or someone able to blame,\n",
       "Name: quotation, dtype: object"
      ]
     },
     "execution_count": 11,
     "metadata": {},
     "output_type": "execute_result"
    }
   ],
   "source": [
    "pd.options.display.max_colwidth = 200\n",
    "df.head()['quotation']"
   ]
  },
  {
   "cell_type": "markdown",
   "id": "bf692d4b",
   "metadata": {},
   "source": [
    "## Enriching the dataset"
   ]
  },
  {
   "cell_type": "markdown",
   "id": "603e6e9c",
   "metadata": {},
   "source": [
    "### Wikidata : Using QIDs to obtain attributes for a speaker, then making the attributes readable"
   ]
  },
  {
   "cell_type": "markdown",
   "id": "5067d31a",
   "metadata": {},
   "source": [
    "The wikidata knowledge base contains a lot of information we can leverage t obtain extra information on the selected speakers. First, We look at the QID column of the selected quote dataframe : "
   ]
  },
  {
   "cell_type": "code",
   "execution_count": 12,
   "id": "31648f2f",
   "metadata": {},
   "outputs": [
    {
     "data": {
      "text/plain": [
       "0                  [Q463507]\n",
       "1                [Q23762081]\n",
       "2                 [Q3192216]\n",
       "3                    [Q6294]\n",
       "4        [Q321457, Q6196778]\n",
       "                ...         \n",
       "87156                     []\n",
       "87157            [Q56678515]\n",
       "87158                     []\n",
       "87159             [Q7352658]\n",
       "87160               [Q57701]\n",
       "Name: qids, Length: 87161, dtype: object"
      ]
     },
     "execution_count": 12,
     "metadata": {},
     "output_type": "execute_result"
    }
   ],
   "source": [
    "df['qids']"
   ]
  },
  {
   "cell_type": "markdown",
   "id": "807351e1",
   "metadata": {},
   "source": [
    "As we can see in the fourth row sometimes multiple QIDs are present, this is usually because there many entries on wikidata for the same speaker name. In the following, whenever there is a column containing multiple QIDs only the first QID is kept. This is for simplicity reason, but in the future will be changed as it would be interesting for our analyses to keep all the QID entries for attributes like the political party."
   ]
  },
  {
   "cell_type": "markdown",
   "id": "ab5529c9",
   "metadata": {},
   "source": [
    "The scripts used to convert the qids to label are present in the `scripts` folder in the `qid_to_label.py` file"
   ]
  },
  {
   "cell_type": "code",
   "execution_count": 13,
   "id": "ec19f137",
   "metadata": {},
   "outputs": [],
   "source": [
    "from scripts.qid_to_label import *"
   ]
  },
  {
   "cell_type": "markdown",
   "id": "9ed4e52e",
   "metadata": {},
   "source": [
    "First  the .parquet file containing attributes contining the labels attaches to a qid is loaded"
   ]
  },
  {
   "cell_type": "code",
   "execution_count": 14,
   "id": "6938f0bf",
   "metadata": {},
   "outputs": [
    {
     "name": "stdout",
     "output_type": "stream",
     "text": [
      "Wall time: 22.6 s\n"
     ]
    }
   ],
   "source": [
    "%time parquet_df = pd.read_parquet(PARQUET_FILE)"
   ]
  },
  {
   "cell_type": "markdown",
   "id": "b115405e",
   "metadata": {},
   "source": [
    "We then join it to dataframe containing the selected quotes, using the qid column to perform a left join with the parquet file on the right"
   ]
  },
  {
   "cell_type": "code",
   "execution_count": 15,
   "id": "88220bb9",
   "metadata": {},
   "outputs": [
    {
     "name": "stderr",
     "output_type": "stream",
     "text": [
      "C:\\Users\\Younes\\Desktop\\P2\\scripts\\qid_to_label.py:8: SettingWithCopyWarning: \n",
      "A value is trying to be set on a copy of a slice from a DataFrame.\n",
      "Try using .loc[row_indexer,col_indexer] = value instead\n",
      "\n",
      "See the caveats in the documentation: https://pandas.pydata.org/pandas-docs/stable/user_guide/indexing.html#returning-a-view-versus-a-copy\n",
      "  df['qids'] = df['qids'].apply(lambda x: x[0]) # this gives a warning\n"
     ]
    },
    {
     "name": "stdout",
     "output_type": "stream",
     "text": [
      "Wall time: 9.76 s\n"
     ]
    }
   ],
   "source": [
    "%time merged_df = merge_df(df,parquet_df)"
   ]
  },
  {
   "cell_type": "code",
   "execution_count": 16,
   "id": "7198c819",
   "metadata": {
    "scrolled": true
   },
   "outputs": [
    {
     "data": {
      "text/html": [
       "<div>\n",
       "<style scoped>\n",
       "    .dataframe tbody tr th:only-of-type {\n",
       "        vertical-align: middle;\n",
       "    }\n",
       "\n",
       "    .dataframe tbody tr th {\n",
       "        vertical-align: top;\n",
       "    }\n",
       "\n",
       "    .dataframe thead th {\n",
       "        text-align: right;\n",
       "    }\n",
       "</style>\n",
       "<table border=\"1\" class=\"dataframe\">\n",
       "  <thead>\n",
       "    <tr style=\"text-align: right;\">\n",
       "      <th></th>\n",
       "      <th>quoteID</th>\n",
       "      <th>quotation</th>\n",
       "      <th>speaker</th>\n",
       "      <th>qids</th>\n",
       "      <th>date</th>\n",
       "      <th>numOccurrences</th>\n",
       "      <th>probas</th>\n",
       "      <th>urls</th>\n",
       "      <th>phase</th>\n",
       "      <th>aliases</th>\n",
       "      <th>...</th>\n",
       "      <th>ethnic_group</th>\n",
       "      <th>US_congress_bio_ID</th>\n",
       "      <th>occupation</th>\n",
       "      <th>party</th>\n",
       "      <th>academic_degree</th>\n",
       "      <th>id</th>\n",
       "      <th>label</th>\n",
       "      <th>candidacy</th>\n",
       "      <th>type</th>\n",
       "      <th>religion</th>\n",
       "    </tr>\n",
       "  </thead>\n",
       "  <tbody>\n",
       "    <tr>\n",
       "      <th>0</th>\n",
       "      <td>2015-03-09-004706</td>\n",
       "      <td>Anything less than women winning 50 per cent of new seats will be a loss not only for a progressive city's progress towards true gender equality but it would also be a loss for good governance in ...</td>\n",
       "      <td>Katy Gallagher</td>\n",
       "      <td>Q463507</td>\n",
       "      <td>2015-03-09 12:30:00</td>\n",
       "      <td>1</td>\n",
       "      <td>[[Katy Gallagher, 0.5872], [None, 0.4128]]</td>\n",
       "      <td>[http://www.smh.com.au/act-news/women-need-to-stand-for-election-in-the-act-katy-gallagher-20150309-13yuz2.html]</td>\n",
       "      <td>E</td>\n",
       "      <td>[Katherine Gallagher, Katherine Ruth Gallagher]</td>\n",
       "      <td>...</td>\n",
       "      <td>None</td>\n",
       "      <td>None</td>\n",
       "      <td>[Q82955, Q7019111, Q15627169]</td>\n",
       "      <td>[Q216082]</td>\n",
       "      <td>None</td>\n",
       "      <td>Q463507</td>\n",
       "      <td>Katy Gallagher</td>\n",
       "      <td>None</td>\n",
       "      <td>item</td>\n",
       "      <td>None</td>\n",
       "    </tr>\n",
       "    <tr>\n",
       "      <th>1</th>\n",
       "      <td>2017-05-11-081817</td>\n",
       "      <td>more family-friendly and flexible workplaces, and affordable child care, for everyone</td>\n",
       "      <td>Katy Gallagher</td>\n",
       "      <td>Q463507</td>\n",
       "      <td>2017-05-11 00:00:37</td>\n",
       "      <td>1</td>\n",
       "      <td>[[Katy Gallagher, 0.5596], [None, 0.4404]]</td>\n",
       "      <td>[http://www.mediamaxnetwork.co.ke/news/325569/senator-breastfeeds-australian-parliament/]</td>\n",
       "      <td>E</td>\n",
       "      <td>[Katherine Gallagher, Katherine Ruth Gallagher]</td>\n",
       "      <td>...</td>\n",
       "      <td>None</td>\n",
       "      <td>None</td>\n",
       "      <td>[Q82955, Q7019111, Q15627169]</td>\n",
       "      <td>[Q216082]</td>\n",
       "      <td>None</td>\n",
       "      <td>Q463507</td>\n",
       "      <td>Katy Gallagher</td>\n",
       "      <td>None</td>\n",
       "      <td>item</td>\n",
       "      <td>None</td>\n",
       "    </tr>\n",
       "    <tr>\n",
       "      <th>2</th>\n",
       "      <td>2017-06-23-130636</td>\n",
       "      <td>We need more women and parents in Parliament. And we need more family-friendly and flexible workplaces, and affordable child care, for everyone.</td>\n",
       "      <td>Katy Gallagher</td>\n",
       "      <td>Q463507</td>\n",
       "      <td>2017-06-23 03:20:00</td>\n",
       "      <td>1</td>\n",
       "      <td>[[Katy Gallagher, 0.4996], [None, 0.4403], [Larissa Waters, 0.0601]]</td>\n",
       "      <td>[http://www.harpersbazaar.com/culture/features/a10212753/australian-politician-breastfeeding-baby-parliament/]</td>\n",
       "      <td>E</td>\n",
       "      <td>[Katherine Gallagher, Katherine Ruth Gallagher]</td>\n",
       "      <td>...</td>\n",
       "      <td>None</td>\n",
       "      <td>None</td>\n",
       "      <td>[Q82955, Q7019111, Q15627169]</td>\n",
       "      <td>[Q216082]</td>\n",
       "      <td>None</td>\n",
       "      <td>Q463507</td>\n",
       "      <td>Katy Gallagher</td>\n",
       "      <td>None</td>\n",
       "      <td>item</td>\n",
       "      <td>None</td>\n",
       "    </tr>\n",
       "  </tbody>\n",
       "</table>\n",
       "<p>3 rows × 24 columns</p>\n",
       "</div>"
      ],
      "text/plain": [
       "             quoteID  \\\n",
       "0  2015-03-09-004706   \n",
       "1  2017-05-11-081817   \n",
       "2  2017-06-23-130636   \n",
       "\n",
       "                                                                                                                                                                                                 quotation  \\\n",
       "0  Anything less than women winning 50 per cent of new seats will be a loss not only for a progressive city's progress towards true gender equality but it would also be a loss for good governance in ...   \n",
       "1                                                                                                                    more family-friendly and flexible workplaces, and affordable child care, for everyone   \n",
       "2                                                         We need more women and parents in Parliament. And we need more family-friendly and flexible workplaces, and affordable child care, for everyone.   \n",
       "\n",
       "          speaker     qids                date  numOccurrences  \\\n",
       "0  Katy Gallagher  Q463507 2015-03-09 12:30:00               1   \n",
       "1  Katy Gallagher  Q463507 2017-05-11 00:00:37               1   \n",
       "2  Katy Gallagher  Q463507 2017-06-23 03:20:00               1   \n",
       "\n",
       "                                                                 probas  \\\n",
       "0                            [[Katy Gallagher, 0.5872], [None, 0.4128]]   \n",
       "1                            [[Katy Gallagher, 0.5596], [None, 0.4404]]   \n",
       "2  [[Katy Gallagher, 0.4996], [None, 0.4403], [Larissa Waters, 0.0601]]   \n",
       "\n",
       "                                                                                                               urls  \\\n",
       "0  [http://www.smh.com.au/act-news/women-need-to-stand-for-election-in-the-act-katy-gallagher-20150309-13yuz2.html]   \n",
       "1                         [http://www.mediamaxnetwork.co.ke/news/325569/senator-breastfeeds-australian-parliament/]   \n",
       "2    [http://www.harpersbazaar.com/culture/features/a10212753/australian-politician-breastfeeding-baby-parliament/]   \n",
       "\n",
       "  phase                                          aliases  ... ethnic_group  \\\n",
       "0     E  [Katherine Gallagher, Katherine Ruth Gallagher]  ...         None   \n",
       "1     E  [Katherine Gallagher, Katherine Ruth Gallagher]  ...         None   \n",
       "2     E  [Katherine Gallagher, Katherine Ruth Gallagher]  ...         None   \n",
       "\n",
       "  US_congress_bio_ID                     occupation      party  \\\n",
       "0               None  [Q82955, Q7019111, Q15627169]  [Q216082]   \n",
       "1               None  [Q82955, Q7019111, Q15627169]  [Q216082]   \n",
       "2               None  [Q82955, Q7019111, Q15627169]  [Q216082]   \n",
       "\n",
       "  academic_degree       id           label candidacy  type religion  \n",
       "0            None  Q463507  Katy Gallagher      None  item     None  \n",
       "1            None  Q463507  Katy Gallagher      None  item     None  \n",
       "2            None  Q463507  Katy Gallagher      None  item     None  \n",
       "\n",
       "[3 rows x 24 columns]"
      ]
     },
     "execution_count": 16,
     "metadata": {},
     "output_type": "execute_result"
    }
   ],
   "source": [
    "merged_df.head(3)"
   ]
  },
  {
   "cell_type": "code",
   "execution_count": 17,
   "id": "f6f6c2ac",
   "metadata": {},
   "outputs": [
    {
     "name": "stdout",
     "output_type": "stream",
     "text": [
      "maximum number of QID entry for each of the new columns\n",
      "nationality : 5\n",
      "gender : 2\n",
      "ethnic_group : 6\n",
      "US_congress_bio_ID : 7\n",
      "occupation : 24\n",
      "party : 9\n",
      "academic_degree : 4\n",
      "id : 9\n",
      "label : 50\n",
      "candidacy : 13\n",
      "type : 4\n",
      "religion : 7\n"
     ]
    }
   ],
   "source": [
    "print('maximum number of QID entry for each of the new columns')\n",
    "print('nationality :', merged_df['nationality'].apply(lambda x : len(x) if x is not None else 0).max())\n",
    "print('gender :', merged_df['gender'].apply(lambda x : len(x) if x is not None else 0).max())\n",
    "print('ethnic_group :', merged_df['ethnic_group'].apply(lambda x : len(x) if x is not None else 0).max())\n",
    "print('US_congress_bio_ID :', merged_df['US_congress_bio_ID'].apply(lambda x : len(x) if x is not None else 0).max())\n",
    "print('occupation :', merged_df['occupation'].apply(lambda x : len(x) if x is not None else 0).max())\n",
    "print('party :', merged_df['party'].apply(lambda x : len(x) if x is not None else 0).max())\n",
    "print('academic_degree :', merged_df['academic_degree'].apply(lambda x : len(x) if x is not None else 0).max())\n",
    "print('id :', merged_df['id'].apply(lambda x : len(x) if x is not None else 0).max())\n",
    "print('label :', merged_df['label'].apply(lambda x : len(x) if x is not None else 0).max())\n",
    "print('candidacy :', merged_df['candidacy'].apply(lambda x : len(x) if x is not None else 0).max())\n",
    "print('type :', merged_df['type'].apply(lambda x : len(x) if x is not None else 0).max())\n",
    "print('religion :', merged_df['religion'].apply(lambda x : len(x) if x is not None else 0).max())"
   ]
  },
  {
   "cell_type": "markdown",
   "id": "df0c79e5",
   "metadata": {},
   "source": [
    "Additionally above we see a lot of columns contain multiple entries (a list of QID), for the ones containing QIDs, only the first entry is kept (first element of the list of QIDS)."
   ]
  },
  {
   "cell_type": "markdown",
   "id": "c96ea24f",
   "metadata": {},
   "source": [
    "Instead of manually checking we use library re to scan every column if there are QIDs. \n",
    "Most columns are composed of a numpy nd.array containing a tuple of strings, every string being a qid. So we first access the tuple, then take the first element, then check if it's a QID."
   ]
  },
  {
   "cell_type": "code",
   "execution_count": 18,
   "id": "0734a030",
   "metadata": {},
   "outputs": [],
   "source": [
    "import re"
   ]
  },
  {
   "cell_type": "code",
   "execution_count": 19,
   "id": "10e1049e",
   "metadata": {},
   "outputs": [],
   "source": [
    "def check_if_qid(df):\n",
    "    '''\n",
    "    take first term of list out of ndarray, and checks if it's a QID\n",
    "    '''\n",
    "    return df.apply(lambda x: x[0] if x is not None else None).str.contains(r'[Q][0-9]+').any()"
   ]
  },
  {
   "cell_type": "code",
   "execution_count": 20,
   "id": "e026c27a",
   "metadata": {
    "scrolled": true
   },
   "outputs": [
    {
     "name": "stdout",
     "output_type": "stream",
     "text": [
      "column : nationality  True\n",
      "column : gender  True\n",
      "column : ethnic_group  True\n",
      "column : US_congress_bio_ID  False\n",
      "column : occupation  True\n",
      "column : party  True\n",
      "column : academic_degree  True\n",
      "column : id  False\n",
      "column : label  False\n",
      "column : candidacy  True\n",
      "column : type  False\n",
      "column : religion  True\n"
     ]
    }
   ],
   "source": [
    "print('column : nationality ', check_if_qid(merged_df['nationality']))\n",
    "print('column : gender ', check_if_qid(merged_df['gender']))\n",
    "print('column : ethnic_group ', check_if_qid(merged_df['ethnic_group']))\n",
    "print('column : US_congress_bio_ID ', check_if_qid(merged_df['US_congress_bio_ID']))\n",
    "print('column : occupation ', check_if_qid(merged_df['occupation']))\n",
    "print('column : party ', check_if_qid(merged_df['party']))\n",
    "print('column : academic_degree ', check_if_qid(merged_df['academic_degree']))\n",
    "print('column : id ', check_if_qid(merged_df['id']))\n",
    "print('column : label ', check_if_qid(merged_df['label']))\n",
    "print('column : candidacy ', check_if_qid(merged_df['candidacy']))\n",
    "print('column : type ', check_if_qid(merged_df['type']))\n",
    "print('column : religion ', check_if_qid(merged_df['religion']))"
   ]
  },
  {
   "cell_type": "markdown",
   "id": "6aa17d37",
   "metadata": {},
   "source": [
    "We can see that some attributes are still in QID format so aren't readable, to translate them to readable labels we have two options, either `wikidata_labels_descriptions_quotebank.csv.bz2` or `wikidata_labels_descriptions.csv.bz2`. We will initally use the first option since it should contain all the labels we need for Quotebank."
   ]
  },
  {
   "cell_type": "code",
   "execution_count": 21,
   "id": "744b1b28",
   "metadata": {},
   "outputs": [
    {
     "name": "stdout",
     "output_type": "stream",
     "text": [
      "Wall time: 1.38 s\n"
     ]
    }
   ],
   "source": [
    "qids_onlyquotebank_path = PATH + \"wikidata_labels_descriptions_quotebank.csv.bz2\"\n",
    "column_names = ('nationality', 'gender', 'ethnic_group', 'occupation', 'party', 'academic_degree', 'religion')\n",
    "%time merged_df = qid_to_label(merged_df, qids_onlyquotebank_path, column_names)"
   ]
  },
  {
   "cell_type": "code",
   "execution_count": 22,
   "id": "c6151340",
   "metadata": {
    "scrolled": true
   },
   "outputs": [
    {
     "data": {
      "text/html": [
       "<div>\n",
       "<style scoped>\n",
       "    .dataframe tbody tr th:only-of-type {\n",
       "        vertical-align: middle;\n",
       "    }\n",
       "\n",
       "    .dataframe tbody tr th {\n",
       "        vertical-align: top;\n",
       "    }\n",
       "\n",
       "    .dataframe thead th {\n",
       "        text-align: right;\n",
       "    }\n",
       "</style>\n",
       "<table border=\"1\" class=\"dataframe\">\n",
       "  <thead>\n",
       "    <tr style=\"text-align: right;\">\n",
       "      <th></th>\n",
       "      <th>quoteID</th>\n",
       "      <th>quotation</th>\n",
       "      <th>speaker</th>\n",
       "      <th>qids</th>\n",
       "      <th>date</th>\n",
       "      <th>numOccurrences</th>\n",
       "      <th>probas</th>\n",
       "      <th>urls</th>\n",
       "      <th>phase</th>\n",
       "      <th>aliases</th>\n",
       "      <th>...</th>\n",
       "      <th>ethnic_group</th>\n",
       "      <th>US_congress_bio_ID</th>\n",
       "      <th>occupation</th>\n",
       "      <th>party</th>\n",
       "      <th>academic_degree</th>\n",
       "      <th>id</th>\n",
       "      <th>label</th>\n",
       "      <th>candidacy</th>\n",
       "      <th>type</th>\n",
       "      <th>religion</th>\n",
       "    </tr>\n",
       "  </thead>\n",
       "  <tbody>\n",
       "    <tr>\n",
       "      <th>0</th>\n",
       "      <td>2015-03-09-004706</td>\n",
       "      <td>Anything less than women winning 50 per cent of new seats will be a loss not only for a progressive city's progress towards true gender equality but it would also be a loss for good governance in ...</td>\n",
       "      <td>Katy Gallagher</td>\n",
       "      <td>Q463507</td>\n",
       "      <td>2015-03-09 12:30:00</td>\n",
       "      <td>1</td>\n",
       "      <td>[[Katy Gallagher, 0.5872], [None, 0.4128]]</td>\n",
       "      <td>[http://www.smh.com.au/act-news/women-need-to-stand-for-election-in-the-act-katy-gallagher-20150309-13yuz2.html]</td>\n",
       "      <td>E</td>\n",
       "      <td>[Katherine Gallagher, Katherine Ruth Gallagher]</td>\n",
       "      <td>...</td>\n",
       "      <td>NaN</td>\n",
       "      <td>None</td>\n",
       "      <td>politician</td>\n",
       "      <td>Australian Labor Party</td>\n",
       "      <td>NaN</td>\n",
       "      <td>Q463507</td>\n",
       "      <td>Katy Gallagher</td>\n",
       "      <td>None</td>\n",
       "      <td>item</td>\n",
       "      <td>NaN</td>\n",
       "    </tr>\n",
       "    <tr>\n",
       "      <th>1</th>\n",
       "      <td>2017-05-11-081817</td>\n",
       "      <td>more family-friendly and flexible workplaces, and affordable child care, for everyone</td>\n",
       "      <td>Katy Gallagher</td>\n",
       "      <td>Q463507</td>\n",
       "      <td>2017-05-11 00:00:37</td>\n",
       "      <td>1</td>\n",
       "      <td>[[Katy Gallagher, 0.5596], [None, 0.4404]]</td>\n",
       "      <td>[http://www.mediamaxnetwork.co.ke/news/325569/senator-breastfeeds-australian-parliament/]</td>\n",
       "      <td>E</td>\n",
       "      <td>[Katherine Gallagher, Katherine Ruth Gallagher]</td>\n",
       "      <td>...</td>\n",
       "      <td>NaN</td>\n",
       "      <td>None</td>\n",
       "      <td>politician</td>\n",
       "      <td>Australian Labor Party</td>\n",
       "      <td>NaN</td>\n",
       "      <td>Q463507</td>\n",
       "      <td>Katy Gallagher</td>\n",
       "      <td>None</td>\n",
       "      <td>item</td>\n",
       "      <td>NaN</td>\n",
       "    </tr>\n",
       "    <tr>\n",
       "      <th>2</th>\n",
       "      <td>2017-06-23-130636</td>\n",
       "      <td>We need more women and parents in Parliament. And we need more family-friendly and flexible workplaces, and affordable child care, for everyone.</td>\n",
       "      <td>Katy Gallagher</td>\n",
       "      <td>Q463507</td>\n",
       "      <td>2017-06-23 03:20:00</td>\n",
       "      <td>1</td>\n",
       "      <td>[[Katy Gallagher, 0.4996], [None, 0.4403], [Larissa Waters, 0.0601]]</td>\n",
       "      <td>[http://www.harpersbazaar.com/culture/features/a10212753/australian-politician-breastfeeding-baby-parliament/]</td>\n",
       "      <td>E</td>\n",
       "      <td>[Katherine Gallagher, Katherine Ruth Gallagher]</td>\n",
       "      <td>...</td>\n",
       "      <td>NaN</td>\n",
       "      <td>None</td>\n",
       "      <td>politician</td>\n",
       "      <td>Australian Labor Party</td>\n",
       "      <td>NaN</td>\n",
       "      <td>Q463507</td>\n",
       "      <td>Katy Gallagher</td>\n",
       "      <td>None</td>\n",
       "      <td>item</td>\n",
       "      <td>NaN</td>\n",
       "    </tr>\n",
       "    <tr>\n",
       "      <th>3</th>\n",
       "      <td>2015-04-24-025718</td>\n",
       "      <td>I'd like to congratulate all the winners and finalists on their success. They have demonstrated clear leadership by moving women's progression from a `diversity' initiative to a core business prio...</td>\n",
       "      <td>Helena Morrissey</td>\n",
       "      <td>Q23762081</td>\n",
       "      <td>2015-04-24 15:33:00</td>\n",
       "      <td>1</td>\n",
       "      <td>[[Helena Morrissey, 0.8706], [None, 0.1294]]</td>\n",
       "      <td>[http://www.cipd.co.uk/PM/peoplemanagement/b/weblog/archive/2015/04/24/winners-unveiled-at-opportunity-now-s-women-and-work-awards-2015.aspx]</td>\n",
       "      <td>E</td>\n",
       "      <td>None</td>\n",
       "      <td>...</td>\n",
       "      <td>NaN</td>\n",
       "      <td>None</td>\n",
       "      <td>business executive</td>\n",
       "      <td>NaN</td>\n",
       "      <td>NaN</td>\n",
       "      <td>Q23762081</td>\n",
       "      <td>Helena Morrissey</td>\n",
       "      <td>None</td>\n",
       "      <td>item</td>\n",
       "      <td>NaN</td>\n",
       "    </tr>\n",
       "    <tr>\n",
       "      <th>4</th>\n",
       "      <td>2015-04-08-011609</td>\n",
       "      <td>Clearly we have got a long way to go before we have true gender equality at all levels,</td>\n",
       "      <td>Helena Morrissey</td>\n",
       "      <td>Q23762081</td>\n",
       "      <td>2015-04-08 18:28:01</td>\n",
       "      <td>1</td>\n",
       "      <td>[[Helena Morrissey, 0.5805], [None, 0.2061], [Vince Cable, 0.1981], [Mervyn Davies, 0.0153]]</td>\n",
       "      <td>[http://feeds.theguardian.com/c/34708/f/663879/s/4538fae0/sc/28/l/0L0Stheguardian0N0Cbusiness0C20A150Capr0C0A80Cgreater0Eeconomic0Eand0Epolitical0Epower0Egives0Ewomen0Emore0Eseats0Ein0Eboadroom/st...</td>\n",
       "      <td>E</td>\n",
       "      <td>None</td>\n",
       "      <td>...</td>\n",
       "      <td>NaN</td>\n",
       "      <td>None</td>\n",
       "      <td>business executive</td>\n",
       "      <td>NaN</td>\n",
       "      <td>NaN</td>\n",
       "      <td>Q23762081</td>\n",
       "      <td>Helena Morrissey</td>\n",
       "      <td>None</td>\n",
       "      <td>item</td>\n",
       "      <td>NaN</td>\n",
       "    </tr>\n",
       "  </tbody>\n",
       "</table>\n",
       "<p>5 rows × 24 columns</p>\n",
       "</div>"
      ],
      "text/plain": [
       "             quoteID  \\\n",
       "0  2015-03-09-004706   \n",
       "1  2017-05-11-081817   \n",
       "2  2017-06-23-130636   \n",
       "3  2015-04-24-025718   \n",
       "4  2015-04-08-011609   \n",
       "\n",
       "                                                                                                                                                                                                 quotation  \\\n",
       "0  Anything less than women winning 50 per cent of new seats will be a loss not only for a progressive city's progress towards true gender equality but it would also be a loss for good governance in ...   \n",
       "1                                                                                                                    more family-friendly and flexible workplaces, and affordable child care, for everyone   \n",
       "2                                                         We need more women and parents in Parliament. And we need more family-friendly and flexible workplaces, and affordable child care, for everyone.   \n",
       "3  I'd like to congratulate all the winners and finalists on their success. They have demonstrated clear leadership by moving women's progression from a `diversity' initiative to a core business prio...   \n",
       "4                                                                                                                  Clearly we have got a long way to go before we have true gender equality at all levels,   \n",
       "\n",
       "            speaker       qids                date  numOccurrences  \\\n",
       "0    Katy Gallagher    Q463507 2015-03-09 12:30:00               1   \n",
       "1    Katy Gallagher    Q463507 2017-05-11 00:00:37               1   \n",
       "2    Katy Gallagher    Q463507 2017-06-23 03:20:00               1   \n",
       "3  Helena Morrissey  Q23762081 2015-04-24 15:33:00               1   \n",
       "4  Helena Morrissey  Q23762081 2015-04-08 18:28:01               1   \n",
       "\n",
       "                                                                                         probas  \\\n",
       "0                                                    [[Katy Gallagher, 0.5872], [None, 0.4128]]   \n",
       "1                                                    [[Katy Gallagher, 0.5596], [None, 0.4404]]   \n",
       "2                          [[Katy Gallagher, 0.4996], [None, 0.4403], [Larissa Waters, 0.0601]]   \n",
       "3                                                  [[Helena Morrissey, 0.8706], [None, 0.1294]]   \n",
       "4  [[Helena Morrissey, 0.5805], [None, 0.2061], [Vince Cable, 0.1981], [Mervyn Davies, 0.0153]]   \n",
       "\n",
       "                                                                                                                                                                                                      urls  \\\n",
       "0                                                                                         [http://www.smh.com.au/act-news/women-need-to-stand-for-election-in-the-act-katy-gallagher-20150309-13yuz2.html]   \n",
       "1                                                                                                                [http://www.mediamaxnetwork.co.ke/news/325569/senator-breastfeeds-australian-parliament/]   \n",
       "2                                                                                           [http://www.harpersbazaar.com/culture/features/a10212753/australian-politician-breastfeeding-baby-parliament/]   \n",
       "3                                                            [http://www.cipd.co.uk/PM/peoplemanagement/b/weblog/archive/2015/04/24/winners-unveiled-at-opportunity-now-s-women-and-work-awards-2015.aspx]   \n",
       "4  [http://feeds.theguardian.com/c/34708/f/663879/s/4538fae0/sc/28/l/0L0Stheguardian0N0Cbusiness0C20A150Capr0C0A80Cgreater0Eeconomic0Eand0Epolitical0Epower0Egives0Ewomen0Emore0Eseats0Ein0Eboadroom/st...   \n",
       "\n",
       "  phase                                          aliases  ... ethnic_group  \\\n",
       "0     E  [Katherine Gallagher, Katherine Ruth Gallagher]  ...          NaN   \n",
       "1     E  [Katherine Gallagher, Katherine Ruth Gallagher]  ...          NaN   \n",
       "2     E  [Katherine Gallagher, Katherine Ruth Gallagher]  ...          NaN   \n",
       "3     E                                             None  ...          NaN   \n",
       "4     E                                             None  ...          NaN   \n",
       "\n",
       "  US_congress_bio_ID          occupation                   party  \\\n",
       "0               None          politician  Australian Labor Party   \n",
       "1               None          politician  Australian Labor Party   \n",
       "2               None          politician  Australian Labor Party   \n",
       "3               None  business executive                     NaN   \n",
       "4               None  business executive                     NaN   \n",
       "\n",
       "  academic_degree         id             label candidacy  type religion  \n",
       "0             NaN    Q463507    Katy Gallagher      None  item      NaN  \n",
       "1             NaN    Q463507    Katy Gallagher      None  item      NaN  \n",
       "2             NaN    Q463507    Katy Gallagher      None  item      NaN  \n",
       "3             NaN  Q23762081  Helena Morrissey      None  item      NaN  \n",
       "4             NaN  Q23762081  Helena Morrissey      None  item      NaN  \n",
       "\n",
       "[5 rows x 24 columns]"
      ]
     },
     "execution_count": 22,
     "metadata": {},
     "output_type": "execute_result"
    }
   ],
   "source": [
    "merged_df.head()"
   ]
  },
  {
   "cell_type": "markdown",
   "id": "c4e74799",
   "metadata": {},
   "source": [
    "Finally we check one last time if all the QIDs have been replaced :"
   ]
  },
  {
   "cell_type": "code",
   "execution_count": 23,
   "id": "99a7fa5a",
   "metadata": {},
   "outputs": [
    {
     "name": "stdout",
     "output_type": "stream",
     "text": [
      "column : nationality  False\n",
      "column : gender  False\n",
      "column : ethnic_group  False\n",
      "column : US_congress_bio_ID  False\n",
      "column : occupation  False\n",
      "column : party  False\n",
      "column : academic_degree  False\n",
      "column : id  True\n",
      "column : label  False\n",
      "column : candidacy  False\n",
      "column : type  False\n",
      "column : religion  False\n"
     ]
    }
   ],
   "source": [
    "check_df_columns_if_qid(merged_df)"
   ]
  },
  {
   "cell_type": "markdown",
   "id": "5dbc4fa9",
   "metadata": {},
   "source": [
    "Just incase the `wikidata_labels_descriptions_quotebank.csv.bz2` file didn't contain all the QID we needed the `process_qid_one(path_to_file, qids_clean, chunksize = 10 ** 4)` function can be use to translate the QIDS to labels using the larger file `wikidata_labels_descriptions.csv.bz2` containing all the wikidata QIDs and their corresponding labels / description. The function was made to be able to use chunks of the larger file containing the labels, and do left join on every new chunk while keeping the previous merged dataframe."
   ]
  },
  {
   "cell_type": "markdown",
   "id": "4cd51c36-03d4-43cb-8b6c-768f9be8bac5",
   "metadata": {},
   "source": [
    "## Topic Modeling"
   ]
  },
  {
   "cell_type": "markdown",
   "id": "e02170f7-f042-457d-ba99-e6bd24b2cf71",
   "metadata": {},
   "source": [
    "Topic Modeling allows us to find topics with our data. From a collection of quotes, we can seperate our data into topics and label the quotes with these topics."
   ]
  },
  {
   "cell_type": "code",
   "execution_count": 16,
   "id": "5816970c",
   "metadata": {},
   "outputs": [],
   "source": [
    "import pandas as pd\n",
    "import numpy as np\n",
    "import os\n",
    "import csv\n",
    "import time\n",
    "from sentence_transformers import SentenceTransformer, util\n",
    "from sklearn.cluster import KMeans\n",
    "import matplotlib.pyplot as plt\n",
    "import umap"
   ]
  },
  {
   "cell_type": "markdown",
   "id": "cc542dbe-b9fc-4370-a568-ecd8d33109f1",
   "metadata": {},
   "source": [
    "First, we encode our data using a sentence transformer."
   ]
  },
  {
   "cell_type": "code",
   "execution_count": 17,
   "id": "69488e13",
   "metadata": {},
   "outputs": [
    {
     "data": {
      "application/vnd.jupyter.widget-view+json": {
       "model_id": "e2cc8df7773a41a598508c2459762c39",
       "version_major": 2,
       "version_minor": 0
      },
      "text/plain": [
       "Batches:   0%|          | 0/2724 [00:00<?, ?it/s]"
      ]
     },
     "metadata": {},
     "output_type": "display_data"
    }
   ],
   "source": [
    "# Performing data encoding before clustering (you may need to install ipywidgets)\n",
    "embedder = SentenceTransformer('all-MiniLM-L6-v2')\n",
    "embeddings = embedder.encode(df['quotation'], show_progress_bar=True)\n",
    "df_embeddings = embedder.encode(df['quotation'])"
   ]
  },
  {
   "cell_type": "markdown",
   "id": "90bc7747-9fd1-4366-a28a-f7d2cc2ef99c",
   "metadata": {},
   "source": [
    "Then, we divide our data into clusters. This operation does not require us to know the topics in our data. However, we need to give the number of clusters. This parameter is set to 30 for now but it will have to be optimized."
   ]
  },
  {
   "cell_type": "code",
   "execution_count": 20,
   "id": "0673d1ae",
   "metadata": {},
   "outputs": [],
   "source": [
    "# Performing kmean clustering with 30 clusters (the number of clusters will have to be tuned)\n",
    "num_clusters_30 = 30 #This parameter must be optimized\n",
    "clustering_model_30 = KMeans(n_clusters=num_clusters_30)\n",
    "clustering_model_30.fit(df_embeddings)\n",
    "cluster_assignment_30 = clustering_model_30.labels_\n",
    "\n",
    "clustered_sentences_30 = [[] for i in range(num_clusters_30)]\n",
    "for sentence_id, cluster_id in enumerate(cluster_assignment_30):\n",
    "    clustered_sentences_30[cluster_id].append(df['quotation'][sentence_id])"
   ]
  },
  {
   "cell_type": "markdown",
   "id": "de857040-4dcd-47a0-81a6-b863d5966ded",
   "metadata": {},
   "source": [
    "Finally, we can compare the similarities between pairs of sentences. This helps us determine if we have chosen the right amount of clusters and see if there are any duplicates. With the top five most similar pairs, we can see that there are still duplicates in our data. With the top five least similar pairs, we can see that all sentences are somewhat about the same topic (positive values)."
   ]
  },
  {
   "cell_type": "code",
   "execution_count": 22,
   "id": "3dd38663",
   "metadata": {},
   "outputs": [
    {
     "name": "stdout",
     "output_type": "stream",
     "text": [
      "Top-5 most similar pairs:\n",
      "How should fans of the new york liberty reconcile your position with that team and the sexual harassment history with you back in your days with the knicks? \t How should fans of the New York Liberty reconcile your position with that team and the sexual harassment history of you back in your days with the Knicks? \t 0.9994\n",
      "Bill Cosby appears to be going to war against women who have sued him in Massachusetts and who allege that he has victimized them, \t Bill Cosby appears to be going to war against women who have sued him in Massachusetts and who allege that he has victimised them, \t 0.9988\n",
      "Emilio's character engaged in what we regard (now) as hazing. Since sexual harassment happened, he would be in a Title IX lawsuit for years. \t Emilio's character engaged in what we regard as hazing. Since sexual harassment happened, he would be in a Title IX lawsuit for years. \t 0.9913\n",
      "Bill Cosby appears to be going to war against women who have sued him in Massachusetts and who allege that he has victimized them, \t Bill Cosby appears to be going to war against women who have sued him in Massachusetts and who allege that he has victimized [ sic ] them, \t 0.9800\n",
      "Bill Cosby appears to be going to war against women who have sued him in Massachusetts and who allege that he has victimised them, \t Bill Cosby appears to be going to war against women who have sued him in Massachusetts and who allege that he has victimized [ sic ] them, \t 0.9799\n"
     ]
    }
   ],
   "source": [
    "# Comparing the similarities between the first 100 sentences of the first cluster\n",
    "model = SentenceTransformer('all-MiniLM-L6-v2')\n",
    "sentences = clustered_sentences_30[0][0:100]\n",
    "embeddings_sentences = model.encode(sentences)\n",
    "\n",
    "# Compute cosine similarity between all pairs\n",
    "cos_sim = util.cos_sim(embeddings_sentences, embeddings_sentences)\n",
    "\n",
    "# Add all pairs to a list with their cosine similarity score\n",
    "all_sentence_combinations = []\n",
    "for i in range(len(cos_sim)-1):\n",
    "    for j in range(i+1, len(cos_sim)):\n",
    "        all_sentence_combinations.append([cos_sim[i][j], i, j])\n",
    "\n",
    "# Sort list by the highest cosine similarity score\n",
    "all_sentence_combinations = sorted(all_sentence_combinations, key=lambda x: x[0], reverse=True)\n",
    "\n",
    "print(\"Top-5 most similar pairs:\")\n",
    "for score, i, j in all_sentence_combinations[0:5]:\n",
    "    print(\"{} \\t {} \\t {:.4f}\".format(sentences[i], sentences[j], cos_sim[i][j]))"
   ]
  },
  {
   "cell_type": "code",
   "execution_count": 23,
   "id": "e9977b40-5963-409b-b520-0a7e125bfad4",
   "metadata": {},
   "outputs": [
    {
     "name": "stdout",
     "output_type": "stream",
     "text": [
      "Top-5 least similar pairs:\n",
      "Major corporations have faced resistance when they've gone, or considered going, completely virtual in the past. Several years ago, Intel explored taking its meeting completely virtual and Procter & Gamble amended its bylaws to allow such meetings, only to backtrack after objections from shareholders. After Symantec hosted an online-only meeting in 2010 and heard complaints, it switched to a hybrid format.... `Face time is still important,' says Natasha Lamb, director of equity research and shareholder engagement for Arjuna Capital, which has filed shareholder proposals on issues including equal pay and carbon asset risks. While she supports the concept of hybrid meetings, `if you're creating a virtual-only vacuum that becomes an echo chamber of management's ideas, that's a terrible idea. ' \t The city has a homicide rate higher than New York and Chicago. Last year, Miami Gardens earned the title of the Stop-and-Frisk Capital of America' ... police officers had detained 56,992 people -- half of the city's population -- between 2008 and 2014. In February, a mentally ill man died after two cops tasered and shot him. Two weeks ago, Broward County Sheriff's deputies busted Miami Gardens Police Chief Stephen Johnson trying to buy two hookers. And WPLG recently reported that City Manager Cameron Benson's pick for interim chief, Antonio Brooklen, was accused of sexual harassment by a former crime scene technician. \t 0.0024\n",
      "multiple images of Rivera and his family, text messages from Rivera to his girlfriend, and emails from Rivera concerning employment related to child care, \t opposed what she reasonably viewed as a sexually hostile environment toward women who complained of sexual assault and sexual harassment at Harvard. \t 0.0044\n",
      "multiple images of Rivera and his family, text messages from Rivera to his girlfriend, and emails from Rivera concerning employment related to child care, \t There is no merit whatsoever to her allegations of discrimination or retaliation. Any advocacy on Dr. Theidon's part on behalf of victims of sexual harassment and sexual assault at Harvard was not known, let alone considered, as part of the University's decision on her tenure case. Moreover, such advocacy would never adversely affect a tenure decision at Harvard. \t 0.0118\n",
      "Major corporations have faced resistance when they've gone, or considered going, completely virtual in the past. Several years ago, Intel explored taking its meeting completely virtual and Procter & Gamble amended its bylaws to allow such meetings, only to backtrack after objections from shareholders. After Symantec hosted an online-only meeting in 2010 and heard complaints, it switched to a hybrid format.... `Face time is still important,' says Natasha Lamb, director of equity research and shareholder engagement for Arjuna Capital, which has filed shareholder proposals on issues including equal pay and carbon asset risks. While she supports the concept of hybrid meetings, `if you're creating a virtual-only vacuum that becomes an echo chamber of management's ideas, that's a terrible idea. ' \t He instructed the angels on what should be reported on the false tax returns as far as income amounts, withholding, expenses such as child care credits and education. And they went ahead and prepared and filed the returns to the IRS and ultimately refunds were issued for some of the returns that were filed, \t 0.0129\n",
      "Mr. Clinton's settlement with Paula Jones in 1999, in which he paid $850,000 to settle Ms. Jones' claims of sexual harassment, is an admission of guilt by the former president. \t With apologies to Felix and Oscar, the guys who make up sports' foremost odd couple are named Isiah Thomas and James Dolan... that they are together again just eight years after their expensive involvement in a sexual harassment lawsuit is one of the great surprises in all of sports. \t 0.0164\n"
     ]
    }
   ],
   "source": [
    "print(\"Top-5 least similar pairs:\")\n",
    "for score, i, j in all_sentence_combinations[-1:-6:-1]:\n",
    "    print(\"{} \\t {} \\t {:.4f}\".format(sentences[i], sentences[j], cos_sim[i][j]))"
   ]
  },
  {
   "cell_type": "markdown",
   "id": "c7528888-6298-4498-b0d1-17e80c10974e",
   "metadata": {},
   "source": [
    "We can also visualize our data. This can help us estimate the number of clusters. For instance, we can notice that there are five or six big clusters. However, these individual clusters could have sub-topics within them."
   ]
  },
  {
   "cell_type": "markdown",
   "id": "a9c7d0f8-d81c-4298-951d-ef36bd3ad8c0",
   "metadata": {},
   "source": [
    "### Visualization"
   ]
  },
  {
   "cell_type": "code",
   "execution_count": 25,
   "id": "e1407130-3330-40cb-baca-1914bdd055e1",
   "metadata": {},
   "outputs": [
    {
     "data": {
      "text/plain": [
       "<matplotlib.colorbar.Colorbar at 0x1a9668710d0>"
      ]
     },
     "execution_count": 25,
     "metadata": {},
     "output_type": "execute_result"
    },
    {
     "data": {
      "image/png": "[encoded data removed]",
      "text/plain": [
       "<Figure size 1440x720 with 2 Axes>"
      ]
     },
     "metadata": {
      "needs_background": "light"
     },
     "output_type": "display_data"
    }
   ],
   "source": [
    "# Reducing the dimension of the data set to 2D for visualization using Umap\n",
    "umap_data = umap.UMAP(n_neighbors=15, n_components=2, min_dist=0.0, metric='cosine').fit_transform(embeddings)\n",
    "result = pd.DataFrame(umap_data, columns=['x', 'y'])\n",
    "result['labels'] = clustering_model_30.labels_\n",
    "\n",
    "# Visualizing the clusters\n",
    "fig, ax = plt.subplots(figsize=(20, 10))\n",
    "outliers = result.loc[result.labels == -1, :]\n",
    "clustered = result.loc[result.labels != -1, :]\n",
    "plt.scatter(outliers.x, outliers.y, color='#BDBDBD', s=0.05)\n",
    "plt.scatter(clustered.x, clustered.y, c=clustered.labels, s=0.05, cmap='hsv_r')\n",
    "plt.colorbar()"
   ]
  },
  {
   "cell_type": "markdown",
   "id": "ccbbca30",
   "metadata": {},
   "source": [
    "## Sentiment Analysis"
   ]
  },
  {
   "cell_type": "markdown",
   "id": "3c43588a",
   "metadata": {},
   "source": [
    "For a first step, sentiment analysis using Vader will be done. We could potentially use other tools such as the current state of the art in sentiment analysis and text classification XLNet, or otherwise DeepMoji or Flair."
   ]
  },
  {
   "cell_type": "code",
   "execution_count": 7,
   "id": "711f32d6",
   "metadata": {},
   "outputs": [
    {
     "name": "stderr",
     "output_type": "stream",
     "text": [
      "[nltk_data] Downloading package vader_lexicon to\n",
      "[nltk_data]     C:\\Users\\Younes\\AppData\\Roaming\\nltk_data...\n",
      "[nltk_data]   Package vader_lexicon is already up-to-date!\n"
     ]
    }
   ],
   "source": [
    "import nltk\n",
    "nltk.download('vader_lexicon')\n",
    "from nltk.sentiment.vader import SentimentIntensityAnalyzer\n",
    "sid = SentimentIntensityAnalyzer()\n",
    "import seaborn as sns"
   ]
  },
  {
   "cell_type": "code",
   "execution_count": 8,
   "id": "ca194679",
   "metadata": {},
   "outputs": [],
   "source": [
    "def sentiment_plot(scores):\n",
    "    '''\n",
    "    This function plots the polarity score for every word in a quote\n",
    "    inputs : dict containing the polarity score for the whole sentence, \n",
    "    and the one for every word of the sentence\n",
    "    outputs : the plot\n",
    "    '''\n",
    "    sns.set(rc={'figure.figsize':(20,3)})\n",
    "    sns.heatmap(pd.DataFrame(scores).set_index(\"quotation\").T,center=0, annot=True, cmap = \"PiYG\",annot_kws={\"size\": 10})"
   ]
  },
  {
   "cell_type": "code",
   "execution_count": 22,
   "id": "dfaf8ae6",
   "metadata": {},
   "outputs": [],
   "source": [
    "quotation = df['quotation'].loc[1]"
   ]
  },
  {
   "cell_type": "code",
   "execution_count": 23,
   "id": "7c4e76d3",
   "metadata": {},
   "outputs": [
    {
     "data": {
      "text/plain": [
       "{'neg': 0.0, 'neu': 0.698, 'pos': 0.302, 'compound': 0.946}"
      ]
     },
     "execution_count": 23,
     "metadata": {},
     "output_type": "execute_result"
    }
   ],
   "source": [
    "sid.polarity_scores(quotation)"
   ]
  },
  {
   "cell_type": "code",
   "execution_count": 24,
   "id": "e42ad9ba",
   "metadata": {},
   "outputs": [
    {
     "data": {
      "image/png": "[encoded data removed]",
      "text/plain": [
       "<Figure size 1440x216 with 2 Axes>"
      ]
     },
     "metadata": {},
     "output_type": "display_data"
    }
   ],
   "source": [
    "sentiment_plot({\n",
    "    \"quotation\":[\"Quotation\"] + quotation.split(),\n",
    "    \"Sentiment\":[sid.polarity_scores(quotation)[\"compound\"]] + [sid.polarity_scores(word)[\"compound\"] for word in quotation.split()]\n",
    "})"
   ]
  },
  {
   "cell_type": "markdown",
   "id": "31cb60c7",
   "metadata": {},
   "source": [
    "After selecting a cluster from the previous section, representing people speaking about women's rights, we could seperate the speakers in function of their political party, and then calculate the average of the compound score (from Vader) on their quotes. Maybe we will find a relation between the compound score and the general opinion of the party."
   ]
  },
  {
   "cell_type": "markdown",
   "id": "5c9e9a1e",
   "metadata": {},
   "source": [
    "## Data cleaning"
   ]
  },
  {
   "cell_type": "markdown",
   "id": "7e774d35",
   "metadata": {},
   "source": [
    "Two kinds of issues regarding quotations were mentioned by the TA's, HTML tags and dates were present in some quotations, to solve these issues two functions were writte: "
   ]
  },
  {
   "cell_type": "code",
   "execution_count": 28,
   "id": "a78bb737",
   "metadata": {},
   "outputs": [],
   "source": [
    "def remove_html_tags(df,column='quotation'):\n",
    "    '''\n",
    "    A function to drop rows where the quotation contains html tags.\n",
    "    This function uses regular expressions and will remove a full \n",
    "    html tag like \"< text >\" or a partial one such as \"< text\" or \"text >\"\n",
    "    \n",
    "    Inputs : dataframe that has a column named quotations\n",
    "    Outputs : same dataframe but with the rows where quotations contain html tags are dropped\n",
    "    '''\n",
    "    return df[~df[column].str.contains('|'.join(('.*?>', '<.*?', '<.*?>')))]"
   ]
  },
  {
   "cell_type": "markdown",
   "id": "3b872efd",
   "metadata": {},
   "source": [
    "Since the dates in the quotes don't seem to be a problem, and our current method to parse dates sometimes give a memory overflow, we currently won't be removing them but will remove only the html "
   ]
  }
 ],
 "metadata": {
  "kernelspec": {
   "display_name": "Python 3 (ipykernel)",
   "language": "python",
   "name": "python3"
  },
  "language_info": {
   "codemirror_mode": {
    "name": "ipython",
    "version": 3
   },
   "file_extension": ".py",
   "mimetype": "text/x-python",
   "name": "python",
   "nbconvert_exporter": "python",
   "pygments_lexer": "ipython3",
   "version": "3.8.11"
  }
 },
 "nbformat": 4,
 "nbformat_minor": 5
}
