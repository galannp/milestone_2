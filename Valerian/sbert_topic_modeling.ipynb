{
 "cells": [
  {
   "cell_type": "code",
   "execution_count": 19,
   "id": "33bfbc76-fd6b-4eb7-a21d-7876fee102ae",
   "metadata": {},
   "outputs": [],
   "source": [
    "import pandas as pd\n",
    "import numpy as np\n",
    "import os\n",
    "import csv\n",
    "import time\n",
    "from sentence_transformers import SentenceTransformer, util\n",
    "from sklearn.cluster import KMeans\n",
    "import matplotlib.pyplot as plt"
   ]
  },
  {
   "cell_type": "code",
   "execution_count": 41,
   "id": "e36bd1b5-67b7-472b-a2c8-770b0570dedc",
   "metadata": {},
   "outputs": [],
   "source": [
    "from sklearn.datasets import fetch_20newsgroups\n",
    "#data = fetch_20newsgroups(subset='all')['data']\n",
    "data = pd.read_json('../Valerian/Data_sample/quotes-2019-nytimes.json.bz2', lines=True, compression='bz2')"
   ]
  },
  {
   "cell_type": "code",
   "execution_count": 46,
   "id": "0cf7e5de-5af7-4a4f-a2e8-737ea55af703",
   "metadata": {},
   "outputs": [],
   "source": [
    "embedder = SentenceTransformer('all-MiniLM-L6-v2')\n",
    "embeddings = model.encode(data['quotation'], show_progress_bar=True)\n",
    "data_embeddings = embedder.encode(data['quotation'])\n",
    "\n",
    "# Perform kmean clustering\n",
    "num_clusters = 20 #to be determined\n",
    "clustering_model = KMeans(n_clusters=num_clusters)\n",
    "clustering_model.fit(data_embeddings)\n",
    "cluster_assignment = clustering_model.labels_\n",
    "\n",
    "clustered_sentences = [[] for i in range(num_clusters)]\n",
    "for sentence_id, cluster_id in enumerate(cluster_assignment):\n",
    "    clustered_sentences[cluster_id].append(data['quotation'][sentence_id])\n",
    "\n",
    "#for i, cluster in enumerate(clustered_sentences):\n",
    "#    print(\"Cluster \", i+1)\n",
    "#    print(cluster)\n",
    "#    print(\"\")\n",
    "\n",
    "#print(clustered_sentences[0])"
   ]
  },
  {
   "cell_type": "code",
   "execution_count": 47,
   "id": "82c7fa0a-1e12-496c-b9e4-145dcc8e9687",
   "metadata": {},
   "outputs": [],
   "source": [
    "# Prepare data\n",
    "#result = pd.DataFrame(clustering_model.fit(data_embeddings))\n",
    "result = pd.DataFrame({\"labels\" : cluster_assignment})\n",
    "#result['labels'] = clustering_model.labels_\n",
    "\n",
    "# Visualize clusters\n",
    "#fig, ax = plt.subplots(figsize=(20, 10))\n",
    "#outliers = result.loc[result.labels == -1, :]\n",
    "#clustered = result.loc[result.labels != -1, :]\n",
    "#plt.scatter(outliers.x, outliers.y, color='#BDBDBD', s=0.05)\n",
    "#plt.scatter(clustered.x, clustered.y, c=clustered.labels, s=0.05, cmap='hsv_r')\n",
    "#plt.colorbar()"
   ]
  },
  {
   "cell_type": "code",
   "execution_count": null,
   "id": "bd0e847a-5769-4e2e-8a3d-a837fd41b9c1",
   "metadata": {},
   "outputs": [],
   "source": []
  }
 ],
 "metadata": {
  "kernelspec": {
   "display_name": "Python 3 (ipykernel)",
   "language": "python",
   "name": "python3"
  },
  "language_info": {
   "codemirror_mode": {
    "name": "ipython",
    "version": 3
   },
   "file_extension": ".py",
   "mimetype": "text/x-python",
   "name": "python",
   "nbconvert_exporter": "python",
   "pygments_lexer": "ipython3",
   "version": "3.8.11"
  }
 },
 "nbformat": 4,
 "nbformat_minor": 5
}
